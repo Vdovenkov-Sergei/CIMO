{
  "cells": [
    {
      "cell_type": "markdown",
      "metadata": {
        "id": "Bf_bAOUrGwuZ"
      },
      "source": [
        "# Изучение и обучение RecSys (**CIMO**)"
      ]
    },
    {
      "cell_type": "code",
      "source": [
        "!pip install torch_geometric"
      ],
      "metadata": {
        "colab": {
          "base_uri": "https://localhost:8080/"
        },
        "collapsed": true,
        "id": "DyUxt3g-IFNe",
        "outputId": "17f3b420-a183-4245-9ff8-1b8f473a421d"
      },
      "execution_count": null,
      "outputs": [
        {
          "output_type": "stream",
          "name": "stdout",
          "text": [
            "Collecting torch_geometric\n",
            "  Downloading torch_geometric-2.6.1-py3-none-any.whl.metadata (63 kB)\n",
            "\u001b[?25l     \u001b[90m━━━━━━━━━━━━━━━━━━━━━━━━━━━━━━━━━━━━━━━━\u001b[0m \u001b[32m0.0/63.1 kB\u001b[0m \u001b[31m?\u001b[0m eta \u001b[36m-:--:--\u001b[0m\r\u001b[2K     \u001b[90m━━━━━━━━━━━━━━━━━━━━━━━━━━━━━━━━━━━━━━━━\u001b[0m \u001b[32m63.1/63.1 kB\u001b[0m \u001b[31m5.0 MB/s\u001b[0m eta \u001b[36m0:00:00\u001b[0m\n",
            "\u001b[?25hRequirement already satisfied: aiohttp in /usr/local/lib/python3.11/dist-packages (from torch_geometric) (3.11.15)\n",
            "Requirement already satisfied: fsspec in /usr/local/lib/python3.11/dist-packages (from torch_geometric) (2025.3.2)\n",
            "Requirement already satisfied: jinja2 in /usr/local/lib/python3.11/dist-packages (from torch_geometric) (3.1.6)\n",
            "Requirement already satisfied: numpy in /usr/local/lib/python3.11/dist-packages (from torch_geometric) (2.0.2)\n",
            "Requirement already satisfied: psutil>=5.8.0 in /usr/local/lib/python3.11/dist-packages (from torch_geometric) (5.9.5)\n",
            "Requirement already satisfied: pyparsing in /usr/local/lib/python3.11/dist-packages (from torch_geometric) (3.2.3)\n",
            "Requirement already satisfied: requests in /usr/local/lib/python3.11/dist-packages (from torch_geometric) (2.32.3)\n",
            "Requirement already satisfied: tqdm in /usr/local/lib/python3.11/dist-packages (from torch_geometric) (4.67.1)\n",
            "Requirement already satisfied: aiohappyeyeballs>=2.3.0 in /usr/local/lib/python3.11/dist-packages (from aiohttp->torch_geometric) (2.6.1)\n",
            "Requirement already satisfied: aiosignal>=1.1.2 in /usr/local/lib/python3.11/dist-packages (from aiohttp->torch_geometric) (1.3.2)\n",
            "Requirement already satisfied: attrs>=17.3.0 in /usr/local/lib/python3.11/dist-packages (from aiohttp->torch_geometric) (25.3.0)\n",
            "Requirement already satisfied: frozenlist>=1.1.1 in /usr/local/lib/python3.11/dist-packages (from aiohttp->torch_geometric) (1.6.0)\n",
            "Requirement already satisfied: multidict<7.0,>=4.5 in /usr/local/lib/python3.11/dist-packages (from aiohttp->torch_geometric) (6.4.3)\n",
            "Requirement already satisfied: propcache>=0.2.0 in /usr/local/lib/python3.11/dist-packages (from aiohttp->torch_geometric) (0.3.1)\n",
            "Requirement already satisfied: yarl<2.0,>=1.17.0 in /usr/local/lib/python3.11/dist-packages (from aiohttp->torch_geometric) (1.20.0)\n",
            "Requirement already satisfied: MarkupSafe>=2.0 in /usr/local/lib/python3.11/dist-packages (from jinja2->torch_geometric) (3.0.2)\n",
            "Requirement already satisfied: charset-normalizer<4,>=2 in /usr/local/lib/python3.11/dist-packages (from requests->torch_geometric) (3.4.2)\n",
            "Requirement already satisfied: idna<4,>=2.5 in /usr/local/lib/python3.11/dist-packages (from requests->torch_geometric) (3.10)\n",
            "Requirement already satisfied: urllib3<3,>=1.21.1 in /usr/local/lib/python3.11/dist-packages (from requests->torch_geometric) (2.4.0)\n",
            "Requirement already satisfied: certifi>=2017.4.17 in /usr/local/lib/python3.11/dist-packages (from requests->torch_geometric) (2025.4.26)\n",
            "Downloading torch_geometric-2.6.1-py3-none-any.whl (1.1 MB)\n",
            "\u001b[2K   \u001b[90m━━━━━━━━━━━━━━━━━━━━━━━━━━━━━━━━━━━━━━━━\u001b[0m \u001b[32m1.1/1.1 MB\u001b[0m \u001b[31m18.4 MB/s\u001b[0m eta \u001b[36m0:00:00\u001b[0m\n",
            "\u001b[?25hInstalling collected packages: torch_geometric\n",
            "Successfully installed torch_geometric-2.6.1\n"
          ]
        }
      ]
    },
    {
      "cell_type": "code",
      "execution_count": null,
      "metadata": {
        "id": "ZnuKcCupXqYA"
      },
      "outputs": [],
      "source": [
        "import pandas as pd\n",
        "import numpy as np\n",
        "import re\n",
        "import time\n",
        "import random\n",
        "import networkx as nx\n",
        "import torch\n",
        "from collections import defaultdict\n",
        "\n",
        "from transformers import AutoTokenizer, AutoModel, AutoModelForCausalLM, pipeline\n",
        "import torch\n",
        "from io import BytesIO\n",
        "from PIL import Image\n",
        "from torch.utils.data import Dataset, DataLoader\n",
        "from sklearn.preprocessing import OneHotEncoder, MultiLabelBinarizer\n",
        "from sklearn.decomposition import IncrementalPCA\n",
        "import warnings\n",
        "from tqdm import tqdm\n",
        "\n",
        "import torch.nn as nn\n",
        "import torch.nn.functional as F\n",
        "from torch_geometric.data import HeteroData\n",
        "from torch_geometric.nn import HeteroConv, GATConv, Linear\n",
        "from torch_geometric.utils import negative_sampling\n",
        "\n",
        "\n",
        "warnings.filterwarnings('ignore')"
      ]
    },
    {
      "cell_type": "code",
      "execution_count": null,
      "metadata": {
        "colab": {
          "base_uri": "https://localhost:8080/"
        },
        "id": "ll1X7pQ7G-os",
        "outputId": "d23a6c92-6695-4a7a-d9f2-eac4030a49e4"
      },
      "outputs": [
        {
          "output_type": "stream",
          "name": "stdout",
          "text": [
            "Mounted at /content/drive\n"
          ]
        }
      ],
      "source": [
        "from google.colab import drive\n",
        "\n",
        "drive.mount('/content/drive', force_remount=True)"
      ]
    },
    {
      "cell_type": "code",
      "execution_count": null,
      "metadata": {
        "colab": {
          "base_uri": "https://localhost:8080/"
        },
        "id": "G-a_PJmBHAda",
        "outputId": "a185098f-571a-4315-e858-286fd6c161f2"
      },
      "outputs": [
        {
          "output_type": "execute_result",
          "data": {
            "text/plain": [
              "device(type='cuda')"
            ]
          },
          "metadata": {},
          "execution_count": 4
        }
      ],
      "source": [
        "device = torch.device(\"cuda\" if torch.cuda.is_available() else \"cpu\")\n",
        "\n",
        "device"
      ]
    },
    {
      "cell_type": "markdown",
      "metadata": {
        "id": "8N6quBvJn58Z"
      },
      "source": [
        "## Выбор моделей. Анализ требований."
      ]
    },
    {
      "cell_type": "markdown",
      "metadata": {
        "id": "y9iZQhyHoHgf"
      },
      "source": [
        "Итак, мы переходим к основной части нашей работы, ключевому составляющей приложения - рекомендательной системы.\n",
        "\n",
        "Ключевая особенность CIMO заключается в том, что мы хотим сделать не только соло режим подбора фильмов, но и парный, в котором наша основная задача - за минимальное количество предложенных рекомендаций привести двух пользователей к \"мэтчу\", то есть к тому, чтобы предложенные им рекомендации, которые понравились им по отдельности, совпали.\n",
        "\n",
        "В первую очередь определимся с требованиями, которые мы имеем по отношению к потенциальным решениям:\n",
        "1. Скорость обучения и обновления\n",
        "2. Учёт вкусов двух пользователей одновременно\n",
        "3. Учёт истории взаимодействия пользователей ранее\n",
        "4. Гибкость системы вне зависимости от выбранного режима\n",
        "5. Простота обучения и использования\n",
        "6. Масштабируемость\n",
        "\n",
        "Ключевые параметры на которые модель должны обращать внимание:\n",
        "1. Свайпы влево/вправо\n",
        "2. Открытие подробной карточки фильма\n",
        "3. Время просмотра карточки\n",
        "4. Характеристики фильма\n"
      ]
    },
    {
      "cell_type": "markdown",
      "metadata": {
        "id": "ap3PFhieqwXm"
      },
      "source": [
        "#### Одиночный режим"
      ]
    },
    {
      "cell_type": "markdown",
      "metadata": {
        "id": "6oAGxvRLv6fv"
      },
      "source": [
        " Здесь простой коллаборативной фильтрации может не хватить, потому что она работает только на взаимодействиях пользователей и фильмов, но не учитывает контентные признаки, а для нас это необходимо. Поэтому тут лучше подойдут модели, которые совмещают коллаборативную фильтрацию + контентный анализ + временные зависимости."
      ]
    },
    {
      "cell_type": "markdown",
      "metadata": {
        "id": "2Or7b79-q_22"
      },
      "source": [
        "#### Парный режим"
      ]
    },
    {
      "cell_type": "markdown",
      "metadata": {
        "id": "39zkVQ5-vovC"
      },
      "source": [
        "Для парного режима мы решили сделать следующее. Парная и индивидуальная рекоменадции будут чередоваться для того, чтобы обновлять и насыщать индивидуальные векторы пользователей, в следствие чего будет насыщаться и общий вектор.\n",
        "\n",
        "Фильмы должны быть релевантны сразу для двух пользователей, следовательно:\n",
        "* Классическая коллаборативная фильтрация не подходит, поскольку она предсказывает предпочтения только одного пользователя\n",
        "* Нужно учитывать пересечение интересов двух пользователей\n",
        "* Важно анализировать динамику совместных решений"
      ]
    },
    {
      "cell_type": "markdown",
      "metadata": {
        "id": "ZQz1qpbZystb"
      },
      "source": [
        "#### Промежуточные выводы"
      ]
    },
    {
      "cell_type": "markdown",
      "metadata": {
        "id": "FJN58k4jy5S2"
      },
      "source": [
        "Итак, несложно заметить, что оптимальные решения для двух режимов отличаются. Поэтому перед нами встает выбор: либо для каждого режима выбирать отдельное решение и работать с ним, либо создать унифицированное решение, которое будет одинаково качественно работать в обоих режимах."
      ]
    },
    {
      "cell_type": "markdown",
      "metadata": {
        "id": "4l5Aq2U80HOf"
      },
      "source": [
        "Мы остановились на втором варианте - **создании унифицированных представлений пользователей**.\n",
        "\n",
        "То есть вместо двух отдельных моделей мы будем создавать один embedding. Если в сессии один человек, то embedding = его предпочтения. Если же в сессии пара, то embadding = среднее +  корректировка на совместимость.\n"
      ]
    },
    {
      "cell_type": "markdown",
      "metadata": {
        "id": "zOniUppM48xC"
      },
      "source": [
        "Таким образом, мы сможем построить уникальную универсальную систему, которая сможет подстраиваться под разные сценарии. Это прекрасный вариант для стартапа, которым и является наше приложение, решение является очень гибким и быстрым в обучении. Более того, данная система будет готова и к дальнейшему потенциальному масштабированию."
      ]
    },
    {
      "cell_type": "markdown",
      "metadata": {
        "id": "VS6iWhK3-tBW"
      },
      "source": [
        "### Заметки"
      ]
    },
    {
      "cell_type": "markdown",
      "metadata": {
        "id": "fMHP-bmf-0y7"
      },
      "source": [
        "Поскольку в модель будет попадать история взаимодействия юзера или юзеров с приложением, то при первой регистрации как один из вариантов - сделать пробную одиночную сессию, чтобы данные после нее использовать для нормальной рабочей сессии в будущем + это будет хороший `onboarding` для юзера, чтобы привыкнуть к интерфейсу и понять, как взаимодействовать с сервисом."
      ]
    },
    {
      "cell_type": "markdown",
      "metadata": {
        "id": "OuirYqrbuu2l"
      },
      "source": [
        "## Создание эмбеддингов для фильмов\n"
      ]
    },
    {
      "cell_type": "code",
      "execution_count": null,
      "metadata": {
        "collapsed": true,
        "id": "Sz2tgI56sd8V"
      },
      "outputs": [],
      "source": [
        "# !gdown https://drive.google.com/uc?id=1V5IdRQy4WCe4euRwGKwjKRunTKn4FhU7 -O \"movie_roles.pkl\"\n",
        "# !gdown https://drive.google.com/uc?id=1MPnlqCXQ-I_cXjo0qiDxKwDrSUyjCdix -O \"movies.pkl\"\n",
        "# !gdown https://drive.google.com/uc?id=10LUiHvA8ytso_ROVtW23AdBi-dXGsRmj -O \"people.pkl\""
      ]
    },
    {
      "cell_type": "code",
      "execution_count": null,
      "metadata": {
        "id": "ieW9SURcYWge"
      },
      "outputs": [],
      "source": [
        "common_url = \"/content/drive/MyDrive/processed_dataset\"\n",
        "\n",
        "movies_df = pd.read_pickle(f\"{common_url}/movies.pkl\")\n",
        "people_df = pd.read_pickle(f\"{common_url}/people.pkl\")\n",
        "movie_roles_df = pd.read_pickle(f\"{common_url}/movie_roles.pkl\")"
      ]
    },
    {
      "cell_type": "code",
      "execution_count": null,
      "metadata": {
        "colab": {
          "base_uri": "https://localhost:8080/",
          "height": 98
        },
        "id": "vpwp978JeGI9",
        "outputId": "9fe1f8f0-3196-4701-f994-62b9baae21c6"
      },
      "outputs": [
        {
          "output_type": "execute_result",
          "data": {
            "text/plain": [
              "       type         name  release_year  \\\n",
              "9875  MOVIE  Гранд Отель          1932   \n",
              "\n",
              "                                            description  rating_kp  \\\n",
              "9875  Обычный день роскошного Берлинского гранд-отел...        7.2   \n",
              "\n",
              "      rating_imdb  runtime  age_rating  \\\n",
              "9875          7.3    112.0        18.0   \n",
              "\n",
              "                                             poster_url              genres  \\\n",
              "9875  /10703859/b876a4fd-cd8e-46fe-b55d-ec9517e5d58e...  [драма, мелодрама]   \n",
              "\n",
              "     countries  \n",
              "9875     [США]  "
            ],
            "text/html": [
              "\n",
              "  <div id=\"df-861a3813-e4e0-4adf-8f6e-59c87dac1334\" class=\"colab-df-container\">\n",
              "    <div>\n",
              "<style scoped>\n",
              "    .dataframe tbody tr th:only-of-type {\n",
              "        vertical-align: middle;\n",
              "    }\n",
              "\n",
              "    .dataframe tbody tr th {\n",
              "        vertical-align: top;\n",
              "    }\n",
              "\n",
              "    .dataframe thead th {\n",
              "        text-align: right;\n",
              "    }\n",
              "</style>\n",
              "<table border=\"1\" class=\"dataframe\">\n",
              "  <thead>\n",
              "    <tr style=\"text-align: right;\">\n",
              "      <th></th>\n",
              "      <th>type</th>\n",
              "      <th>name</th>\n",
              "      <th>release_year</th>\n",
              "      <th>description</th>\n",
              "      <th>rating_kp</th>\n",
              "      <th>rating_imdb</th>\n",
              "      <th>runtime</th>\n",
              "      <th>age_rating</th>\n",
              "      <th>poster_url</th>\n",
              "      <th>genres</th>\n",
              "      <th>countries</th>\n",
              "    </tr>\n",
              "  </thead>\n",
              "  <tbody>\n",
              "    <tr>\n",
              "      <th>9875</th>\n",
              "      <td>MOVIE</td>\n",
              "      <td>Гранд Отель</td>\n",
              "      <td>1932</td>\n",
              "      <td>Обычный день роскошного Берлинского гранд-отел...</td>\n",
              "      <td>7.2</td>\n",
              "      <td>7.3</td>\n",
              "      <td>112.0</td>\n",
              "      <td>18.0</td>\n",
              "      <td>/10703859/b876a4fd-cd8e-46fe-b55d-ec9517e5d58e...</td>\n",
              "      <td>[драма, мелодрама]</td>\n",
              "      <td>[США]</td>\n",
              "    </tr>\n",
              "  </tbody>\n",
              "</table>\n",
              "</div>\n",
              "    <div class=\"colab-df-buttons\">\n",
              "\n",
              "  <div class=\"colab-df-container\">\n",
              "    <button class=\"colab-df-convert\" onclick=\"convertToInteractive('df-861a3813-e4e0-4adf-8f6e-59c87dac1334')\"\n",
              "            title=\"Convert this dataframe to an interactive table.\"\n",
              "            style=\"display:none;\">\n",
              "\n",
              "  <svg xmlns=\"http://www.w3.org/2000/svg\" height=\"24px\" viewBox=\"0 -960 960 960\">\n",
              "    <path d=\"M120-120v-720h720v720H120Zm60-500h600v-160H180v160Zm220 220h160v-160H400v160Zm0 220h160v-160H400v160ZM180-400h160v-160H180v160Zm440 0h160v-160H620v160ZM180-180h160v-160H180v160Zm440 0h160v-160H620v160Z\"/>\n",
              "  </svg>\n",
              "    </button>\n",
              "\n",
              "  <style>\n",
              "    .colab-df-container {\n",
              "      display:flex;\n",
              "      gap: 12px;\n",
              "    }\n",
              "\n",
              "    .colab-df-convert {\n",
              "      background-color: #E8F0FE;\n",
              "      border: none;\n",
              "      border-radius: 50%;\n",
              "      cursor: pointer;\n",
              "      display: none;\n",
              "      fill: #1967D2;\n",
              "      height: 32px;\n",
              "      padding: 0 0 0 0;\n",
              "      width: 32px;\n",
              "    }\n",
              "\n",
              "    .colab-df-convert:hover {\n",
              "      background-color: #E2EBFA;\n",
              "      box-shadow: 0px 1px 2px rgba(60, 64, 67, 0.3), 0px 1px 3px 1px rgba(60, 64, 67, 0.15);\n",
              "      fill: #174EA6;\n",
              "    }\n",
              "\n",
              "    .colab-df-buttons div {\n",
              "      margin-bottom: 4px;\n",
              "    }\n",
              "\n",
              "    [theme=dark] .colab-df-convert {\n",
              "      background-color: #3B4455;\n",
              "      fill: #D2E3FC;\n",
              "    }\n",
              "\n",
              "    [theme=dark] .colab-df-convert:hover {\n",
              "      background-color: #434B5C;\n",
              "      box-shadow: 0px 1px 3px 1px rgba(0, 0, 0, 0.15);\n",
              "      filter: drop-shadow(0px 1px 2px rgba(0, 0, 0, 0.3));\n",
              "      fill: #FFFFFF;\n",
              "    }\n",
              "  </style>\n",
              "\n",
              "    <script>\n",
              "      const buttonEl =\n",
              "        document.querySelector('#df-861a3813-e4e0-4adf-8f6e-59c87dac1334 button.colab-df-convert');\n",
              "      buttonEl.style.display =\n",
              "        google.colab.kernel.accessAllowed ? 'block' : 'none';\n",
              "\n",
              "      async function convertToInteractive(key) {\n",
              "        const element = document.querySelector('#df-861a3813-e4e0-4adf-8f6e-59c87dac1334');\n",
              "        const dataTable =\n",
              "          await google.colab.kernel.invokeFunction('convertToInteractive',\n",
              "                                                    [key], {});\n",
              "        if (!dataTable) return;\n",
              "\n",
              "        const docLinkHtml = 'Like what you see? Visit the ' +\n",
              "          '<a target=\"_blank\" href=https://colab.research.google.com/notebooks/data_table.ipynb>data table notebook</a>'\n",
              "          + ' to learn more about interactive tables.';\n",
              "        element.innerHTML = '';\n",
              "        dataTable['output_type'] = 'display_data';\n",
              "        await google.colab.output.renderOutput(dataTable, element);\n",
              "        const docLink = document.createElement('div');\n",
              "        docLink.innerHTML = docLinkHtml;\n",
              "        element.appendChild(docLink);\n",
              "      }\n",
              "    </script>\n",
              "  </div>\n",
              "\n",
              "\n",
              "    </div>\n",
              "  </div>\n"
            ],
            "application/vnd.google.colaboratory.intrinsic+json": {
              "type": "dataframe",
              "summary": "{\n  \"name\": \"movies_df\",\n  \"rows\": 1,\n  \"fields\": [\n    {\n      \"column\": \"type\",\n      \"properties\": {\n        \"dtype\": \"string\",\n        \"num_unique_values\": 1,\n        \"samples\": [\n          \"MOVIE\"\n        ],\n        \"semantic_type\": \"\",\n        \"description\": \"\"\n      }\n    },\n    {\n      \"column\": \"name\",\n      \"properties\": {\n        \"dtype\": \"string\",\n        \"num_unique_values\": 1,\n        \"samples\": [\n          \"\\u0413\\u0440\\u0430\\u043d\\u0434 \\u041e\\u0442\\u0435\\u043b\\u044c\"\n        ],\n        \"semantic_type\": \"\",\n        \"description\": \"\"\n      }\n    },\n    {\n      \"column\": \"release_year\",\n      \"properties\": {\n        \"dtype\": \"number\",\n        \"std\": null,\n        \"min\": 1932,\n        \"max\": 1932,\n        \"num_unique_values\": 1,\n        \"samples\": [\n          1932\n        ],\n        \"semantic_type\": \"\",\n        \"description\": \"\"\n      }\n    },\n    {\n      \"column\": \"description\",\n      \"properties\": {\n        \"dtype\": \"string\",\n        \"num_unique_values\": 1,\n        \"samples\": [\n          \"\\u041e\\u0431\\u044b\\u0447\\u043d\\u044b\\u0439 \\u0434\\u0435\\u043d\\u044c \\u0440\\u043e\\u0441\\u043a\\u043e\\u0448\\u043d\\u043e\\u0433\\u043e \\u0411\\u0435\\u0440\\u043b\\u0438\\u043d\\u0441\\u043a\\u043e\\u0433\\u043e \\u0433\\u0440\\u0430\\u043d\\u0434-\\u043e\\u0442\\u0435\\u043b\\u044f, \\u0441\\u043e\\u0442\\u043d\\u0438 \\u0441\\u043b\\u0443\\u0436\\u0430\\u0449\\u0438\\u0445 \\u0438 \\u0433\\u043e\\u0441\\u0442\\u0435\\u0439, \\u043b\\u044e\\u0434\\u0438 \\u0432\\u0441\\u0442\\u0440\\u0435\\u0447\\u0430\\u044e\\u0442\\u0441\\u044f, \\u043b\\u044e\\u0434\\u0438 \\u0440\\u0430\\u0441\\u0445\\u043e\\u0434\\u044f\\u0442\\u0441\\u044f... \\u0423\\u0431\\u0438\\u0439\\u0441\\u0442\\u0432\\u043e \\u0438 \\u0432\\u043e\\u0440\\u043e\\u0432\\u0441\\u0442\\u0432\\u043e, \\u043b\\u044e\\u0431\\u043e\\u0432\\u044c \\u0438 \\u043d\\u0435\\u043d\\u0430\\u0432\\u0438\\u0441\\u0442\\u044c, \\u0430\\u0437\\u0430\\u0440\\u0442 \\u0438 \\u0436\\u0430\\u0434\\u043d\\u043e\\u0441\\u0442\\u044c - \\u0432\\u0441\\u0435 \\u0433\\u0440\\u0435\\u0445\\u0438 \\u043c\\u0438\\u0440\\u0430 \\u043f\\u0440\\u0435\\u0434\\u0441\\u0442\\u0430\\u0432\\u043b\\u0435\\u043d\\u044b \\u0432 \\u044d\\u0442\\u043e\\u043c \\u0437\\u0430\\u043c\\u043a\\u043d\\u0443\\u0442\\u043e\\u043c \\u043c\\u0438\\u0440\\u0435 \\u043a\\u0440\\u0430\\u0441\\u043e\\u0442\\u044b \\u0438 \\u043f\\u043e\\u0440\\u043e\\u043a\\u0430.\\n\\n\\u0411\\u0430\\u0440\\u043e\\u043d \\u0444\\u043e\\u043d \\u0413\\u0435\\u0439\\u0434\\u0436\\u0435\\u0440\\u043d - \\u0430\\u0440\\u0438\\u0441\\u0442\\u043e\\u043a\\u0440\\u0430\\u0442, \\u0438\\u0434\\u0443\\u0449\\u0438\\u0439 \\u043d\\u0430 \\u0432\\u043e\\u0440\\u043e\\u0432\\u0441\\u0442\\u0432\\u043e, \\u0447\\u0442\\u043e\\u0431\\u044b \\u0440\\u0430\\u0441\\u043f\\u043b\\u0430\\u0442\\u0438\\u0442\\u044c\\u0441\\u044f \\u0441 \\u043a\\u0430\\u0440\\u0442\\u043e\\u0447\\u043d\\u044b\\u043c\\u0438 \\u0434\\u043e\\u043b\\u0433\\u0430\\u043c\\u0438. \\u041f\\u044b\\u0442\\u0430\\u044f\\u0441\\u044c \\u043f\\u043e\\u0445\\u0438\\u0442\\u0438\\u0442\\u044c \\u0436\\u0435\\u043c\\u0447\\u0443\\u0436\\u043d\\u043e\\u0435 \\u043a\\u043e\\u043b\\u044c\\u0435 \\u0431\\u0430\\u043b\\u0435\\u0440\\u0438\\u043d\\u044b \\u0413\\u0440\\u0443\\u0441\\u0438\\u043d\\u0441\\u043a\\u043e\\u0439, \\u043e\\u043d \\u0432\\u043c\\u0435\\u0441\\u0442\\u043e \\u0442\\u043e\\u0433\\u043e \\u043a\\u0440\\u0430\\u0434\\u0451\\u0442 \\u0435\\u0435 \\u0441\\u0435\\u0440\\u0434\\u0446\\u0435.\"\n        ],\n        \"semantic_type\": \"\",\n        \"description\": \"\"\n      }\n    },\n    {\n      \"column\": \"rating_kp\",\n      \"properties\": {\n        \"dtype\": \"number\",\n        \"std\": null,\n        \"min\": 7.2,\n        \"max\": 7.2,\n        \"num_unique_values\": 1,\n        \"samples\": [\n          7.2\n        ],\n        \"semantic_type\": \"\",\n        \"description\": \"\"\n      }\n    },\n    {\n      \"column\": \"rating_imdb\",\n      \"properties\": {\n        \"dtype\": \"number\",\n        \"std\": null,\n        \"min\": 7.3,\n        \"max\": 7.3,\n        \"num_unique_values\": 1,\n        \"samples\": [\n          7.3\n        ],\n        \"semantic_type\": \"\",\n        \"description\": \"\"\n      }\n    },\n    {\n      \"column\": \"runtime\",\n      \"properties\": {\n        \"dtype\": \"number\",\n        \"std\": null,\n        \"min\": 112.0,\n        \"max\": 112.0,\n        \"num_unique_values\": 1,\n        \"samples\": [\n          112.0\n        ],\n        \"semantic_type\": \"\",\n        \"description\": \"\"\n      }\n    },\n    {\n      \"column\": \"age_rating\",\n      \"properties\": {\n        \"dtype\": \"number\",\n        \"std\": null,\n        \"min\": 18.0,\n        \"max\": 18.0,\n        \"num_unique_values\": 1,\n        \"samples\": [\n          18.0\n        ],\n        \"semantic_type\": \"\",\n        \"description\": \"\"\n      }\n    },\n    {\n      \"column\": \"poster_url\",\n      \"properties\": {\n        \"dtype\": \"string\",\n        \"num_unique_values\": 1,\n        \"samples\": [\n          \"/10703859/b876a4fd-cd8e-46fe-b55d-ec9517e5d58e/orig\"\n        ],\n        \"semantic_type\": \"\",\n        \"description\": \"\"\n      }\n    },\n    {\n      \"column\": \"genres\",\n      \"properties\": {\n        \"dtype\": \"object\",\n        \"semantic_type\": \"\",\n        \"description\": \"\"\n      }\n    },\n    {\n      \"column\": \"countries\",\n      \"properties\": {\n        \"dtype\": \"object\",\n        \"semantic_type\": \"\",\n        \"description\": \"\"\n      }\n    }\n  ]\n}"
            }
          },
          "metadata": {},
          "execution_count": 6
        }
      ],
      "source": [
        "movies_df.sample()"
      ]
    },
    {
      "cell_type": "code",
      "execution_count": null,
      "metadata": {
        "colab": {
          "base_uri": "https://localhost:8080/"
        },
        "id": "fGJeuJMMX8TR",
        "outputId": "a67f8c6a-9186-4b62-a6e6-89b2e16d5fe3"
      },
      "outputs": [
        {
          "output_type": "stream",
          "name": "stdout",
          "text": [
            "<class 'pandas.core.frame.DataFrame'>\n",
            "RangeIndex: 99188 entries, 0 to 99187\n",
            "Data columns (total 11 columns):\n",
            " #   Column        Non-Null Count  Dtype  \n",
            "---  ------        --------------  -----  \n",
            " 0   type          99188 non-null  object \n",
            " 1   name          99188 non-null  object \n",
            " 2   release_year  99188 non-null  int64  \n",
            " 3   description   99188 non-null  object \n",
            " 4   rating_kp     58572 non-null  float64\n",
            " 5   rating_imdb   95420 non-null  float64\n",
            " 6   runtime       95371 non-null  float64\n",
            " 7   age_rating    42281 non-null  float64\n",
            " 8   poster_url    99188 non-null  object \n",
            " 9   genres        98886 non-null  object \n",
            " 10  countries     99102 non-null  object \n",
            "dtypes: float64(4), int64(1), object(6)\n",
            "memory usage: 8.3+ MB\n"
          ]
        }
      ],
      "source": [
        "movies_df.info()"
      ]
    },
    {
      "cell_type": "markdown",
      "metadata": {
        "id": "GiPEqU6dSbFf"
      },
      "source": [
        "### Попытка № 1\n",
        "\n",
        "Будем использовать то, что имеем в нашем датасете.\n",
        "- `Текстовый вектор` (описание + актёры)\n",
        "- `Мета-вектор` (год выпуска, рейтинги, продолжительность, возрастное ограничение, жанры, страны, тип)\n",
        "\n",
        "После этого, полученнные векторы нужно сконкатенировать и желательно преобразовать в другой вектор, чтобы снизить размерность и связать признаки."
      ]
    },
    {
      "cell_type": "markdown",
      "metadata": {
        "id": "BESBr8CMHOAN"
      },
      "source": [
        "#### Текстовые эмбеддинги"
      ]
    },
    {
      "cell_type": "markdown",
      "metadata": {
        "id": "4eiwgURukeJv"
      },
      "source": [
        "Сначала подготовим `текстовый вектор`"
      ]
    },
    {
      "cell_type": "code",
      "execution_count": null,
      "metadata": {
        "colab": {
          "base_uri": "https://localhost:8080/",
          "height": 222
        },
        "id": "8-7mSyObqjru",
        "outputId": "fdbbe02f-b1fa-462b-cf14-4aacf6086d0a"
      },
      "outputs": [
        {
          "data": {
            "application/vnd.google.colaboratory.intrinsic+json": {
              "summary": "{\n  \"name\": \"df\",\n  \"rows\": 1,\n  \"fields\": [\n    {\n      \"column\": \"type\",\n      \"properties\": {\n        \"dtype\": \"string\",\n        \"num_unique_values\": 1,\n        \"samples\": [\n          \"CARTOON\"\n        ],\n        \"semantic_type\": \"\",\n        \"description\": \"\"\n      }\n    },\n    {\n      \"column\": \"name_x\",\n      \"properties\": {\n        \"dtype\": \"string\",\n        \"num_unique_values\": 1,\n        \"samples\": [\n          \"\\u041f\\u0440\\u0438\\u043d\\u0446\\u0435\\u0441\\u0441\\u0430 \\u0438 \\u0433\\u043e\\u0431\\u043b\\u0438\\u043d\"\n        ],\n        \"semantic_type\": \"\",\n        \"description\": \"\"\n      }\n    },\n    {\n      \"column\": \"release_year\",\n      \"properties\": {\n        \"dtype\": \"number\",\n        \"std\": null,\n        \"min\": 1991,\n        \"max\": 1991,\n        \"num_unique_values\": 1,\n        \"samples\": [\n          1991\n        ],\n        \"semantic_type\": \"\",\n        \"description\": \"\"\n      }\n    },\n    {\n      \"column\": \"description\",\n      \"properties\": {\n        \"dtype\": \"string\",\n        \"num_unique_values\": 1,\n        \"samples\": [\n          \"\\u041a\\u043e\\u0440\\u043e\\u043b\\u044c \\u043e\\u0442\\u043f\\u0440\\u0430\\u0432\\u0438\\u043b\\u0441\\u044f \\u0432 \\u043f\\u043e\\u0445\\u043e\\u0434, \\u043e\\u0441\\u0442\\u0430\\u0432\\u0438\\u0432 \\u0441\\u0432\\u043e\\u044e \\u0434\\u043e\\u0447\\u044c \\u043f\\u0440\\u0438\\u043d\\u0446\\u0435\\u0441\\u0441\\u0443 \\u0410\\u0439\\u0440\\u0438\\u043d \\u043d\\u0430 \\u043f\\u043e\\u043f\\u0435\\u0447\\u0435\\u043d\\u0438\\u0435 \\u0441\\u0442\\u0430\\u0440\\u043e\\u0439 \\u043d\\u044f\\u043d\\u0438 \\u041b\\u044e\\u0442\\u0442\\u0438, \\u043b\\u044e\\u0431\\u0438\\u0432\\u0448\\u0435\\u0439 \\u043f\\u043e\\u0441\\u043f\\u0430\\u0442\\u044c. \\u041f\\u0440\\u0438\\u043d\\u0446\\u0435\\u0441\\u0441\\u0430 \\u0438 \\u0435\\u0435 \\u043a\\u043e\\u0442 \\u043f\\u043e \\u043a\\u043b\\u0438\\u0447\\u043a\\u0435 \\u0420\\u0435\\u043f\\u043a\\u0430 \\u0443\\u0433\\u043b\\u0443\\u0431\\u0438\\u043b\\u0438\\u0441\\u044c \\u0432 \\u043b\\u0435\\u0441 \\u0438 \\u043f\\u043e\\u0442\\u0435\\u0440\\u044f\\u043b\\u0438\\u0441\\u044c, \\u0438\\u0441\\u043f\\u0443\\u0433\\u0430\\u0432\\u0448\\u0438\\u0441\\u044c \\u0447\\u0435\\u0440\\u043d\\u044b\\u0445 \\u043a\\u043e\\u0433\\u0442\\u0438\\u0441\\u0442\\u044b\\u0445 \\u043b\\u0430\\u043f, \\u043f\\u044b\\u0442\\u0430\\u0432\\u0448\\u0438\\u0445\\u0441\\u044f \\u043f\\u043e\\u0439\\u043c\\u0430\\u0442\\u044c \\u0438\\u0445. \\u0410 \\u0432 \\u043b\\u0435\\u0441\\u0443 \\u0436\\u0438\\u043b\\u0438 \\u0441\\u0442\\u0440\\u0430\\u0448\\u043d\\u044b\\u0435 \\u0433\\u043e\\u0431\\u043b\\u0438\\u043d\\u044b, \\u0438 \\u043d\\u0435\\u0438\\u0437\\u0432\\u0435\\u0441\\u0442\\u043d\\u043e, \\u0447\\u0435\\u043c \\u0431\\u044b \\u0437\\u0430\\u043a\\u043e\\u043d\\u0447\\u0438\\u043b\\u0438\\u0441\\u044c \\u0432\\u043e\\u043b\\u0448\\u0435\\u0431\\u043d\\u044b\\u0435 \\u043f\\u0440\\u0438\\u043a\\u043b\\u044e\\u0447\\u0435\\u043d\\u0438\\u044f \\u0410\\u0439\\u0440\\u0438\\u043d, \\u0435\\u0441\\u043b\\u0438 \\u0431\\u044b \\u043d\\u0435 \\u043c\\u0430\\u043b\\u044c\\u0447\\u0438\\u043a \\u041a\\u0435\\u0440\\u0442\\u0438, \\u043a\\u043e\\u0442\\u043e\\u0440\\u044b\\u0439 \\u043d\\u0430\\u0443\\u0447\\u0438\\u043b \\u0435\\u0435 \\u043f\\u0435\\u0442\\u044c, \\u0447\\u0442\\u043e\\u0431\\u044b \\u043e\\u0442\\u043f\\u0443\\u0433\\u0438\\u0432\\u0430\\u0442\\u044c \\u0433\\u043e\\u0431\\u043b\\u0438\\u043d\\u043e\\u0432.\"\n        ],\n        \"semantic_type\": \"\",\n        \"description\": \"\"\n      }\n    },\n    {\n      \"column\": \"rating_kp\",\n      \"properties\": {\n        \"dtype\": \"number\",\n        \"std\": null,\n        \"min\": 7.8,\n        \"max\": 7.8,\n        \"num_unique_values\": 1,\n        \"samples\": [\n          7.8\n        ],\n        \"semantic_type\": \"\",\n        \"description\": \"\"\n      }\n    },\n    {\n      \"column\": \"rating_imdb\",\n      \"properties\": {\n        \"dtype\": \"number\",\n        \"std\": null,\n        \"min\": 6.7,\n        \"max\": 6.7,\n        \"num_unique_values\": 1,\n        \"samples\": [\n          6.7\n        ],\n        \"semantic_type\": \"\",\n        \"description\": \"\"\n      }\n    },\n    {\n      \"column\": \"runtime\",\n      \"properties\": {\n        \"dtype\": \"number\",\n        \"std\": null,\n        \"min\": 82.0,\n        \"max\": 82.0,\n        \"num_unique_values\": 1,\n        \"samples\": [\n          82.0\n        ],\n        \"semantic_type\": \"\",\n        \"description\": \"\"\n      }\n    },\n    {\n      \"column\": \"age_rating\",\n      \"properties\": {\n        \"dtype\": \"number\",\n        \"std\": null,\n        \"min\": 0.0,\n        \"max\": 0.0,\n        \"num_unique_values\": 1,\n        \"samples\": [\n          0.0\n        ],\n        \"semantic_type\": \"\",\n        \"description\": \"\"\n      }\n    },\n    {\n      \"column\": \"poster_url\",\n      \"properties\": {\n        \"dtype\": \"string\",\n        \"num_unique_values\": 1,\n        \"samples\": [\n          \"/1599028/1590f29a-f219-47d0-be63-f6b8090bd840/orig\"\n        ],\n        \"semantic_type\": \"\",\n        \"description\": \"\"\n      }\n    },\n    {\n      \"column\": \"genres\",\n      \"properties\": {\n        \"dtype\": \"object\",\n        \"semantic_type\": \"\",\n        \"description\": \"\"\n      }\n    },\n    {\n      \"column\": \"countries\",\n      \"properties\": {\n        \"dtype\": \"object\",\n        \"semantic_type\": \"\",\n        \"description\": \"\"\n      }\n    },\n    {\n      \"column\": \"movie_id\",\n      \"properties\": {\n        \"dtype\": \"number\",\n        \"std\": null,\n        \"min\": 67315,\n        \"max\": 67315,\n        \"num_unique_values\": 1,\n        \"samples\": [\n          67315\n        ],\n        \"semantic_type\": \"\",\n        \"description\": \"\"\n      }\n    },\n    {\n      \"column\": \"people\",\n      \"properties\": {\n        \"dtype\": \"string\",\n        \"num_unique_values\": 1,\n        \"samples\": [\n          \"\\u0419\\u043e\\u0436\\u0435\\u0444 \\u0413\\u0435\\u043c\\u0435\\u0448, \\u0414\\u0436\\u043e\\u0441\\u0441 \\u042d\\u043a\\u043b\\u0435\\u043d\\u0434, \\u041a\\u043b\\u044d\\u0440 \\u0411\\u043b\\u0443\\u043c, \\u0420\\u043e\\u0439 \\u041a\\u0438\\u043d\\u043d\\u0435\\u0440, \\u0421\\u044d\\u043b\\u043b\\u0438 \\u042d\\u043d\\u043d \\u041c\\u0430\\u0440\\u0448, \\u0420\\u0438\\u043a \\u041c\\u0430\\u0439\\u044f\\u043b, \\u041f\\u0435\\u0433\\u0433\\u0438 \\u041c\\u0430\\u0443\\u043d\\u0442, \\u041f\\u0438\\u0442\\u0435\\u0440 \\u041c\\u044e\\u0440\\u0440\\u044d\\u0439, \\u0412\\u0438\\u043a\\u0442\\u043e\\u0440 \\u0421\\u043f\\u0438\\u043d\\u0435\\u0442\\u0442\\u0438, \\u041c\\u043e\\u043b\\u043b\\u0438 \\u0421\\u0443\\u0433\\u0434\\u0435\\u043d\"\n        ],\n        \"semantic_type\": \"\",\n        \"description\": \"\"\n      }\n    },\n    {\n      \"column\": \"full_description\",\n      \"properties\": {\n        \"dtype\": \"string\",\n        \"num_unique_values\": 1,\n        \"samples\": [\n          \"\\u041a\\u043e\\u0440\\u043e\\u043b\\u044c \\u043e\\u0442\\u043f\\u0440\\u0430\\u0432\\u0438\\u043b\\u0441\\u044f \\u0432 \\u043f\\u043e\\u0445\\u043e\\u0434, \\u043e\\u0441\\u0442\\u0430\\u0432\\u0438\\u0432 \\u0441\\u0432\\u043e\\u044e \\u0434\\u043e\\u0447\\u044c \\u043f\\u0440\\u0438\\u043d\\u0446\\u0435\\u0441\\u0441\\u0443 \\u0410\\u0439\\u0440\\u0438\\u043d \\u043d\\u0430 \\u043f\\u043e\\u043f\\u0435\\u0447\\u0435\\u043d\\u0438\\u0435 \\u0441\\u0442\\u0430\\u0440\\u043e\\u0439 \\u043d\\u044f\\u043d\\u0438 \\u041b\\u044e\\u0442\\u0442\\u0438, \\u043b\\u044e\\u0431\\u0438\\u0432\\u0448\\u0435\\u0439 \\u043f\\u043e\\u0441\\u043f\\u0430\\u0442\\u044c. \\u041f\\u0440\\u0438\\u043d\\u0446\\u0435\\u0441\\u0441\\u0430 \\u0438 \\u0435\\u0435 \\u043a\\u043e\\u0442 \\u043f\\u043e \\u043a\\u043b\\u0438\\u0447\\u043a\\u0435 \\u0420\\u0435\\u043f\\u043a\\u0430 \\u0443\\u0433\\u043b\\u0443\\u0431\\u0438\\u043b\\u0438\\u0441\\u044c \\u0432 \\u043b\\u0435\\u0441 \\u0438 \\u043f\\u043e\\u0442\\u0435\\u0440\\u044f\\u043b\\u0438\\u0441\\u044c, \\u0438\\u0441\\u043f\\u0443\\u0433\\u0430\\u0432\\u0448\\u0438\\u0441\\u044c \\u0447\\u0435\\u0440\\u043d\\u044b\\u0445 \\u043a\\u043e\\u0433\\u0442\\u0438\\u0441\\u0442\\u044b\\u0445 \\u043b\\u0430\\u043f, \\u043f\\u044b\\u0442\\u0430\\u0432\\u0448\\u0438\\u0445\\u0441\\u044f \\u043f\\u043e\\u0439\\u043c\\u0430\\u0442\\u044c \\u0438\\u0445. \\u0410 \\u0432 \\u043b\\u0435\\u0441\\u0443 \\u0436\\u0438\\u043b\\u0438 \\u0441\\u0442\\u0440\\u0430\\u0448\\u043d\\u044b\\u0435 \\u0433\\u043e\\u0431\\u043b\\u0438\\u043d\\u044b, \\u0438 \\u043d\\u0435\\u0438\\u0437\\u0432\\u0435\\u0441\\u0442\\u043d\\u043e, \\u0447\\u0435\\u043c \\u0431\\u044b \\u0437\\u0430\\u043a\\u043e\\u043d\\u0447\\u0438\\u043b\\u0438\\u0441\\u044c \\u0432\\u043e\\u043b\\u0448\\u0435\\u0431\\u043d\\u044b\\u0435 \\u043f\\u0440\\u0438\\u043a\\u043b\\u044e\\u0447\\u0435\\u043d\\u0438\\u044f \\u0410\\u0439\\u0440\\u0438\\u043d, \\u0435\\u0441\\u043b\\u0438 \\u0431\\u044b \\u043d\\u0435 \\u043c\\u0430\\u043b\\u044c\\u0447\\u0438\\u043a \\u041a\\u0435\\u0440\\u0442\\u0438, \\u043a\\u043e\\u0442\\u043e\\u0440\\u044b\\u0439 \\u043d\\u0430\\u0443\\u0447\\u0438\\u043b \\u0435\\u0435 \\u043f\\u0435\\u0442\\u044c, \\u0447\\u0442\\u043e\\u0431\\u044b \\u043e\\u0442\\u043f\\u0443\\u0433\\u0438\\u0432\\u0430\\u0442\\u044c \\u0433\\u043e\\u0431\\u043b\\u0438\\u043d\\u043e\\u0432.. \\u0412 \\u0444\\u0438\\u043b\\u044c\\u043c\\u0435 \\u043f\\u0440\\u0438\\u043d\\u0438\\u043c\\u0430\\u043b\\u0438 \\u0443\\u0447\\u0430\\u0441\\u0442\\u0438\\u0435: \\u0419\\u043e\\u0436\\u0435\\u0444 \\u0413\\u0435\\u043c\\u0435\\u0448, \\u0414\\u0436\\u043e\\u0441\\u0441 \\u042d\\u043a\\u043b\\u0435\\u043d\\u0434, \\u041a\\u043b\\u044d\\u0440 \\u0411\\u043b\\u0443\\u043c, \\u0420\\u043e\\u0439 \\u041a\\u0438\\u043d\\u043d\\u0435\\u0440, \\u0421\\u044d\\u043b\\u043b\\u0438 \\u042d\\u043d\\u043d \\u041c\\u0430\\u0440\\u0448, \\u0420\\u0438\\u043a \\u041c\\u0430\\u0439\\u044f\\u043b, \\u041f\\u0435\\u0433\\u0433\\u0438 \\u041c\\u0430\\u0443\\u043d\\u0442, \\u041f\\u0438\\u0442\\u0435\\u0440 \\u041c\\u044e\\u0440\\u0440\\u044d\\u0439, \\u0412\\u0438\\u043a\\u0442\\u043e\\u0440 \\u0421\\u043f\\u0438\\u043d\\u0435\\u0442\\u0442\\u0438, \\u041c\\u043e\\u043b\\u043b\\u0438 \\u0421\\u0443\\u0433\\u0434\\u0435\\u043d.\"\n        ],\n        \"semantic_type\": \"\",\n        \"description\": \"\"\n      }\n    }\n  ]\n}",
              "type": "dataframe"
            },
            "text/html": [
              "\n",
              "  <div id=\"df-26719f07-8980-46f0-b10d-907f352f7b6c\" class=\"colab-df-container\">\n",
              "    <div>\n",
              "<style scoped>\n",
              "    .dataframe tbody tr th:only-of-type {\n",
              "        vertical-align: middle;\n",
              "    }\n",
              "\n",
              "    .dataframe tbody tr th {\n",
              "        vertical-align: top;\n",
              "    }\n",
              "\n",
              "    .dataframe thead th {\n",
              "        text-align: right;\n",
              "    }\n",
              "</style>\n",
              "<table border=\"1\" class=\"dataframe\">\n",
              "  <thead>\n",
              "    <tr style=\"text-align: right;\">\n",
              "      <th></th>\n",
              "      <th>type</th>\n",
              "      <th>name_x</th>\n",
              "      <th>release_year</th>\n",
              "      <th>description</th>\n",
              "      <th>rating_kp</th>\n",
              "      <th>rating_imdb</th>\n",
              "      <th>runtime</th>\n",
              "      <th>age_rating</th>\n",
              "      <th>poster_url</th>\n",
              "      <th>genres</th>\n",
              "      <th>countries</th>\n",
              "      <th>movie_id</th>\n",
              "      <th>people</th>\n",
              "      <th>full_description</th>\n",
              "    </tr>\n",
              "  </thead>\n",
              "  <tbody>\n",
              "    <tr>\n",
              "      <th>67269.0</th>\n",
              "      <td>CARTOON</td>\n",
              "      <td>Принцесса и гоблин</td>\n",
              "      <td>1991</td>\n",
              "      <td>Король отправился в поход, оставив свою дочь п...</td>\n",
              "      <td>7.8</td>\n",
              "      <td>6.7</td>\n",
              "      <td>82.0</td>\n",
              "      <td>0.0</td>\n",
              "      <td>/1599028/1590f29a-f219-47d0-be63-f6b8090bd840/...</td>\n",
              "      <td>[мультфильм, мюзикл, фэнтези, комедия, приключ...</td>\n",
              "      <td>[Великобритания, Венгрия, Япония, США, Дания]</td>\n",
              "      <td>67315</td>\n",
              "      <td>Йожеф Гемеш, Джосс Экленд, Клэр Блум, Рой Кинн...</td>\n",
              "      <td>Король отправился в поход, оставив свою дочь п...</td>\n",
              "    </tr>\n",
              "  </tbody>\n",
              "</table>\n",
              "</div>\n",
              "    <div class=\"colab-df-buttons\">\n",
              "\n",
              "  <div class=\"colab-df-container\">\n",
              "    <button class=\"colab-df-convert\" onclick=\"convertToInteractive('df-26719f07-8980-46f0-b10d-907f352f7b6c')\"\n",
              "            title=\"Convert this dataframe to an interactive table.\"\n",
              "            style=\"display:none;\">\n",
              "\n",
              "  <svg xmlns=\"http://www.w3.org/2000/svg\" height=\"24px\" viewBox=\"0 -960 960 960\">\n",
              "    <path d=\"M120-120v-720h720v720H120Zm60-500h600v-160H180v160Zm220 220h160v-160H400v160Zm0 220h160v-160H400v160ZM180-400h160v-160H180v160Zm440 0h160v-160H620v160ZM180-180h160v-160H180v160Zm440 0h160v-160H620v160Z\"/>\n",
              "  </svg>\n",
              "    </button>\n",
              "\n",
              "  <style>\n",
              "    .colab-df-container {\n",
              "      display:flex;\n",
              "      gap: 12px;\n",
              "    }\n",
              "\n",
              "    .colab-df-convert {\n",
              "      background-color: #E8F0FE;\n",
              "      border: none;\n",
              "      border-radius: 50%;\n",
              "      cursor: pointer;\n",
              "      display: none;\n",
              "      fill: #1967D2;\n",
              "      height: 32px;\n",
              "      padding: 0 0 0 0;\n",
              "      width: 32px;\n",
              "    }\n",
              "\n",
              "    .colab-df-convert:hover {\n",
              "      background-color: #E2EBFA;\n",
              "      box-shadow: 0px 1px 2px rgba(60, 64, 67, 0.3), 0px 1px 3px 1px rgba(60, 64, 67, 0.15);\n",
              "      fill: #174EA6;\n",
              "    }\n",
              "\n",
              "    .colab-df-buttons div {\n",
              "      margin-bottom: 4px;\n",
              "    }\n",
              "\n",
              "    [theme=dark] .colab-df-convert {\n",
              "      background-color: #3B4455;\n",
              "      fill: #D2E3FC;\n",
              "    }\n",
              "\n",
              "    [theme=dark] .colab-df-convert:hover {\n",
              "      background-color: #434B5C;\n",
              "      box-shadow: 0px 1px 3px 1px rgba(0, 0, 0, 0.15);\n",
              "      filter: drop-shadow(0px 1px 2px rgba(0, 0, 0, 0.3));\n",
              "      fill: #FFFFFF;\n",
              "    }\n",
              "  </style>\n",
              "\n",
              "    <script>\n",
              "      const buttonEl =\n",
              "        document.querySelector('#df-26719f07-8980-46f0-b10d-907f352f7b6c button.colab-df-convert');\n",
              "      buttonEl.style.display =\n",
              "        google.colab.kernel.accessAllowed ? 'block' : 'none';\n",
              "\n",
              "      async function convertToInteractive(key) {\n",
              "        const element = document.querySelector('#df-26719f07-8980-46f0-b10d-907f352f7b6c');\n",
              "        const dataTable =\n",
              "          await google.colab.kernel.invokeFunction('convertToInteractive',\n",
              "                                                    [key], {});\n",
              "        if (!dataTable) return;\n",
              "\n",
              "        const docLinkHtml = 'Like what you see? Visit the ' +\n",
              "          '<a target=\"_blank\" href=https://colab.research.google.com/notebooks/data_table.ipynb>data table notebook</a>'\n",
              "          + ' to learn more about interactive tables.';\n",
              "        element.innerHTML = '';\n",
              "        dataTable['output_type'] = 'display_data';\n",
              "        await google.colab.output.renderOutput(dataTable, element);\n",
              "        const docLink = document.createElement('div');\n",
              "        docLink.innerHTML = docLinkHtml;\n",
              "        element.appendChild(docLink);\n",
              "      }\n",
              "    </script>\n",
              "  </div>\n",
              "\n",
              "\n",
              "    </div>\n",
              "  </div>\n"
            ],
            "text/plain": [
              "            type              name_x  release_year  \\\n",
              "67269.0  CARTOON  Принцесса и гоблин          1991   \n",
              "\n",
              "                                               description  rating_kp  \\\n",
              "67269.0  Король отправился в поход, оставив свою дочь п...        7.8   \n",
              "\n",
              "         rating_imdb  runtime  age_rating  \\\n",
              "67269.0          6.7     82.0         0.0   \n",
              "\n",
              "                                                poster_url  \\\n",
              "67269.0  /1599028/1590f29a-f219-47d0-be63-f6b8090bd840/...   \n",
              "\n",
              "                                                    genres  \\\n",
              "67269.0  [мультфильм, мюзикл, фэнтези, комедия, приключ...   \n",
              "\n",
              "                                             countries  movie_id  \\\n",
              "67269.0  [Великобритания, Венгрия, Япония, США, Дания]     67315   \n",
              "\n",
              "                                                    people  \\\n",
              "67269.0  Йожеф Гемеш, Джосс Экленд, Клэр Блум, Рой Кинн...   \n",
              "\n",
              "                                          full_description  \n",
              "67269.0  Король отправился в поход, оставив свою дочь п...  "
            ]
          },
          "execution_count": 7,
          "metadata": {},
          "output_type": "execute_result"
        }
      ],
      "source": [
        "import re\n",
        "\n",
        "def prepare_text(data):\n",
        "    people_str = data['people']\n",
        "    description_str = data['description']\n",
        "    people_info = f\"В фильме принимали участие: {people_str}.\" if people_str != \"Нет данных\" else \"\"\n",
        "    return re.sub(r'\\s+', ' ', f\"{description_str}. {people_info}\").strip()\n",
        "\n",
        "\n",
        "TOP_PEOPLE = 10\n",
        "df = movie_roles_df.merge(people_df, left_on=\"person_id\", right_index=True)\n",
        "df = df.groupby(\"movie_id\")[\"name\"].apply(lambda x: \", \".join(x[:TOP_PEOPLE])).reset_index()\n",
        "df = movies_df.merge(df, left_index=True, right_on=\"movie_id\", how=\"left\")\n",
        "df.rename(columns={\"name_y\": \"people\"}, inplace=True)\n",
        "df[\"people\"].fillna(\"Нет данных\", inplace=True)\n",
        "df[\"merged\"] = df.apply(prepare_text, axis=1)\n",
        "df.rename(columns={\"merged\": \"full_description\"}, inplace=True)\n",
        "df.reset_index(inplace=True)\n",
        "df.sample()\n"
      ]
    },
    {
      "cell_type": "code",
      "execution_count": null,
      "metadata": {
        "colab": {
          "base_uri": "https://localhost:8080/"
        },
        "id": "BTyBL00nPMiz",
        "outputId": "0bf0abfc-7346-4346-ed94-8a237db5d0e9"
      },
      "outputs": [
        {
          "data": {
            "text/plain": [
              "array([['Четырнадцатилетний Лукас больше интересуется тайнами науки и поведением насекомых, чем футболом и вечеринками с девушками. Но вот во время летних каникул он влюбляется в симпатичную шестнадцатилетнюю девчонку из группы поддержки.. В фильме принимали участие: Дэвид Зельцер, Кори Хэйм, Керри Грин, Чарли Шин, Кортни Торн-Смит, Вайнона Райдер, Том Ходжис, Чиро Поппити, Гай Бойд, Джереми Пивен.']],\n",
              "      dtype=object)"
            ]
          },
          "execution_count": 8,
          "metadata": {},
          "output_type": "execute_result"
        }
      ],
      "source": [
        "text_data = df[[\"full_description\"]]\n",
        "text_data.sample().to_numpy()"
      ]
    },
    {
      "cell_type": "markdown",
      "metadata": {
        "id": "K-VEOO5mHsfl"
      },
      "source": [
        "Загрузим модели для обработки текстовых векторов. Будем использовать `RuBert` для работы с текстами на русском языке"
      ]
    },
    {
      "cell_type": "code",
      "execution_count": null,
      "metadata": {
        "colab": {
          "base_uri": "https://localhost:8080/"
        },
        "collapsed": true,
        "id": "9YqsjFGsslnc",
        "outputId": "649442b1-c692-4312-e937-415ac089108d"
      },
      "outputs": [
        {
          "name": "stderr",
          "output_type": "stream",
          "text": [
            "Some weights of the model checkpoint at DeepPavlov/rubert-base-cased were not used when initializing BertModel: ['cls.predictions.bias', 'cls.predictions.decoder.bias', 'cls.predictions.decoder.weight', 'cls.predictions.transform.LayerNorm.bias', 'cls.predictions.transform.LayerNorm.weight', 'cls.predictions.transform.dense.bias', 'cls.predictions.transform.dense.weight', 'cls.seq_relationship.bias', 'cls.seq_relationship.weight']\n",
            "- This IS expected if you are initializing BertModel from the checkpoint of a model trained on another task or with another architecture (e.g. initializing a BertForSequenceClassification model from a BertForPreTraining model).\n",
            "- This IS NOT expected if you are initializing BertModel from the checkpoint of a model that you expect to be exactly identical (initializing a BertForSequenceClassification model from a BertForSequenceClassification model).\n"
          ]
        }
      ],
      "source": [
        "rubert_tokenizer = AutoTokenizer.from_pretrained(\"DeepPavlov/rubert-base-cased\")\n",
        "rubert_model = AutoModel.from_pretrained(\"DeepPavlov/rubert-base-cased\")\n",
        "rubert_model = rubert_model.to(device)"
      ]
    },
    {
      "cell_type": "code",
      "execution_count": null,
      "metadata": {
        "id": "cwnV5TQIFiL4"
      },
      "outputs": [],
      "source": [
        "class TextDataset(Dataset):\n",
        "    def __init__(self, texts):\n",
        "        self.texts = texts\n",
        "\n",
        "    def __len__(self):\n",
        "        return len(self.texts)\n",
        "\n",
        "    def __getitem__(self, idx):\n",
        "        return self.texts.iloc[idx][\"full_description\"]\n",
        "\n",
        "def text_collate_fn(batch):\n",
        "    return batch\n",
        "\n",
        "\n",
        "BATCH_SIZE = 256\n",
        "text_dataset = TextDataset(text_data)\n",
        "text_dataloader = DataLoader(text_dataset, batch_size=BATCH_SIZE, collate_fn=text_collate_fn, shuffle=False)"
      ]
    },
    {
      "cell_type": "code",
      "execution_count": null,
      "metadata": {
        "id": "TEjReJDMtefB"
      },
      "outputs": [],
      "source": [
        "def get_text_embeddings(texts):\n",
        "    max_length = 512\n",
        "    inputs = rubert_tokenizer(texts, return_tensors=\"pt\", padding=True,\n",
        "                              truncation=True, max_length=max_length).to(device)\n",
        "    with torch.no_grad():\n",
        "        outputs = rubert_model(**inputs)\n",
        "\n",
        "    embeddings = outputs.last_hidden_state[:, 0, :].cpu()\n",
        "\n",
        "    del inputs, outputs\n",
        "    torch.cuda.empty_cache()\n",
        "    return embeddings\n"
      ]
    },
    {
      "cell_type": "markdown",
      "metadata": {
        "id": "C2Tsa2K_JZzD"
      },
      "source": [
        "#### Эмбеддинг мета-данных"
      ]
    },
    {
      "cell_type": "markdown",
      "metadata": {
        "id": "5xqn1FYrsZMC"
      },
      "source": [
        "Теперь займёмся `мета-вектором` и подготовим все признаки, применив **OneHotEncoder** и **бинаризацию**"
      ]
    },
    {
      "cell_type": "code",
      "execution_count": null,
      "metadata": {
        "colab": {
          "base_uri": "https://localhost:8080/"
        },
        "id": "L12VZrUEgO5Z",
        "outputId": "e453f69b-7301-4fd1-9d64-3406e9426102"
      },
      "outputs": [
        {
          "name": "stdout",
          "output_type": "stream",
          "text": [
            "Кол-во уникальных стран: 211\n",
            "Кол-во уникальных жанров: 25\n",
            "Кол-во уникальных возрастных ограничений: 6\n",
            "Кол-во уникальных типов: 3\n"
          ]
        }
      ],
      "source": [
        "unique_countries, unique_genres = set(), set()\n",
        "\n",
        "for countries in movies_df[\"countries\"]:\n",
        "    if isinstance(countries, list):\n",
        "        unique_countries.update(countries)\n",
        "\n",
        "for genres in movies_df[\"genres\"]:\n",
        "    if isinstance(genres, list):\n",
        "        unique_genres.update(genres)\n",
        "\n",
        "print(f\"Кол-во уникальных стран: {len(unique_countries)}\")\n",
        "print(f\"Кол-во уникальных жанров: {len(unique_genres)}\")\n",
        "print(f\"Кол-во уникальных возрастных ограничений: {len(movies_df['age_rating'].unique())}\")\n",
        "print(f\"Кол-во уникальных типов: {len(movies_df['type'].unique())}\")"
      ]
    },
    {
      "cell_type": "code",
      "execution_count": null,
      "metadata": {
        "colab": {
          "base_uri": "https://localhost:8080/",
          "height": 80
        },
        "id": "M7mtAOwosqny",
        "outputId": "3b5cfdde-7183-44a0-de9e-e13b39fd0668"
      },
      "outputs": [
        {
          "data": {
            "application/vnd.google.colaboratory.intrinsic+json": {
              "summary": "{\n  \"name\": \"meta_data\",\n  \"rows\": 1,\n  \"fields\": [\n    {\n      \"column\": \"countries\",\n      \"properties\": {\n        \"dtype\": \"object\",\n        \"semantic_type\": \"\",\n        \"description\": \"\"\n      }\n    },\n    {\n      \"column\": \"genres\",\n      \"properties\": {\n        \"dtype\": \"object\",\n        \"semantic_type\": \"\",\n        \"description\": \"\"\n      }\n    },\n    {\n      \"column\": \"age_rating\",\n      \"properties\": {\n        \"dtype\": \"number\",\n        \"std\": null,\n        \"min\": null,\n        \"max\": null,\n        \"num_unique_values\": 0,\n        \"samples\": [],\n        \"semantic_type\": \"\",\n        \"description\": \"\"\n      }\n    },\n    {\n      \"column\": \"type\",\n      \"properties\": {\n        \"dtype\": \"string\",\n        \"num_unique_values\": 1,\n        \"samples\": [],\n        \"semantic_type\": \"\",\n        \"description\": \"\"\n      }\n    },\n    {\n      \"column\": \"release_year\",\n      \"properties\": {\n        \"dtype\": \"number\",\n        \"std\": null,\n        \"min\": 2007,\n        \"max\": 2007,\n        \"num_unique_values\": 1,\n        \"samples\": [],\n        \"semantic_type\": \"\",\n        \"description\": \"\"\n      }\n    },\n    {\n      \"column\": \"rating_kp\",\n      \"properties\": {\n        \"dtype\": \"number\",\n        \"std\": null,\n        \"min\": null,\n        \"max\": null,\n        \"num_unique_values\": 0,\n        \"samples\": [],\n        \"semantic_type\": \"\",\n        \"description\": \"\"\n      }\n    },\n    {\n      \"column\": \"rating_imdb\",\n      \"properties\": {\n        \"dtype\": \"number\",\n        \"std\": null,\n        \"min\": 6.7,\n        \"max\": 6.7,\n        \"num_unique_values\": 1,\n        \"samples\": [],\n        \"semantic_type\": \"\",\n        \"description\": \"\"\n      }\n    },\n    {\n      \"column\": \"runtime\",\n      \"properties\": {\n        \"dtype\": \"number\",\n        \"std\": null,\n        \"min\": null,\n        \"max\": null,\n        \"num_unique_values\": 0,\n        \"samples\": [],\n        \"semantic_type\": \"\",\n        \"description\": \"\"\n      }\n    }\n  ]\n}",
              "type": "dataframe"
            },
            "text/html": [
              "\n",
              "  <div id=\"df-fc35afb1-0fd8-4046-a5ec-a3fda3289b04\" class=\"colab-df-container\">\n",
              "    <div>\n",
              "<style scoped>\n",
              "    .dataframe tbody tr th:only-of-type {\n",
              "        vertical-align: middle;\n",
              "    }\n",
              "\n",
              "    .dataframe tbody tr th {\n",
              "        vertical-align: top;\n",
              "    }\n",
              "\n",
              "    .dataframe thead th {\n",
              "        text-align: right;\n",
              "    }\n",
              "</style>\n",
              "<table border=\"1\" class=\"dataframe\">\n",
              "  <thead>\n",
              "    <tr style=\"text-align: right;\">\n",
              "      <th></th>\n",
              "      <th>countries</th>\n",
              "      <th>genres</th>\n",
              "      <th>age_rating</th>\n",
              "      <th>type</th>\n",
              "      <th>release_year</th>\n",
              "      <th>rating_kp</th>\n",
              "      <th>rating_imdb</th>\n",
              "      <th>runtime</th>\n",
              "    </tr>\n",
              "  </thead>\n",
              "  <tbody>\n",
              "    <tr>\n",
              "      <th>30127</th>\n",
              "      <td>[США]</td>\n",
              "      <td>[драма]</td>\n",
              "      <td>NaN</td>\n",
              "      <td>MOVIE</td>\n",
              "      <td>2007</td>\n",
              "      <td>NaN</td>\n",
              "      <td>6.7</td>\n",
              "      <td>NaN</td>\n",
              "    </tr>\n",
              "  </tbody>\n",
              "</table>\n",
              "</div>\n",
              "    <div class=\"colab-df-buttons\">\n",
              "\n",
              "  <div class=\"colab-df-container\">\n",
              "    <button class=\"colab-df-convert\" onclick=\"convertToInteractive('df-fc35afb1-0fd8-4046-a5ec-a3fda3289b04')\"\n",
              "            title=\"Convert this dataframe to an interactive table.\"\n",
              "            style=\"display:none;\">\n",
              "\n",
              "  <svg xmlns=\"http://www.w3.org/2000/svg\" height=\"24px\" viewBox=\"0 -960 960 960\">\n",
              "    <path d=\"M120-120v-720h720v720H120Zm60-500h600v-160H180v160Zm220 220h160v-160H400v160Zm0 220h160v-160H400v160ZM180-400h160v-160H180v160Zm440 0h160v-160H620v160ZM180-180h160v-160H180v160Zm440 0h160v-160H620v160Z\"/>\n",
              "  </svg>\n",
              "    </button>\n",
              "\n",
              "  <style>\n",
              "    .colab-df-container {\n",
              "      display:flex;\n",
              "      gap: 12px;\n",
              "    }\n",
              "\n",
              "    .colab-df-convert {\n",
              "      background-color: #E8F0FE;\n",
              "      border: none;\n",
              "      border-radius: 50%;\n",
              "      cursor: pointer;\n",
              "      display: none;\n",
              "      fill: #1967D2;\n",
              "      height: 32px;\n",
              "      padding: 0 0 0 0;\n",
              "      width: 32px;\n",
              "    }\n",
              "\n",
              "    .colab-df-convert:hover {\n",
              "      background-color: #E2EBFA;\n",
              "      box-shadow: 0px 1px 2px rgba(60, 64, 67, 0.3), 0px 1px 3px 1px rgba(60, 64, 67, 0.15);\n",
              "      fill: #174EA6;\n",
              "    }\n",
              "\n",
              "    .colab-df-buttons div {\n",
              "      margin-bottom: 4px;\n",
              "    }\n",
              "\n",
              "    [theme=dark] .colab-df-convert {\n",
              "      background-color: #3B4455;\n",
              "      fill: #D2E3FC;\n",
              "    }\n",
              "\n",
              "    [theme=dark] .colab-df-convert:hover {\n",
              "      background-color: #434B5C;\n",
              "      box-shadow: 0px 1px 3px 1px rgba(0, 0, 0, 0.15);\n",
              "      filter: drop-shadow(0px 1px 2px rgba(0, 0, 0, 0.3));\n",
              "      fill: #FFFFFF;\n",
              "    }\n",
              "  </style>\n",
              "\n",
              "    <script>\n",
              "      const buttonEl =\n",
              "        document.querySelector('#df-fc35afb1-0fd8-4046-a5ec-a3fda3289b04 button.colab-df-convert');\n",
              "      buttonEl.style.display =\n",
              "        google.colab.kernel.accessAllowed ? 'block' : 'none';\n",
              "\n",
              "      async function convertToInteractive(key) {\n",
              "        const element = document.querySelector('#df-fc35afb1-0fd8-4046-a5ec-a3fda3289b04');\n",
              "        const dataTable =\n",
              "          await google.colab.kernel.invokeFunction('convertToInteractive',\n",
              "                                                    [key], {});\n",
              "        if (!dataTable) return;\n",
              "\n",
              "        const docLinkHtml = 'Like what you see? Visit the ' +\n",
              "          '<a target=\"_blank\" href=https://colab.research.google.com/notebooks/data_table.ipynb>data table notebook</a>'\n",
              "          + ' to learn more about interactive tables.';\n",
              "        element.innerHTML = '';\n",
              "        dataTable['output_type'] = 'display_data';\n",
              "        await google.colab.output.renderOutput(dataTable, element);\n",
              "        const docLink = document.createElement('div');\n",
              "        docLink.innerHTML = docLinkHtml;\n",
              "        element.appendChild(docLink);\n",
              "      }\n",
              "    </script>\n",
              "  </div>\n",
              "\n",
              "\n",
              "    </div>\n",
              "  </div>\n"
            ],
            "text/plain": [
              "      countries   genres  age_rating   type  release_year  rating_kp  \\\n",
              "30127     [США]  [драма]         NaN  MOVIE          2007        NaN   \n",
              "\n",
              "       rating_imdb  runtime  \n",
              "30127          6.7      NaN  "
            ]
          },
          "execution_count": 16,
          "metadata": {},
          "output_type": "execute_result"
        }
      ],
      "source": [
        "meta_data = movies_df[[\"countries\", \"genres\", \"age_rating\", \"type\",\n",
        "                       \"release_year\", \"rating_kp\", \"rating_imdb\", \"runtime\"]]\n",
        "meta_data.sample()"
      ]
    },
    {
      "cell_type": "code",
      "execution_count": null,
      "metadata": {
        "colab": {
          "base_uri": "https://localhost:8080/",
          "height": 80
        },
        "id": "lVvFNDZtTkGS",
        "outputId": "6728080c-3884-493c-df97-c1c5800388ae"
      },
      "outputs": [
        {
          "data": {
            "application/vnd.google.colaboratory.intrinsic+json": {
              "summary": "{\n  \"name\": \"ohe_type_df\",\n  \"rows\": 1,\n  \"fields\": [\n    {\n      \"column\": \"type_ANIME\",\n      \"properties\": {\n        \"dtype\": \"number\",\n        \"std\": null,\n        \"min\": 0.0,\n        \"max\": 0.0,\n        \"num_unique_values\": 1,\n        \"samples\": [\n          0.0\n        ],\n        \"semantic_type\": \"\",\n        \"description\": \"\"\n      }\n    },\n    {\n      \"column\": \"type_CARTOON\",\n      \"properties\": {\n        \"dtype\": \"number\",\n        \"std\": null,\n        \"min\": 0.0,\n        \"max\": 0.0,\n        \"num_unique_values\": 1,\n        \"samples\": [\n          0.0\n        ],\n        \"semantic_type\": \"\",\n        \"description\": \"\"\n      }\n    },\n    {\n      \"column\": \"type_MOVIE\",\n      \"properties\": {\n        \"dtype\": \"number\",\n        \"std\": null,\n        \"min\": 1.0,\n        \"max\": 1.0,\n        \"num_unique_values\": 1,\n        \"samples\": [\n          1.0\n        ],\n        \"semantic_type\": \"\",\n        \"description\": \"\"\n      }\n    }\n  ]\n}",
              "type": "dataframe"
            },
            "text/html": [
              "\n",
              "  <div id=\"df-80c737b9-d6c2-4cda-bbae-e8f6487bcfad\" class=\"colab-df-container\">\n",
              "    <div>\n",
              "<style scoped>\n",
              "    .dataframe tbody tr th:only-of-type {\n",
              "        vertical-align: middle;\n",
              "    }\n",
              "\n",
              "    .dataframe tbody tr th {\n",
              "        vertical-align: top;\n",
              "    }\n",
              "\n",
              "    .dataframe thead th {\n",
              "        text-align: right;\n",
              "    }\n",
              "</style>\n",
              "<table border=\"1\" class=\"dataframe\">\n",
              "  <thead>\n",
              "    <tr style=\"text-align: right;\">\n",
              "      <th></th>\n",
              "      <th>type_ANIME</th>\n",
              "      <th>type_CARTOON</th>\n",
              "      <th>type_MOVIE</th>\n",
              "    </tr>\n",
              "  </thead>\n",
              "  <tbody>\n",
              "    <tr>\n",
              "      <th>53806</th>\n",
              "      <td>0.0</td>\n",
              "      <td>0.0</td>\n",
              "      <td>1.0</td>\n",
              "    </tr>\n",
              "  </tbody>\n",
              "</table>\n",
              "</div>\n",
              "    <div class=\"colab-df-buttons\">\n",
              "\n",
              "  <div class=\"colab-df-container\">\n",
              "    <button class=\"colab-df-convert\" onclick=\"convertToInteractive('df-80c737b9-d6c2-4cda-bbae-e8f6487bcfad')\"\n",
              "            title=\"Convert this dataframe to an interactive table.\"\n",
              "            style=\"display:none;\">\n",
              "\n",
              "  <svg xmlns=\"http://www.w3.org/2000/svg\" height=\"24px\" viewBox=\"0 -960 960 960\">\n",
              "    <path d=\"M120-120v-720h720v720H120Zm60-500h600v-160H180v160Zm220 220h160v-160H400v160Zm0 220h160v-160H400v160ZM180-400h160v-160H180v160Zm440 0h160v-160H620v160ZM180-180h160v-160H180v160Zm440 0h160v-160H620v160Z\"/>\n",
              "  </svg>\n",
              "    </button>\n",
              "\n",
              "  <style>\n",
              "    .colab-df-container {\n",
              "      display:flex;\n",
              "      gap: 12px;\n",
              "    }\n",
              "\n",
              "    .colab-df-convert {\n",
              "      background-color: #E8F0FE;\n",
              "      border: none;\n",
              "      border-radius: 50%;\n",
              "      cursor: pointer;\n",
              "      display: none;\n",
              "      fill: #1967D2;\n",
              "      height: 32px;\n",
              "      padding: 0 0 0 0;\n",
              "      width: 32px;\n",
              "    }\n",
              "\n",
              "    .colab-df-convert:hover {\n",
              "      background-color: #E2EBFA;\n",
              "      box-shadow: 0px 1px 2px rgba(60, 64, 67, 0.3), 0px 1px 3px 1px rgba(60, 64, 67, 0.15);\n",
              "      fill: #174EA6;\n",
              "    }\n",
              "\n",
              "    .colab-df-buttons div {\n",
              "      margin-bottom: 4px;\n",
              "    }\n",
              "\n",
              "    [theme=dark] .colab-df-convert {\n",
              "      background-color: #3B4455;\n",
              "      fill: #D2E3FC;\n",
              "    }\n",
              "\n",
              "    [theme=dark] .colab-df-convert:hover {\n",
              "      background-color: #434B5C;\n",
              "      box-shadow: 0px 1px 3px 1px rgba(0, 0, 0, 0.15);\n",
              "      filter: drop-shadow(0px 1px 2px rgba(0, 0, 0, 0.3));\n",
              "      fill: #FFFFFF;\n",
              "    }\n",
              "  </style>\n",
              "\n",
              "    <script>\n",
              "      const buttonEl =\n",
              "        document.querySelector('#df-80c737b9-d6c2-4cda-bbae-e8f6487bcfad button.colab-df-convert');\n",
              "      buttonEl.style.display =\n",
              "        google.colab.kernel.accessAllowed ? 'block' : 'none';\n",
              "\n",
              "      async function convertToInteractive(key) {\n",
              "        const element = document.querySelector('#df-80c737b9-d6c2-4cda-bbae-e8f6487bcfad');\n",
              "        const dataTable =\n",
              "          await google.colab.kernel.invokeFunction('convertToInteractive',\n",
              "                                                    [key], {});\n",
              "        if (!dataTable) return;\n",
              "\n",
              "        const docLinkHtml = 'Like what you see? Visit the ' +\n",
              "          '<a target=\"_blank\" href=https://colab.research.google.com/notebooks/data_table.ipynb>data table notebook</a>'\n",
              "          + ' to learn more about interactive tables.';\n",
              "        element.innerHTML = '';\n",
              "        dataTable['output_type'] = 'display_data';\n",
              "        await google.colab.output.renderOutput(dataTable, element);\n",
              "        const docLink = document.createElement('div');\n",
              "        docLink.innerHTML = docLinkHtml;\n",
              "        element.appendChild(docLink);\n",
              "      }\n",
              "    </script>\n",
              "  </div>\n",
              "\n",
              "\n",
              "    </div>\n",
              "  </div>\n"
            ],
            "text/plain": [
              "       type_ANIME  type_CARTOON  type_MOVIE\n",
              "53806         0.0           0.0         1.0"
            ]
          },
          "execution_count": 17,
          "metadata": {},
          "output_type": "execute_result"
        }
      ],
      "source": [
        "# Работа со столбцом `type`\n",
        "\n",
        "ohe = OneHotEncoder(handle_unknown='ignore')\n",
        "ohe.fit(meta_data[['type']])\n",
        "ohe_type = ohe.transform(meta_data[['type']]).toarray()\n",
        "\n",
        "ohe_type_df = pd.DataFrame(ohe_type, columns=ohe.get_feature_names_out())\n",
        "ohe_type_df.sample()"
      ]
    },
    {
      "cell_type": "code",
      "execution_count": null,
      "metadata": {
        "colab": {
          "base_uri": "https://localhost:8080/",
          "height": 80
        },
        "id": "2K1Jwt1MUDHq",
        "outputId": "57b20cbb-06f9-401a-a628-f318369f87d9"
      },
      "outputs": [
        {
          "data": {
            "application/vnd.google.colaboratory.intrinsic+json": {
              "summary": "{\n  \"name\": \"ohe_release_year_df\",\n  \"rows\": 1,\n  \"fields\": [\n    {\n      \"column\": \"1900-1909\",\n      \"properties\": {\n        \"dtype\": \"number\",\n        \"std\": null,\n        \"min\": 0,\n        \"max\": 0,\n        \"num_unique_values\": 1,\n        \"samples\": [\n          0\n        ],\n        \"semantic_type\": \"\",\n        \"description\": \"\"\n      }\n    },\n    {\n      \"column\": \"1910-1919\",\n      \"properties\": {\n        \"dtype\": \"number\",\n        \"std\": null,\n        \"min\": 0,\n        \"max\": 0,\n        \"num_unique_values\": 1,\n        \"samples\": [\n          0\n        ],\n        \"semantic_type\": \"\",\n        \"description\": \"\"\n      }\n    },\n    {\n      \"column\": \"1920-1929\",\n      \"properties\": {\n        \"dtype\": \"number\",\n        \"std\": null,\n        \"min\": 0,\n        \"max\": 0,\n        \"num_unique_values\": 1,\n        \"samples\": [\n          0\n        ],\n        \"semantic_type\": \"\",\n        \"description\": \"\"\n      }\n    },\n    {\n      \"column\": \"1930-1939\",\n      \"properties\": {\n        \"dtype\": \"number\",\n        \"std\": null,\n        \"min\": 0,\n        \"max\": 0,\n        \"num_unique_values\": 1,\n        \"samples\": [\n          0\n        ],\n        \"semantic_type\": \"\",\n        \"description\": \"\"\n      }\n    },\n    {\n      \"column\": \"1940-1949\",\n      \"properties\": {\n        \"dtype\": \"number\",\n        \"std\": null,\n        \"min\": 0,\n        \"max\": 0,\n        \"num_unique_values\": 1,\n        \"samples\": [\n          0\n        ],\n        \"semantic_type\": \"\",\n        \"description\": \"\"\n      }\n    },\n    {\n      \"column\": \"1950-1959\",\n      \"properties\": {\n        \"dtype\": \"number\",\n        \"std\": null,\n        \"min\": 0,\n        \"max\": 0,\n        \"num_unique_values\": 1,\n        \"samples\": [\n          0\n        ],\n        \"semantic_type\": \"\",\n        \"description\": \"\"\n      }\n    },\n    {\n      \"column\": \"1960-1969\",\n      \"properties\": {\n        \"dtype\": \"number\",\n        \"std\": null,\n        \"min\": 0,\n        \"max\": 0,\n        \"num_unique_values\": 1,\n        \"samples\": [\n          0\n        ],\n        \"semantic_type\": \"\",\n        \"description\": \"\"\n      }\n    },\n    {\n      \"column\": \"1970-1979\",\n      \"properties\": {\n        \"dtype\": \"number\",\n        \"std\": null,\n        \"min\": 1,\n        \"max\": 1,\n        \"num_unique_values\": 1,\n        \"samples\": [\n          1\n        ],\n        \"semantic_type\": \"\",\n        \"description\": \"\"\n      }\n    },\n    {\n      \"column\": \"1980-1989\",\n      \"properties\": {\n        \"dtype\": \"number\",\n        \"std\": null,\n        \"min\": 0,\n        \"max\": 0,\n        \"num_unique_values\": 1,\n        \"samples\": [\n          0\n        ],\n        \"semantic_type\": \"\",\n        \"description\": \"\"\n      }\n    },\n    {\n      \"column\": \"1990-1999\",\n      \"properties\": {\n        \"dtype\": \"number\",\n        \"std\": null,\n        \"min\": 0,\n        \"max\": 0,\n        \"num_unique_values\": 1,\n        \"samples\": [\n          0\n        ],\n        \"semantic_type\": \"\",\n        \"description\": \"\"\n      }\n    },\n    {\n      \"column\": \"2000-2009\",\n      \"properties\": {\n        \"dtype\": \"number\",\n        \"std\": null,\n        \"min\": 0,\n        \"max\": 0,\n        \"num_unique_values\": 1,\n        \"samples\": [\n          0\n        ],\n        \"semantic_type\": \"\",\n        \"description\": \"\"\n      }\n    },\n    {\n      \"column\": \"2010-2019\",\n      \"properties\": {\n        \"dtype\": \"number\",\n        \"std\": null,\n        \"min\": 0,\n        \"max\": 0,\n        \"num_unique_values\": 1,\n        \"samples\": [\n          0\n        ],\n        \"semantic_type\": \"\",\n        \"description\": \"\"\n      }\n    },\n    {\n      \"column\": \"2020-2029\",\n      \"properties\": {\n        \"dtype\": \"number\",\n        \"std\": null,\n        \"min\": 0,\n        \"max\": 0,\n        \"num_unique_values\": 1,\n        \"samples\": [\n          0\n        ],\n        \"semantic_type\": \"\",\n        \"description\": \"\"\n      }\n    }\n  ]\n}",
              "type": "dataframe"
            },
            "text/html": [
              "\n",
              "  <div id=\"df-bbca6083-e526-46cb-b1a8-fcde17ceb548\" class=\"colab-df-container\">\n",
              "    <div>\n",
              "<style scoped>\n",
              "    .dataframe tbody tr th:only-of-type {\n",
              "        vertical-align: middle;\n",
              "    }\n",
              "\n",
              "    .dataframe tbody tr th {\n",
              "        vertical-align: top;\n",
              "    }\n",
              "\n",
              "    .dataframe thead th {\n",
              "        text-align: right;\n",
              "    }\n",
              "</style>\n",
              "<table border=\"1\" class=\"dataframe\">\n",
              "  <thead>\n",
              "    <tr style=\"text-align: right;\">\n",
              "      <th></th>\n",
              "      <th>1900-1909</th>\n",
              "      <th>1910-1919</th>\n",
              "      <th>1920-1929</th>\n",
              "      <th>1930-1939</th>\n",
              "      <th>1940-1949</th>\n",
              "      <th>1950-1959</th>\n",
              "      <th>1960-1969</th>\n",
              "      <th>1970-1979</th>\n",
              "      <th>1980-1989</th>\n",
              "      <th>1990-1999</th>\n",
              "      <th>2000-2009</th>\n",
              "      <th>2010-2019</th>\n",
              "      <th>2020-2029</th>\n",
              "    </tr>\n",
              "  </thead>\n",
              "  <tbody>\n",
              "    <tr>\n",
              "      <th>67914</th>\n",
              "      <td>0</td>\n",
              "      <td>0</td>\n",
              "      <td>0</td>\n",
              "      <td>0</td>\n",
              "      <td>0</td>\n",
              "      <td>0</td>\n",
              "      <td>0</td>\n",
              "      <td>1</td>\n",
              "      <td>0</td>\n",
              "      <td>0</td>\n",
              "      <td>0</td>\n",
              "      <td>0</td>\n",
              "      <td>0</td>\n",
              "    </tr>\n",
              "  </tbody>\n",
              "</table>\n",
              "</div>\n",
              "    <div class=\"colab-df-buttons\">\n",
              "\n",
              "  <div class=\"colab-df-container\">\n",
              "    <button class=\"colab-df-convert\" onclick=\"convertToInteractive('df-bbca6083-e526-46cb-b1a8-fcde17ceb548')\"\n",
              "            title=\"Convert this dataframe to an interactive table.\"\n",
              "            style=\"display:none;\">\n",
              "\n",
              "  <svg xmlns=\"http://www.w3.org/2000/svg\" height=\"24px\" viewBox=\"0 -960 960 960\">\n",
              "    <path d=\"M120-120v-720h720v720H120Zm60-500h600v-160H180v160Zm220 220h160v-160H400v160Zm0 220h160v-160H400v160ZM180-400h160v-160H180v160Zm440 0h160v-160H620v160ZM180-180h160v-160H180v160Zm440 0h160v-160H620v160Z\"/>\n",
              "  </svg>\n",
              "    </button>\n",
              "\n",
              "  <style>\n",
              "    .colab-df-container {\n",
              "      display:flex;\n",
              "      gap: 12px;\n",
              "    }\n",
              "\n",
              "    .colab-df-convert {\n",
              "      background-color: #E8F0FE;\n",
              "      border: none;\n",
              "      border-radius: 50%;\n",
              "      cursor: pointer;\n",
              "      display: none;\n",
              "      fill: #1967D2;\n",
              "      height: 32px;\n",
              "      padding: 0 0 0 0;\n",
              "      width: 32px;\n",
              "    }\n",
              "\n",
              "    .colab-df-convert:hover {\n",
              "      background-color: #E2EBFA;\n",
              "      box-shadow: 0px 1px 2px rgba(60, 64, 67, 0.3), 0px 1px 3px 1px rgba(60, 64, 67, 0.15);\n",
              "      fill: #174EA6;\n",
              "    }\n",
              "\n",
              "    .colab-df-buttons div {\n",
              "      margin-bottom: 4px;\n",
              "    }\n",
              "\n",
              "    [theme=dark] .colab-df-convert {\n",
              "      background-color: #3B4455;\n",
              "      fill: #D2E3FC;\n",
              "    }\n",
              "\n",
              "    [theme=dark] .colab-df-convert:hover {\n",
              "      background-color: #434B5C;\n",
              "      box-shadow: 0px 1px 3px 1px rgba(0, 0, 0, 0.15);\n",
              "      filter: drop-shadow(0px 1px 2px rgba(0, 0, 0, 0.3));\n",
              "      fill: #FFFFFF;\n",
              "    }\n",
              "  </style>\n",
              "\n",
              "    <script>\n",
              "      const buttonEl =\n",
              "        document.querySelector('#df-bbca6083-e526-46cb-b1a8-fcde17ceb548 button.colab-df-convert');\n",
              "      buttonEl.style.display =\n",
              "        google.colab.kernel.accessAllowed ? 'block' : 'none';\n",
              "\n",
              "      async function convertToInteractive(key) {\n",
              "        const element = document.querySelector('#df-bbca6083-e526-46cb-b1a8-fcde17ceb548');\n",
              "        const dataTable =\n",
              "          await google.colab.kernel.invokeFunction('convertToInteractive',\n",
              "                                                    [key], {});\n",
              "        if (!dataTable) return;\n",
              "\n",
              "        const docLinkHtml = 'Like what you see? Visit the ' +\n",
              "          '<a target=\"_blank\" href=https://colab.research.google.com/notebooks/data_table.ipynb>data table notebook</a>'\n",
              "          + ' to learn more about interactive tables.';\n",
              "        element.innerHTML = '';\n",
              "        dataTable['output_type'] = 'display_data';\n",
              "        await google.colab.output.renderOutput(dataTable, element);\n",
              "        const docLink = document.createElement('div');\n",
              "        docLink.innerHTML = docLinkHtml;\n",
              "        element.appendChild(docLink);\n",
              "      }\n",
              "    </script>\n",
              "  </div>\n",
              "\n",
              "\n",
              "    </div>\n",
              "  </div>\n"
            ],
            "text/plain": [
              "       1900-1909  1910-1919  1920-1929  1930-1939  1940-1949  1950-1959  \\\n",
              "67914          0          0          0          0          0          0   \n",
              "\n",
              "       1960-1969  1970-1979  1980-1989  1990-1999  2000-2009  2010-2019  \\\n",
              "67914          0          1          0          0          0          0   \n",
              "\n",
              "       2020-2029  \n",
              "67914          0  "
            ]
          },
          "execution_count": 18,
          "metadata": {},
          "output_type": "execute_result"
        }
      ],
      "source": [
        "# Работа со столбцом `release_year`\n",
        "\n",
        "min_year, max_year = meta_data['release_year'].min() // 10 * 10, meta_data['release_year'].max() // 10 * 10 + 10\n",
        "\n",
        "bins = np.arange(min_year, max_year + 10, 10)\n",
        "labels = [f\"{i}-{i + 9}\" for i in bins[:-1]]\n",
        "bin_release_year = pd.cut(meta_data['release_year'], bins=bins, labels=labels, right=False)\n",
        "ohe_release_year_df = pd.get_dummies(bin_release_year, dtype=int)\n",
        "ohe_release_year_df.sample()\n"
      ]
    },
    {
      "cell_type": "code",
      "execution_count": null,
      "metadata": {
        "colab": {
          "base_uri": "https://localhost:8080/",
          "height": 115
        },
        "id": "rlPgROO2XbYg",
        "outputId": "cdc95905-e19f-4516-ea82-472048700759"
      },
      "outputs": [
        {
          "data": {
            "text/html": [
              "<div>\n",
              "<style scoped>\n",
              "    .dataframe tbody tr th:only-of-type {\n",
              "        vertical-align: middle;\n",
              "    }\n",
              "\n",
              "    .dataframe tbody tr th {\n",
              "        vertical-align: top;\n",
              "    }\n",
              "\n",
              "    .dataframe thead th {\n",
              "        text-align: right;\n",
              "    }\n",
              "</style>\n",
              "<table border=\"1\" class=\"dataframe\">\n",
              "  <thead>\n",
              "    <tr style=\"text-align: right;\">\n",
              "      <th></th>\n",
              "      <th>age_rating</th>\n",
              "    </tr>\n",
              "  </thead>\n",
              "  <tbody>\n",
              "    <tr>\n",
              "      <th>49698</th>\n",
              "      <td>-1</td>\n",
              "    </tr>\n",
              "  </tbody>\n",
              "</table>\n",
              "</div><br><label><b>dtype:</b> int64</label>"
            ],
            "text/plain": [
              "49698   -1\n",
              "Name: age_rating, dtype: int64"
            ]
          },
          "execution_count": 19,
          "metadata": {},
          "output_type": "execute_result"
        }
      ],
      "source": [
        "# Рпбота со столбцом `age_rating`\n",
        "\n",
        "age_rating_df = meta_data['age_rating'].apply(lambda x: -1 if pd.isna(x) else int(x)) # Или можно 0, или средним\n",
        "age_rating_df.sample()"
      ]
    },
    {
      "cell_type": "code",
      "execution_count": null,
      "metadata": {
        "colab": {
          "base_uri": "https://localhost:8080/",
          "height": 80
        },
        "id": "DvGjjV_GcZsJ",
        "outputId": "6243a02e-a1a2-429f-cc56-2369bb5de34d"
      },
      "outputs": [
        {
          "data": {
            "application/vnd.google.colaboratory.intrinsic+json": {
              "summary": "{\n  \"name\": \"rating_df\",\n  \"rows\": 1,\n  \"fields\": [\n    {\n      \"column\": \"rating\",\n      \"properties\": {\n        \"dtype\": \"number\",\n        \"std\": null,\n        \"min\": 6.45,\n        \"max\": 6.45,\n        \"num_unique_values\": 1,\n        \"samples\": [\n          6.45\n        ],\n        \"semantic_type\": \"\",\n        \"description\": \"\"\n      }\n    }\n  ]\n}",
              "type": "dataframe"
            },
            "text/html": [
              "\n",
              "  <div id=\"df-12d0f8a8-5304-483c-b0de-516ef4bafa56\" class=\"colab-df-container\">\n",
              "    <div>\n",
              "<style scoped>\n",
              "    .dataframe tbody tr th:only-of-type {\n",
              "        vertical-align: middle;\n",
              "    }\n",
              "\n",
              "    .dataframe tbody tr th {\n",
              "        vertical-align: top;\n",
              "    }\n",
              "\n",
              "    .dataframe thead th {\n",
              "        text-align: right;\n",
              "    }\n",
              "</style>\n",
              "<table border=\"1\" class=\"dataframe\">\n",
              "  <thead>\n",
              "    <tr style=\"text-align: right;\">\n",
              "      <th></th>\n",
              "      <th>rating</th>\n",
              "    </tr>\n",
              "  </thead>\n",
              "  <tbody>\n",
              "    <tr>\n",
              "      <th>7249</th>\n",
              "      <td>6.45</td>\n",
              "    </tr>\n",
              "  </tbody>\n",
              "</table>\n",
              "</div>\n",
              "    <div class=\"colab-df-buttons\">\n",
              "\n",
              "  <div class=\"colab-df-container\">\n",
              "    <button class=\"colab-df-convert\" onclick=\"convertToInteractive('df-12d0f8a8-5304-483c-b0de-516ef4bafa56')\"\n",
              "            title=\"Convert this dataframe to an interactive table.\"\n",
              "            style=\"display:none;\">\n",
              "\n",
              "  <svg xmlns=\"http://www.w3.org/2000/svg\" height=\"24px\" viewBox=\"0 -960 960 960\">\n",
              "    <path d=\"M120-120v-720h720v720H120Zm60-500h600v-160H180v160Zm220 220h160v-160H400v160Zm0 220h160v-160H400v160ZM180-400h160v-160H180v160Zm440 0h160v-160H620v160ZM180-180h160v-160H180v160Zm440 0h160v-160H620v160Z\"/>\n",
              "  </svg>\n",
              "    </button>\n",
              "\n",
              "  <style>\n",
              "    .colab-df-container {\n",
              "      display:flex;\n",
              "      gap: 12px;\n",
              "    }\n",
              "\n",
              "    .colab-df-convert {\n",
              "      background-color: #E8F0FE;\n",
              "      border: none;\n",
              "      border-radius: 50%;\n",
              "      cursor: pointer;\n",
              "      display: none;\n",
              "      fill: #1967D2;\n",
              "      height: 32px;\n",
              "      padding: 0 0 0 0;\n",
              "      width: 32px;\n",
              "    }\n",
              "\n",
              "    .colab-df-convert:hover {\n",
              "      background-color: #E2EBFA;\n",
              "      box-shadow: 0px 1px 2px rgba(60, 64, 67, 0.3), 0px 1px 3px 1px rgba(60, 64, 67, 0.15);\n",
              "      fill: #174EA6;\n",
              "    }\n",
              "\n",
              "    .colab-df-buttons div {\n",
              "      margin-bottom: 4px;\n",
              "    }\n",
              "\n",
              "    [theme=dark] .colab-df-convert {\n",
              "      background-color: #3B4455;\n",
              "      fill: #D2E3FC;\n",
              "    }\n",
              "\n",
              "    [theme=dark] .colab-df-convert:hover {\n",
              "      background-color: #434B5C;\n",
              "      box-shadow: 0px 1px 3px 1px rgba(0, 0, 0, 0.15);\n",
              "      filter: drop-shadow(0px 1px 2px rgba(0, 0, 0, 0.3));\n",
              "      fill: #FFFFFF;\n",
              "    }\n",
              "  </style>\n",
              "\n",
              "    <script>\n",
              "      const buttonEl =\n",
              "        document.querySelector('#df-12d0f8a8-5304-483c-b0de-516ef4bafa56 button.colab-df-convert');\n",
              "      buttonEl.style.display =\n",
              "        google.colab.kernel.accessAllowed ? 'block' : 'none';\n",
              "\n",
              "      async function convertToInteractive(key) {\n",
              "        const element = document.querySelector('#df-12d0f8a8-5304-483c-b0de-516ef4bafa56');\n",
              "        const dataTable =\n",
              "          await google.colab.kernel.invokeFunction('convertToInteractive',\n",
              "                                                    [key], {});\n",
              "        if (!dataTable) return;\n",
              "\n",
              "        const docLinkHtml = 'Like what you see? Visit the ' +\n",
              "          '<a target=\"_blank\" href=https://colab.research.google.com/notebooks/data_table.ipynb>data table notebook</a>'\n",
              "          + ' to learn more about interactive tables.';\n",
              "        element.innerHTML = '';\n",
              "        dataTable['output_type'] = 'display_data';\n",
              "        await google.colab.output.renderOutput(dataTable, element);\n",
              "        const docLink = document.createElement('div');\n",
              "        docLink.innerHTML = docLinkHtml;\n",
              "        element.appendChild(docLink);\n",
              "      }\n",
              "    </script>\n",
              "  </div>\n",
              "\n",
              "\n",
              "    </div>\n",
              "  </div>\n"
            ],
            "text/plain": [
              "      rating\n",
              "7249    6.45"
            ]
          },
          "execution_count": 20,
          "metadata": {},
          "output_type": "execute_result"
        }
      ],
      "source": [
        "# Работа со столбцами `rating_kp` & `rating_imdb`\n",
        "\n",
        "def combine_ratings(row):\n",
        "    imdb, kp = row['rating_imdb'], row['rating_kp']\n",
        "\n",
        "    if not pd.isna(imdb) and not pd.isna(kp):\n",
        "        return (imdb + kp) / 2\n",
        "    elif not pd.isna(imdb):\n",
        "        return imdb\n",
        "    elif not pd.isna(kp):\n",
        "        return kp\n",
        "    else:\n",
        "        return 0\n",
        "\n",
        "rating_df = pd.DataFrame(meta_data.apply(combine_ratings, axis=1), columns=['rating'])\n",
        "rating_df.sample()"
      ]
    },
    {
      "cell_type": "code",
      "execution_count": null,
      "metadata": {
        "colab": {
          "base_uri": "https://localhost:8080/",
          "height": 80
        },
        "id": "yMMmpnsBdk9M",
        "outputId": "dbc7058e-b837-42fa-e3bb-fbe4b16ef74f"
      },
      "outputs": [
        {
          "data": {
            "application/vnd.google.colaboratory.intrinsic+json": {
              "summary": "{\n  \"name\": \"ohe_runtime_df\",\n  \"rows\": 1,\n  \"fields\": [\n    {\n      \"column\": \"runtime_epic\",\n      \"properties\": {\n        \"dtype\": \"number\",\n        \"std\": null,\n        \"min\": 0,\n        \"max\": 0,\n        \"num_unique_values\": 1,\n        \"samples\": [\n          0\n        ],\n        \"semantic_type\": \"\",\n        \"description\": \"\"\n      }\n    },\n    {\n      \"column\": \"runtime_long\",\n      \"properties\": {\n        \"dtype\": \"number\",\n        \"std\": null,\n        \"min\": 0,\n        \"max\": 0,\n        \"num_unique_values\": 1,\n        \"samples\": [\n          0\n        ],\n        \"semantic_type\": \"\",\n        \"description\": \"\"\n      }\n    },\n    {\n      \"column\": \"runtime_medium\",\n      \"properties\": {\n        \"dtype\": \"number\",\n        \"std\": null,\n        \"min\": 1,\n        \"max\": 1,\n        \"num_unique_values\": 1,\n        \"samples\": [\n          1\n        ],\n        \"semantic_type\": \"\",\n        \"description\": \"\"\n      }\n    },\n    {\n      \"column\": \"runtime_short\",\n      \"properties\": {\n        \"dtype\": \"number\",\n        \"std\": null,\n        \"min\": 0,\n        \"max\": 0,\n        \"num_unique_values\": 1,\n        \"samples\": [\n          0\n        ],\n        \"semantic_type\": \"\",\n        \"description\": \"\"\n      }\n    },\n    {\n      \"column\": \"runtime_unknown\",\n      \"properties\": {\n        \"dtype\": \"number\",\n        \"std\": null,\n        \"min\": 0,\n        \"max\": 0,\n        \"num_unique_values\": 1,\n        \"samples\": [\n          0\n        ],\n        \"semantic_type\": \"\",\n        \"description\": \"\"\n      }\n    }\n  ]\n}",
              "type": "dataframe"
            },
            "text/html": [
              "\n",
              "  <div id=\"df-135ad9b5-76b2-46c8-83d8-6ee6fa036457\" class=\"colab-df-container\">\n",
              "    <div>\n",
              "<style scoped>\n",
              "    .dataframe tbody tr th:only-of-type {\n",
              "        vertical-align: middle;\n",
              "    }\n",
              "\n",
              "    .dataframe tbody tr th {\n",
              "        vertical-align: top;\n",
              "    }\n",
              "\n",
              "    .dataframe thead th {\n",
              "        text-align: right;\n",
              "    }\n",
              "</style>\n",
              "<table border=\"1\" class=\"dataframe\">\n",
              "  <thead>\n",
              "    <tr style=\"text-align: right;\">\n",
              "      <th></th>\n",
              "      <th>runtime_epic</th>\n",
              "      <th>runtime_long</th>\n",
              "      <th>runtime_medium</th>\n",
              "      <th>runtime_short</th>\n",
              "      <th>runtime_unknown</th>\n",
              "    </tr>\n",
              "  </thead>\n",
              "  <tbody>\n",
              "    <tr>\n",
              "      <th>4002</th>\n",
              "      <td>0</td>\n",
              "      <td>0</td>\n",
              "      <td>1</td>\n",
              "      <td>0</td>\n",
              "      <td>0</td>\n",
              "    </tr>\n",
              "  </tbody>\n",
              "</table>\n",
              "</div>\n",
              "    <div class=\"colab-df-buttons\">\n",
              "\n",
              "  <div class=\"colab-df-container\">\n",
              "    <button class=\"colab-df-convert\" onclick=\"convertToInteractive('df-135ad9b5-76b2-46c8-83d8-6ee6fa036457')\"\n",
              "            title=\"Convert this dataframe to an interactive table.\"\n",
              "            style=\"display:none;\">\n",
              "\n",
              "  <svg xmlns=\"http://www.w3.org/2000/svg\" height=\"24px\" viewBox=\"0 -960 960 960\">\n",
              "    <path d=\"M120-120v-720h720v720H120Zm60-500h600v-160H180v160Zm220 220h160v-160H400v160Zm0 220h160v-160H400v160ZM180-400h160v-160H180v160Zm440 0h160v-160H620v160ZM180-180h160v-160H180v160Zm440 0h160v-160H620v160Z\"/>\n",
              "  </svg>\n",
              "    </button>\n",
              "\n",
              "  <style>\n",
              "    .colab-df-container {\n",
              "      display:flex;\n",
              "      gap: 12px;\n",
              "    }\n",
              "\n",
              "    .colab-df-convert {\n",
              "      background-color: #E8F0FE;\n",
              "      border: none;\n",
              "      border-radius: 50%;\n",
              "      cursor: pointer;\n",
              "      display: none;\n",
              "      fill: #1967D2;\n",
              "      height: 32px;\n",
              "      padding: 0 0 0 0;\n",
              "      width: 32px;\n",
              "    }\n",
              "\n",
              "    .colab-df-convert:hover {\n",
              "      background-color: #E2EBFA;\n",
              "      box-shadow: 0px 1px 2px rgba(60, 64, 67, 0.3), 0px 1px 3px 1px rgba(60, 64, 67, 0.15);\n",
              "      fill: #174EA6;\n",
              "    }\n",
              "\n",
              "    .colab-df-buttons div {\n",
              "      margin-bottom: 4px;\n",
              "    }\n",
              "\n",
              "    [theme=dark] .colab-df-convert {\n",
              "      background-color: #3B4455;\n",
              "      fill: #D2E3FC;\n",
              "    }\n",
              "\n",
              "    [theme=dark] .colab-df-convert:hover {\n",
              "      background-color: #434B5C;\n",
              "      box-shadow: 0px 1px 3px 1px rgba(0, 0, 0, 0.15);\n",
              "      filter: drop-shadow(0px 1px 2px rgba(0, 0, 0, 0.3));\n",
              "      fill: #FFFFFF;\n",
              "    }\n",
              "  </style>\n",
              "\n",
              "    <script>\n",
              "      const buttonEl =\n",
              "        document.querySelector('#df-135ad9b5-76b2-46c8-83d8-6ee6fa036457 button.colab-df-convert');\n",
              "      buttonEl.style.display =\n",
              "        google.colab.kernel.accessAllowed ? 'block' : 'none';\n",
              "\n",
              "      async function convertToInteractive(key) {\n",
              "        const element = document.querySelector('#df-135ad9b5-76b2-46c8-83d8-6ee6fa036457');\n",
              "        const dataTable =\n",
              "          await google.colab.kernel.invokeFunction('convertToInteractive',\n",
              "                                                    [key], {});\n",
              "        if (!dataTable) return;\n",
              "\n",
              "        const docLinkHtml = 'Like what you see? Visit the ' +\n",
              "          '<a target=\"_blank\" href=https://colab.research.google.com/notebooks/data_table.ipynb>data table notebook</a>'\n",
              "          + ' to learn more about interactive tables.';\n",
              "        element.innerHTML = '';\n",
              "        dataTable['output_type'] = 'display_data';\n",
              "        await google.colab.output.renderOutput(dataTable, element);\n",
              "        const docLink = document.createElement('div');\n",
              "        docLink.innerHTML = docLinkHtml;\n",
              "        element.appendChild(docLink);\n",
              "      }\n",
              "    </script>\n",
              "  </div>\n",
              "\n",
              "\n",
              "    </div>\n",
              "  </div>\n"
            ],
            "text/plain": [
              "      runtime_epic  runtime_long  runtime_medium  runtime_short  \\\n",
              "4002             0             0               1              0   \n",
              "\n",
              "      runtime_unknown  \n",
              "4002                0  "
            ]
          },
          "execution_count": 21,
          "metadata": {},
          "output_type": "execute_result"
        }
      ],
      "source": [
        "# Работа со столбцом `runtime`\n",
        "\n",
        "def runtime_category(runtime):\n",
        "    if pd.isna(runtime): return 'unknown'\n",
        "    elif runtime < 60: return 'short'\n",
        "    elif runtime < 120: return 'medium'\n",
        "    elif runtime < 180: return 'long'\n",
        "    else: return 'epic'\n",
        "\n",
        "runtime_df = pd.DataFrame(meta_data['runtime'].apply(runtime_category), columns=['runtime'])\n",
        "ohe_runtime_df = pd.get_dummies(runtime_df, dtype=int)\n",
        "ohe_runtime_df.sample()"
      ]
    },
    {
      "cell_type": "code",
      "execution_count": null,
      "metadata": {
        "colab": {
          "base_uri": "https://localhost:8080/",
          "height": 147
        },
        "id": "O1SlGelUfXwQ",
        "outputId": "7486d14a-b43f-4d55-9da5-81a43c954d76"
      },
      "outputs": [
        {
          "data": {
            "application/vnd.google.colaboratory.intrinsic+json": {
              "type": "dataframe"
            },
            "text/html": [
              "\n",
              "  <div id=\"df-dc0c34c6-3766-4fcc-bf5c-f92804c5a160\" class=\"colab-df-container\">\n",
              "    <div>\n",
              "<style scoped>\n",
              "    .dataframe tbody tr th:only-of-type {\n",
              "        vertical-align: middle;\n",
              "    }\n",
              "\n",
              "    .dataframe tbody tr th {\n",
              "        vertical-align: top;\n",
              "    }\n",
              "\n",
              "    .dataframe thead th {\n",
              "        text-align: right;\n",
              "    }\n",
              "</style>\n",
              "<table border=\"1\" class=\"dataframe\">\n",
              "  <thead>\n",
              "    <tr style=\"text-align: right;\">\n",
              "      <th></th>\n",
              "      <th>аниме</th>\n",
              "      <th>биография</th>\n",
              "      <th>боевик</th>\n",
              "      <th>вестерн</th>\n",
              "      <th>военный</th>\n",
              "      <th>детектив</th>\n",
              "      <th>детский</th>\n",
              "      <th>документальный</th>\n",
              "      <th>драма</th>\n",
              "      <th>история</th>\n",
              "      <th>...</th>\n",
              "      <th>неизвестный</th>\n",
              "      <th>приключения</th>\n",
              "      <th>реальное ТВ</th>\n",
              "      <th>семейный</th>\n",
              "      <th>спорт</th>\n",
              "      <th>триллер</th>\n",
              "      <th>ужасы</th>\n",
              "      <th>фантастика</th>\n",
              "      <th>фильм-нуар</th>\n",
              "      <th>фэнтези</th>\n",
              "    </tr>\n",
              "  </thead>\n",
              "  <tbody>\n",
              "    <tr>\n",
              "      <th>64761</th>\n",
              "      <td>0</td>\n",
              "      <td>0</td>\n",
              "      <td>0</td>\n",
              "      <td>0</td>\n",
              "      <td>0</td>\n",
              "      <td>0</td>\n",
              "      <td>0</td>\n",
              "      <td>0</td>\n",
              "      <td>1</td>\n",
              "      <td>0</td>\n",
              "      <td>...</td>\n",
              "      <td>0</td>\n",
              "      <td>0</td>\n",
              "      <td>0</td>\n",
              "      <td>0</td>\n",
              "      <td>0</td>\n",
              "      <td>0</td>\n",
              "      <td>0</td>\n",
              "      <td>0</td>\n",
              "      <td>0</td>\n",
              "      <td>0</td>\n",
              "    </tr>\n",
              "  </tbody>\n",
              "</table>\n",
              "<p>1 rows × 26 columns</p>\n",
              "</div>\n",
              "    <div class=\"colab-df-buttons\">\n",
              "\n",
              "  <div class=\"colab-df-container\">\n",
              "    <button class=\"colab-df-convert\" onclick=\"convertToInteractive('df-dc0c34c6-3766-4fcc-bf5c-f92804c5a160')\"\n",
              "            title=\"Convert this dataframe to an interactive table.\"\n",
              "            style=\"display:none;\">\n",
              "\n",
              "  <svg xmlns=\"http://www.w3.org/2000/svg\" height=\"24px\" viewBox=\"0 -960 960 960\">\n",
              "    <path d=\"M120-120v-720h720v720H120Zm60-500h600v-160H180v160Zm220 220h160v-160H400v160Zm0 220h160v-160H400v160ZM180-400h160v-160H180v160Zm440 0h160v-160H620v160ZM180-180h160v-160H180v160Zm440 0h160v-160H620v160Z\"/>\n",
              "  </svg>\n",
              "    </button>\n",
              "\n",
              "  <style>\n",
              "    .colab-df-container {\n",
              "      display:flex;\n",
              "      gap: 12px;\n",
              "    }\n",
              "\n",
              "    .colab-df-convert {\n",
              "      background-color: #E8F0FE;\n",
              "      border: none;\n",
              "      border-radius: 50%;\n",
              "      cursor: pointer;\n",
              "      display: none;\n",
              "      fill: #1967D2;\n",
              "      height: 32px;\n",
              "      padding: 0 0 0 0;\n",
              "      width: 32px;\n",
              "    }\n",
              "\n",
              "    .colab-df-convert:hover {\n",
              "      background-color: #E2EBFA;\n",
              "      box-shadow: 0px 1px 2px rgba(60, 64, 67, 0.3), 0px 1px 3px 1px rgba(60, 64, 67, 0.15);\n",
              "      fill: #174EA6;\n",
              "    }\n",
              "\n",
              "    .colab-df-buttons div {\n",
              "      margin-bottom: 4px;\n",
              "    }\n",
              "\n",
              "    [theme=dark] .colab-df-convert {\n",
              "      background-color: #3B4455;\n",
              "      fill: #D2E3FC;\n",
              "    }\n",
              "\n",
              "    [theme=dark] .colab-df-convert:hover {\n",
              "      background-color: #434B5C;\n",
              "      box-shadow: 0px 1px 3px 1px rgba(0, 0, 0, 0.15);\n",
              "      filter: drop-shadow(0px 1px 2px rgba(0, 0, 0, 0.3));\n",
              "      fill: #FFFFFF;\n",
              "    }\n",
              "  </style>\n",
              "\n",
              "    <script>\n",
              "      const buttonEl =\n",
              "        document.querySelector('#df-dc0c34c6-3766-4fcc-bf5c-f92804c5a160 button.colab-df-convert');\n",
              "      buttonEl.style.display =\n",
              "        google.colab.kernel.accessAllowed ? 'block' : 'none';\n",
              "\n",
              "      async function convertToInteractive(key) {\n",
              "        const element = document.querySelector('#df-dc0c34c6-3766-4fcc-bf5c-f92804c5a160');\n",
              "        const dataTable =\n",
              "          await google.colab.kernel.invokeFunction('convertToInteractive',\n",
              "                                                    [key], {});\n",
              "        if (!dataTable) return;\n",
              "\n",
              "        const docLinkHtml = 'Like what you see? Visit the ' +\n",
              "          '<a target=\"_blank\" href=https://colab.research.google.com/notebooks/data_table.ipynb>data table notebook</a>'\n",
              "          + ' to learn more about interactive tables.';\n",
              "        element.innerHTML = '';\n",
              "        dataTable['output_type'] = 'display_data';\n",
              "        await google.colab.output.renderOutput(dataTable, element);\n",
              "        const docLink = document.createElement('div');\n",
              "        docLink.innerHTML = docLinkHtml;\n",
              "        element.appendChild(docLink);\n",
              "      }\n",
              "    </script>\n",
              "  </div>\n",
              "\n",
              "\n",
              "    </div>\n",
              "  </div>\n"
            ],
            "text/plain": [
              "       аниме  биография  боевик  вестерн  военный  детектив  детский  \\\n",
              "64761      0          0       0        0        0         0        0   \n",
              "\n",
              "       документальный  драма  история  ...  неизвестный  приключения  \\\n",
              "64761               0      1        0  ...            0            0   \n",
              "\n",
              "       реальное ТВ  семейный  спорт  триллер  ужасы  фантастика  фильм-нуар  \\\n",
              "64761            0         0      0        0      0           0           0   \n",
              "\n",
              "       фэнтези  \n",
              "64761        0  \n",
              "\n",
              "[1 rows x 26 columns]"
            ]
          },
          "execution_count": 22,
          "metadata": {},
          "output_type": "execute_result"
        }
      ],
      "source": [
        "# Работа со столбцом `genres`\n",
        "\n",
        "meta_data['genres'] = meta_data['genres'].apply(lambda x: x if isinstance(x, list) else [])\n",
        "meta_data['genres'] = meta_data['genres'].apply(lambda x: x if x else ['неизвестный'])\n",
        "\n",
        "mlb = MultiLabelBinarizer()\n",
        "ohe_genres = mlb.fit_transform(meta_data['genres'])\n",
        "\n",
        "ohe_genres_df = pd.DataFrame(ohe_genres, columns=mlb.classes_)\n",
        "ohe_genres_df.sample()"
      ]
    },
    {
      "cell_type": "code",
      "execution_count": null,
      "metadata": {
        "colab": {
          "base_uri": "https://localhost:8080/",
          "height": 147
        },
        "id": "9YB0S21ChKii",
        "outputId": "bb8d5371-3b87-4f23-b0c8-d0a320b6b47c"
      },
      "outputs": [
        {
          "data": {
            "application/vnd.google.colaboratory.intrinsic+json": {
              "type": "dataframe"
            },
            "text/html": [
              "\n",
              "  <div id=\"df-1171bad1-7c36-4f02-97c2-c5f21a00d0a4\" class=\"colab-df-container\">\n",
              "    <div>\n",
              "<style scoped>\n",
              "    .dataframe tbody tr th:only-of-type {\n",
              "        vertical-align: middle;\n",
              "    }\n",
              "\n",
              "    .dataframe tbody tr th {\n",
              "        vertical-align: top;\n",
              "    }\n",
              "\n",
              "    .dataframe thead th {\n",
              "        text-align: right;\n",
              "    }\n",
              "</style>\n",
              "<table border=\"1\" class=\"dataframe\">\n",
              "  <thead>\n",
              "    <tr style=\"text-align: right;\">\n",
              "      <th></th>\n",
              "      <th>Австралия</th>\n",
              "      <th>Бельгия</th>\n",
              "      <th>Великобритания</th>\n",
              "      <th>Германия</th>\n",
              "      <th>Германия (ФРГ)</th>\n",
              "      <th>Гонконг</th>\n",
              "      <th>Другие</th>\n",
              "      <th>Индия</th>\n",
              "      <th>Испания</th>\n",
              "      <th>Италия</th>\n",
              "      <th>...</th>\n",
              "      <th>Китай</th>\n",
              "      <th>Корея Южная</th>\n",
              "      <th>Мексика</th>\n",
              "      <th>Польша</th>\n",
              "      <th>Россия</th>\n",
              "      <th>СССР</th>\n",
              "      <th>США</th>\n",
              "      <th>Франция</th>\n",
              "      <th>Швеция</th>\n",
              "      <th>Япония</th>\n",
              "    </tr>\n",
              "  </thead>\n",
              "  <tbody>\n",
              "    <tr>\n",
              "      <th>49109</th>\n",
              "      <td>0</td>\n",
              "      <td>0</td>\n",
              "      <td>0</td>\n",
              "      <td>0</td>\n",
              "      <td>0</td>\n",
              "      <td>0</td>\n",
              "      <td>0</td>\n",
              "      <td>0</td>\n",
              "      <td>0</td>\n",
              "      <td>0</td>\n",
              "      <td>...</td>\n",
              "      <td>0</td>\n",
              "      <td>0</td>\n",
              "      <td>0</td>\n",
              "      <td>0</td>\n",
              "      <td>0</td>\n",
              "      <td>0</td>\n",
              "      <td>1</td>\n",
              "      <td>0</td>\n",
              "      <td>0</td>\n",
              "      <td>0</td>\n",
              "    </tr>\n",
              "  </tbody>\n",
              "</table>\n",
              "<p>1 rows × 21 columns</p>\n",
              "</div>\n",
              "    <div class=\"colab-df-buttons\">\n",
              "\n",
              "  <div class=\"colab-df-container\">\n",
              "    <button class=\"colab-df-convert\" onclick=\"convertToInteractive('df-1171bad1-7c36-4f02-97c2-c5f21a00d0a4')\"\n",
              "            title=\"Convert this dataframe to an interactive table.\"\n",
              "            style=\"display:none;\">\n",
              "\n",
              "  <svg xmlns=\"http://www.w3.org/2000/svg\" height=\"24px\" viewBox=\"0 -960 960 960\">\n",
              "    <path d=\"M120-120v-720h720v720H120Zm60-500h600v-160H180v160Zm220 220h160v-160H400v160Zm0 220h160v-160H400v160ZM180-400h160v-160H180v160Zm440 0h160v-160H620v160ZM180-180h160v-160H180v160Zm440 0h160v-160H620v160Z\"/>\n",
              "  </svg>\n",
              "    </button>\n",
              "\n",
              "  <style>\n",
              "    .colab-df-container {\n",
              "      display:flex;\n",
              "      gap: 12px;\n",
              "    }\n",
              "\n",
              "    .colab-df-convert {\n",
              "      background-color: #E8F0FE;\n",
              "      border: none;\n",
              "      border-radius: 50%;\n",
              "      cursor: pointer;\n",
              "      display: none;\n",
              "      fill: #1967D2;\n",
              "      height: 32px;\n",
              "      padding: 0 0 0 0;\n",
              "      width: 32px;\n",
              "    }\n",
              "\n",
              "    .colab-df-convert:hover {\n",
              "      background-color: #E2EBFA;\n",
              "      box-shadow: 0px 1px 2px rgba(60, 64, 67, 0.3), 0px 1px 3px 1px rgba(60, 64, 67, 0.15);\n",
              "      fill: #174EA6;\n",
              "    }\n",
              "\n",
              "    .colab-df-buttons div {\n",
              "      margin-bottom: 4px;\n",
              "    }\n",
              "\n",
              "    [theme=dark] .colab-df-convert {\n",
              "      background-color: #3B4455;\n",
              "      fill: #D2E3FC;\n",
              "    }\n",
              "\n",
              "    [theme=dark] .colab-df-convert:hover {\n",
              "      background-color: #434B5C;\n",
              "      box-shadow: 0px 1px 3px 1px rgba(0, 0, 0, 0.15);\n",
              "      filter: drop-shadow(0px 1px 2px rgba(0, 0, 0, 0.3));\n",
              "      fill: #FFFFFF;\n",
              "    }\n",
              "  </style>\n",
              "\n",
              "    <script>\n",
              "      const buttonEl =\n",
              "        document.querySelector('#df-1171bad1-7c36-4f02-97c2-c5f21a00d0a4 button.colab-df-convert');\n",
              "      buttonEl.style.display =\n",
              "        google.colab.kernel.accessAllowed ? 'block' : 'none';\n",
              "\n",
              "      async function convertToInteractive(key) {\n",
              "        const element = document.querySelector('#df-1171bad1-7c36-4f02-97c2-c5f21a00d0a4');\n",
              "        const dataTable =\n",
              "          await google.colab.kernel.invokeFunction('convertToInteractive',\n",
              "                                                    [key], {});\n",
              "        if (!dataTable) return;\n",
              "\n",
              "        const docLinkHtml = 'Like what you see? Visit the ' +\n",
              "          '<a target=\"_blank\" href=https://colab.research.google.com/notebooks/data_table.ipynb>data table notebook</a>'\n",
              "          + ' to learn more about interactive tables.';\n",
              "        element.innerHTML = '';\n",
              "        dataTable['output_type'] = 'display_data';\n",
              "        await google.colab.output.renderOutput(dataTable, element);\n",
              "        const docLink = document.createElement('div');\n",
              "        docLink.innerHTML = docLinkHtml;\n",
              "        element.appendChild(docLink);\n",
              "      }\n",
              "    </script>\n",
              "  </div>\n",
              "\n",
              "\n",
              "    </div>\n",
              "  </div>\n"
            ],
            "text/plain": [
              "       Австралия  Бельгия  Великобритания  Германия  Германия (ФРГ)  Гонконг  \\\n",
              "49109          0        0               0         0               0        0   \n",
              "\n",
              "       Другие  Индия  Испания  Италия  ...  Китай  Корея Южная  Мексика  \\\n",
              "49109       0      0        0       0  ...      0            0        0   \n",
              "\n",
              "       Польша  Россия  СССР  США  Франция  Швеция  Япония  \n",
              "49109       0       0     0    1        0       0       0  \n",
              "\n",
              "[1 rows x 21 columns]"
            ]
          },
          "execution_count": 23,
          "metadata": {},
          "output_type": "execute_result"
        }
      ],
      "source": [
        "# Работа со столбцом `countries`\n",
        "\n",
        "TOP_COUNTRIES = 20\n",
        "top_countries = meta_data['countries'].explode().value_counts().head(TOP_COUNTRIES).index\n",
        "meta_data['countries'] = meta_data['countries'].apply(lambda x: x if isinstance(x, list) else [])\n",
        "meta_data['countries'] = meta_data['countries'].apply(lambda x: [c for c in x if c in top_countries])\n",
        "meta_data['countries'] = meta_data['countries'].apply(lambda x: x if x else ['Другие'])\n",
        "\n",
        "mlb = MultiLabelBinarizer()\n",
        "ohe_countries = mlb.fit_transform(meta_data['countries'])\n",
        "\n",
        "ohe_countries_df = pd.DataFrame(ohe_countries, columns=mlb.classes_)\n",
        "ohe_countries_df.sample()"
      ]
    },
    {
      "cell_type": "markdown",
      "metadata": {
        "id": "sbq8zLTKi0d_"
      },
      "source": [
        "Сконкатенируем обработанные признаки в один датафрейм"
      ]
    },
    {
      "cell_type": "code",
      "execution_count": null,
      "metadata": {
        "colab": {
          "base_uri": "https://localhost:8080/",
          "height": 147
        },
        "id": "y2DQWMDWimAB",
        "outputId": "5715d55c-27c4-4348-8a07-fda510e0efea"
      },
      "outputs": [
        {
          "data": {
            "application/vnd.google.colaboratory.intrinsic+json": {
              "type": "dataframe"
            },
            "text/html": [
              "\n",
              "  <div id=\"df-553d0cd7-9b80-46e9-bf8b-d3cd528559db\" class=\"colab-df-container\">\n",
              "    <div>\n",
              "<style scoped>\n",
              "    .dataframe tbody tr th:only-of-type {\n",
              "        vertical-align: middle;\n",
              "    }\n",
              "\n",
              "    .dataframe tbody tr th {\n",
              "        vertical-align: top;\n",
              "    }\n",
              "\n",
              "    .dataframe thead th {\n",
              "        text-align: right;\n",
              "    }\n",
              "</style>\n",
              "<table border=\"1\" class=\"dataframe\">\n",
              "  <thead>\n",
              "    <tr style=\"text-align: right;\">\n",
              "      <th></th>\n",
              "      <th>type_ANIME</th>\n",
              "      <th>type_CARTOON</th>\n",
              "      <th>type_MOVIE</th>\n",
              "      <th>1900-1909</th>\n",
              "      <th>1910-1919</th>\n",
              "      <th>1920-1929</th>\n",
              "      <th>1930-1939</th>\n",
              "      <th>1940-1949</th>\n",
              "      <th>1950-1959</th>\n",
              "      <th>1960-1969</th>\n",
              "      <th>...</th>\n",
              "      <th>Китай</th>\n",
              "      <th>Корея Южная</th>\n",
              "      <th>Мексика</th>\n",
              "      <th>Польша</th>\n",
              "      <th>Россия</th>\n",
              "      <th>СССР</th>\n",
              "      <th>США</th>\n",
              "      <th>Франция</th>\n",
              "      <th>Швеция</th>\n",
              "      <th>Япония</th>\n",
              "    </tr>\n",
              "  </thead>\n",
              "  <tbody>\n",
              "    <tr>\n",
              "      <th>89489</th>\n",
              "      <td>0.0</td>\n",
              "      <td>0.0</td>\n",
              "      <td>1.0</td>\n",
              "      <td>0</td>\n",
              "      <td>0</td>\n",
              "      <td>0</td>\n",
              "      <td>0</td>\n",
              "      <td>0</td>\n",
              "      <td>0</td>\n",
              "      <td>0</td>\n",
              "      <td>...</td>\n",
              "      <td>0</td>\n",
              "      <td>0</td>\n",
              "      <td>0</td>\n",
              "      <td>0</td>\n",
              "      <td>0</td>\n",
              "      <td>0</td>\n",
              "      <td>0</td>\n",
              "      <td>0</td>\n",
              "      <td>0</td>\n",
              "      <td>0</td>\n",
              "    </tr>\n",
              "  </tbody>\n",
              "</table>\n",
              "<p>1 rows × 70 columns</p>\n",
              "</div>\n",
              "    <div class=\"colab-df-buttons\">\n",
              "\n",
              "  <div class=\"colab-df-container\">\n",
              "    <button class=\"colab-df-convert\" onclick=\"convertToInteractive('df-553d0cd7-9b80-46e9-bf8b-d3cd528559db')\"\n",
              "            title=\"Convert this dataframe to an interactive table.\"\n",
              "            style=\"display:none;\">\n",
              "\n",
              "  <svg xmlns=\"http://www.w3.org/2000/svg\" height=\"24px\" viewBox=\"0 -960 960 960\">\n",
              "    <path d=\"M120-120v-720h720v720H120Zm60-500h600v-160H180v160Zm220 220h160v-160H400v160Zm0 220h160v-160H400v160ZM180-400h160v-160H180v160Zm440 0h160v-160H620v160ZM180-180h160v-160H180v160Zm440 0h160v-160H620v160Z\"/>\n",
              "  </svg>\n",
              "    </button>\n",
              "\n",
              "  <style>\n",
              "    .colab-df-container {\n",
              "      display:flex;\n",
              "      gap: 12px;\n",
              "    }\n",
              "\n",
              "    .colab-df-convert {\n",
              "      background-color: #E8F0FE;\n",
              "      border: none;\n",
              "      border-radius: 50%;\n",
              "      cursor: pointer;\n",
              "      display: none;\n",
              "      fill: #1967D2;\n",
              "      height: 32px;\n",
              "      padding: 0 0 0 0;\n",
              "      width: 32px;\n",
              "    }\n",
              "\n",
              "    .colab-df-convert:hover {\n",
              "      background-color: #E2EBFA;\n",
              "      box-shadow: 0px 1px 2px rgba(60, 64, 67, 0.3), 0px 1px 3px 1px rgba(60, 64, 67, 0.15);\n",
              "      fill: #174EA6;\n",
              "    }\n",
              "\n",
              "    .colab-df-buttons div {\n",
              "      margin-bottom: 4px;\n",
              "    }\n",
              "\n",
              "    [theme=dark] .colab-df-convert {\n",
              "      background-color: #3B4455;\n",
              "      fill: #D2E3FC;\n",
              "    }\n",
              "\n",
              "    [theme=dark] .colab-df-convert:hover {\n",
              "      background-color: #434B5C;\n",
              "      box-shadow: 0px 1px 3px 1px rgba(0, 0, 0, 0.15);\n",
              "      filter: drop-shadow(0px 1px 2px rgba(0, 0, 0, 0.3));\n",
              "      fill: #FFFFFF;\n",
              "    }\n",
              "  </style>\n",
              "\n",
              "    <script>\n",
              "      const buttonEl =\n",
              "        document.querySelector('#df-553d0cd7-9b80-46e9-bf8b-d3cd528559db button.colab-df-convert');\n",
              "      buttonEl.style.display =\n",
              "        google.colab.kernel.accessAllowed ? 'block' : 'none';\n",
              "\n",
              "      async function convertToInteractive(key) {\n",
              "        const element = document.querySelector('#df-553d0cd7-9b80-46e9-bf8b-d3cd528559db');\n",
              "        const dataTable =\n",
              "          await google.colab.kernel.invokeFunction('convertToInteractive',\n",
              "                                                    [key], {});\n",
              "        if (!dataTable) return;\n",
              "\n",
              "        const docLinkHtml = 'Like what you see? Visit the ' +\n",
              "          '<a target=\"_blank\" href=https://colab.research.google.com/notebooks/data_table.ipynb>data table notebook</a>'\n",
              "          + ' to learn more about interactive tables.';\n",
              "        element.innerHTML = '';\n",
              "        dataTable['output_type'] = 'display_data';\n",
              "        await google.colab.output.renderOutput(dataTable, element);\n",
              "        const docLink = document.createElement('div');\n",
              "        docLink.innerHTML = docLinkHtml;\n",
              "        element.appendChild(docLink);\n",
              "      }\n",
              "    </script>\n",
              "  </div>\n",
              "\n",
              "\n",
              "    </div>\n",
              "  </div>\n"
            ],
            "text/plain": [
              "       type_ANIME  type_CARTOON  type_MOVIE  1900-1909  1910-1919  1920-1929  \\\n",
              "89489         0.0           0.0         1.0          0          0          0   \n",
              "\n",
              "       1930-1939  1940-1949  1950-1959  1960-1969  ...  Китай  Корея Южная  \\\n",
              "89489          0          0          0          0  ...      0            0   \n",
              "\n",
              "       Мексика  Польша  Россия  СССР  США  Франция  Швеция  Япония  \n",
              "89489        0       0       0     0    0        0       0       0  \n",
              "\n",
              "[1 rows x 70 columns]"
            ]
          },
          "execution_count": 24,
          "metadata": {},
          "output_type": "execute_result"
        }
      ],
      "source": [
        "meta_data = pd.concat([ohe_type_df, ohe_release_year_df, age_rating_df, rating_df,\n",
        "                       ohe_runtime_df, ohe_genres_df, ohe_countries_df], axis=1)\n",
        "meta_data.sample()"
      ]
    },
    {
      "cell_type": "code",
      "execution_count": null,
      "metadata": {
        "colab": {
          "base_uri": "https://localhost:8080/"
        },
        "id": "OFp3tyAWi-KJ",
        "outputId": "fd412c18-84e9-4cab-c26a-e268e661c353"
      },
      "outputs": [
        {
          "data": {
            "text/plain": [
              "(99188, 70)"
            ]
          },
          "execution_count": 25,
          "metadata": {},
          "output_type": "execute_result"
        }
      ],
      "source": [
        "meta_data.shape"
      ]
    },
    {
      "cell_type": "code",
      "execution_count": null,
      "metadata": {
        "id": "sFWyra96jYEc"
      },
      "outputs": [],
      "source": [
        "class MetaDataset(Dataset):\n",
        "    def __init__(self, data):\n",
        "        self.data = data\n",
        "\n",
        "    def __len__(self):\n",
        "        return len(self.data)\n",
        "\n",
        "    def __getitem__(self, idx):\n",
        "        return self.data.iloc[idx].to_numpy()\n",
        "\n",
        "\n",
        "BATCH_SIZE = 256\n",
        "meta_dataset = MetaDataset(meta_data)\n",
        "meta_dataloader = DataLoader(meta_dataset, batch_size=BATCH_SIZE, shuffle=False)"
      ]
    },
    {
      "cell_type": "markdown",
      "metadata": {
        "id": "-hrot_cdjHnh"
      },
      "source": [
        "#### Получение итоговых эмбеддингов"
      ]
    },
    {
      "cell_type": "code",
      "execution_count": null,
      "metadata": {
        "id": "iFIh5PXye2bB"
      },
      "outputs": [],
      "source": [
        "n_components = 256\n",
        "output_file = '/content/drive/MyDrive/movies_embeddings.csv'\n",
        "ipca = IncrementalPCA(n_components=n_components)\n",
        "\n",
        "# Первый проход — partial_fit\n",
        "for batch_text, batch_meta in zip(text_dataloader, meta_dataloader):\n",
        "    text_embeddings = get_text_embeddings(batch_text)\n",
        "    meta_embeddings = torch.tensor(batch_meta)\n",
        "\n",
        "    combined = torch.cat((text_embeddings, meta_embeddings), dim=1)\n",
        "    ipca.partial_fit(combined.numpy())\n",
        "\n",
        "# Второй проход — transform + запись в CSV\n",
        "with open(output_file, 'w') as file:\n",
        "    for batch_text, batch_meta in zip(text_dataloader, meta_dataloader):\n",
        "        text_embeddings = get_text_embeddings(batch_text)\n",
        "        meta_embeddings = torch.tensor(batch_meta)\n",
        "\n",
        "        combined = torch.cat((text_embeddings, meta_embeddings), dim=1)\n",
        "        reduced = ipca.transform(combined.numpy())\n",
        "        pd.DataFrame(reduced).to_csv(file, header=False, index=False)\n"
      ]
    },
    {
      "cell_type": "code",
      "execution_count": null,
      "metadata": {
        "colab": {
          "base_uri": "https://localhost:8080/"
        },
        "id": "VM0iNWDTBzuM",
        "outputId": "142a8397-18b1-4b6a-8398-c5706a178ac3"
      },
      "outputs": [
        {
          "data": {
            "text/plain": [
              "(99188, 256)"
            ]
          },
          "execution_count": 53,
          "metadata": {},
          "output_type": "execute_result"
        }
      ],
      "source": [
        "movies_embeddings = pd.read_csv('/content/drive/MyDrive/movies_embeddings.csv', header=None)\n",
        "movies_embeddings.shape"
      ]
    },
    {
      "cell_type": "markdown",
      "metadata": {
        "id": "Ih52VWSXEsbl"
      },
      "source": [
        "#### Тестирование"
      ]
    },
    {
      "cell_type": "code",
      "execution_count": null,
      "metadata": {
        "id": "lStdZwReFBBZ"
      },
      "outputs": [],
      "source": [
        "movie_title_year_dict = {}\n",
        "\n",
        "for index, row in movies_df.iterrows():\n",
        "    movie_title = row['name']\n",
        "    release_year = row['release_year']\n",
        "    movie_title_year_dict[f\"{movie_title} ({release_year})\"] = index\n"
      ]
    },
    {
      "cell_type": "code",
      "execution_count": null,
      "metadata": {
        "id": "cloLs5WUDuVP"
      },
      "outputs": [],
      "source": [
        "from sklearn.metrics.pairwise import cosine_similarity\n",
        "\n",
        "# Функция для поиска схожести 2 фильмов по косинусному расстоянию\n",
        "def calculate_movie_similarity(movie_name1, movie_name2):\n",
        "    try:\n",
        "        movie_id1 = movie_title_year_dict[movie_name1]\n",
        "        movie_id2 = movie_title_year_dict[movie_name2]\n",
        "\n",
        "        movie1_embedding = movies_embeddings.iloc[movie_id1].values.reshape(1, -1)\n",
        "        movie2_embedding = movies_embeddings.iloc[movie_id2].values.reshape(1, -1)\n",
        "\n",
        "        similarity = cosine_similarity(movie1_embedding, movie2_embedding)[0][0]\n",
        "        print(similarity)\n",
        "\n",
        "    except IndexError:\n",
        "        print(f\"One or both movie IDs not found in the DataFrame.\")\n",
        "        return -1\n"
      ]
    },
    {
      "cell_type": "code",
      "execution_count": null,
      "metadata": {
        "id": "CcNWDXBjKN5W"
      },
      "outputs": [],
      "source": [
        "# Функция для определения схожести n рандомных фильмов к текущему\n",
        "def recommend_n_movies(movie_name, n_random=10):\n",
        "    try:\n",
        "        movie_index = movie_title_year_dict[movie_name]\n",
        "        movie_embedding = movies_embeddings.iloc[movie_index].values.reshape(1, -1)\n",
        "\n",
        "        similarities = []\n",
        "        random_movies = random.sample(range(len(movies_embeddings)), n_random)\n",
        "\n",
        "        for movie_id in random_movies:\n",
        "            random_movie_embedding = movies_embeddings.iloc[movie_id].values.reshape(1, -1)\n",
        "            similarity = cosine_similarity(movie_embedding, random_movie_embedding)[0][0]\n",
        "            similarities.append((movie_id, similarity))\n",
        "\n",
        "        similarities.sort(key=lambda x: x[1], reverse=True)\n",
        "        for movie_id, similarity in similarities:\n",
        "            movie_title = movies_df.iloc[movie_id]['name']\n",
        "            release_year = movies_df.iloc[movie_id]['release_year']\n",
        "            print(f\"{movie_title} ({release_year}): {similarity}\")\n",
        "    except KeyError:\n",
        "        print(f\"Movie '{movie_name}' not found in the database.\")\n"
      ]
    },
    {
      "cell_type": "code",
      "execution_count": null,
      "metadata": {
        "colab": {
          "base_uri": "https://localhost:8080/"
        },
        "id": "vYW3SEfpCz3Z",
        "outputId": "62c96994-1bf2-426d-8cc8-d7ca3d26c1de"
      },
      "outputs": [
        {
          "name": "stdout",
          "output_type": "stream",
          "text": [
            "0.9040874484505829\n"
          ]
        }
      ],
      "source": [
        "calculate_movie_similarity(\"Интерстеллар (2014)\", \"Контакт (1997)\")"
      ]
    },
    {
      "cell_type": "code",
      "execution_count": null,
      "metadata": {
        "colab": {
          "base_uri": "https://localhost:8080/"
        },
        "id": "KVpt_tWkD2QF",
        "outputId": "5da84bc7-d78a-4314-e395-f4b4c24a4d51"
      },
      "outputs": [
        {
          "name": "stdout",
          "output_type": "stream",
          "text": [
            "0.9255667254970432\n"
          ]
        }
      ],
      "source": [
        "calculate_movie_similarity(\"Человек-паук: Нет пути домой (2021)\", \"Человек-паук (2002)\")"
      ]
    },
    {
      "cell_type": "code",
      "execution_count": null,
      "metadata": {
        "colab": {
          "base_uri": "https://localhost:8080/"
        },
        "id": "ExMVhOQnIIfw",
        "outputId": "c8a14652-7d92-4721-f42b-b98aba072a23"
      },
      "outputs": [
        {
          "name": "stdout",
          "output_type": "stream",
          "text": [
            "0.9436187366869757\n"
          ]
        }
      ],
      "source": [
        "calculate_movie_similarity(\"Крик (1996)\", \"Челюсти (1975)\")"
      ]
    },
    {
      "cell_type": "code",
      "execution_count": null,
      "metadata": {
        "colab": {
          "base_uri": "https://localhost:8080/"
        },
        "id": "6zjkYYXbILv6",
        "outputId": "fef641d9-00e2-4f66-8919-d8cfc0c9a5e8"
      },
      "outputs": [
        {
          "name": "stdout",
          "output_type": "stream",
          "text": [
            "0.2271824043952178\n"
          ]
        }
      ],
      "source": [
        "calculate_movie_similarity(\"Интерстеллар (2014)\", \"Зверополис (2016)\")"
      ]
    },
    {
      "cell_type": "code",
      "execution_count": null,
      "metadata": {
        "colab": {
          "base_uri": "https://localhost:8080/"
        },
        "id": "EYwQdeDEHJev",
        "outputId": "93dfa777-82e1-4ecb-e5bf-5fbc7100b02a"
      },
      "outputs": [
        {
          "name": "stdout",
          "output_type": "stream",
          "text": [
            "-0.8049784722072163\n"
          ]
        }
      ],
      "source": [
        "calculate_movie_similarity(\"Дурак (2014)\", \"Большой куш (2000)\")"
      ]
    },
    {
      "cell_type": "code",
      "execution_count": null,
      "metadata": {
        "colab": {
          "base_uri": "https://localhost:8080/"
        },
        "id": "2MUBO93rSE3c",
        "outputId": "827181eb-07db-4820-c6f4-272accceab69"
      },
      "outputs": [
        {
          "name": "stdout",
          "output_type": "stream",
          "text": [
            "0.8446250002390546\n"
          ]
        }
      ],
      "source": [
        "calculate_movie_similarity(\"Крик (1996)\", \"Титаник (1997)\")\n",
        "\n",
        "# Плохой результат"
      ]
    },
    {
      "cell_type": "markdown",
      "metadata": {
        "id": "1j7YJ6VATONU"
      },
      "source": [
        "### Попытка № 2\n",
        "\n",
        "Будем работать с самым важным признаком - `description`. Как мы увидели из прошлой попытки, описание, которые мы имеем, не содержит много информации. Оно не затрагивает сильно сюжет, а выступает в роли \"затравки\" для привлечения внимания пользователей к данному фильму. В связи с этим приходит мысль о том, где найти описания фильмов побольше. Первое, что приходит на ум, - попросить `LLM модель` сгенерировать это насыщенное описание (безусловно, с проверкой). Однако это весьма трудозатратная задача сгенерировать ~100к описаний даже на 250-300 слов. В качестве альтернативы попробуем использовать `Википедию` - другой большой ресурс информации."
      ]
    },
    {
      "cell_type": "code",
      "execution_count": null,
      "metadata": {
        "colab": {
          "base_uri": "https://localhost:8080/"
        },
        "id": "FLWJIJf7tmlH",
        "outputId": "348fe754-4fe2-493b-b39f-8546a4094a6a"
      },
      "outputs": [
        {
          "name": "stdout",
          "output_type": "stream",
          "text": [
            "Tue Apr 15 15:13:01 2025       \n",
            "+-----------------------------------------------------------------------------------------+\n",
            "| NVIDIA-SMI 550.54.15              Driver Version: 550.54.15      CUDA Version: 12.4     |\n",
            "|-----------------------------------------+------------------------+----------------------+\n",
            "| GPU  Name                 Persistence-M | Bus-Id          Disp.A | Volatile Uncorr. ECC |\n",
            "| Fan  Temp   Perf          Pwr:Usage/Cap |           Memory-Usage | GPU-Util  Compute M. |\n",
            "|                                         |                        |               MIG M. |\n",
            "|=========================================+========================+======================|\n",
            "|   0  Tesla T4                       Off |   00000000:00:04.0 Off |                    0 |\n",
            "| N/A   56C    P8              9W /   70W |       2MiB /  15360MiB |      0%      Default |\n",
            "|                                         |                        |                  N/A |\n",
            "+-----------------------------------------+------------------------+----------------------+\n",
            "                                                                                         \n",
            "+-----------------------------------------------------------------------------------------+\n",
            "| Processes:                                                                              |\n",
            "|  GPU   GI   CI        PID   Type   Process name                              GPU Memory |\n",
            "|        ID   ID                                                               Usage      |\n",
            "|=========================================================================================|\n",
            "|  No running processes found                                                             |\n",
            "+-----------------------------------------------------------------------------------------+\n"
          ]
        }
      ],
      "source": [
        "!nvidia-smi"
      ]
    },
    {
      "cell_type": "code",
      "execution_count": null,
      "metadata": {
        "colab": {
          "base_uri": "https://localhost:8080/"
        },
        "collapsed": true,
        "id": "pgBQNSEiKH-N",
        "outputId": "d24ecac7-8efe-48ad-e343-94ed657cca48"
      },
      "outputs": [
        {
          "name": "stdout",
          "output_type": "stream",
          "text": [
            "Collecting wikipedia\n",
            "  Downloading wikipedia-1.4.0.tar.gz (27 kB)\n",
            "  Preparing metadata (setup.py) ... \u001b[?25l\u001b[?25hdone\n",
            "Requirement already satisfied: beautifulsoup4 in /usr/local/lib/python3.11/dist-packages (from wikipedia) (4.13.4)\n",
            "Requirement already satisfied: requests<3.0.0,>=2.0.0 in /usr/local/lib/python3.11/dist-packages (from wikipedia) (2.32.3)\n",
            "Requirement already satisfied: charset-normalizer<4,>=2 in /usr/local/lib/python3.11/dist-packages (from requests<3.0.0,>=2.0.0->wikipedia) (3.4.1)\n",
            "Requirement already satisfied: idna<4,>=2.5 in /usr/local/lib/python3.11/dist-packages (from requests<3.0.0,>=2.0.0->wikipedia) (3.10)\n",
            "Requirement already satisfied: urllib3<3,>=1.21.1 in /usr/local/lib/python3.11/dist-packages (from requests<3.0.0,>=2.0.0->wikipedia) (2.4.0)\n",
            "Requirement already satisfied: certifi>=2017.4.17 in /usr/local/lib/python3.11/dist-packages (from requests<3.0.0,>=2.0.0->wikipedia) (2025.4.26)\n",
            "Requirement already satisfied: soupsieve>1.2 in /usr/local/lib/python3.11/dist-packages (from beautifulsoup4->wikipedia) (2.7)\n",
            "Requirement already satisfied: typing-extensions>=4.0.0 in /usr/local/lib/python3.11/dist-packages (from beautifulsoup4->wikipedia) (4.13.2)\n",
            "Building wheels for collected packages: wikipedia\n",
            "  Building wheel for wikipedia (setup.py) ... \u001b[?25l\u001b[?25hdone\n",
            "  Created wheel for wikipedia: filename=wikipedia-1.4.0-py3-none-any.whl size=11678 sha256=55d5ac4461300fa0cd06d8e01c2e7cf3fda0fdb7e6e77b31f95b4bc3dfa525f0\n",
            "  Stored in directory: /root/.cache/pip/wheels/8f/ab/cb/45ccc40522d3a1c41e1d2ad53b8f33a62f394011ec38cd71c6\n",
            "Successfully built wikipedia\n",
            "Installing collected packages: wikipedia\n",
            "Successfully installed wikipedia-1.4.0\n"
          ]
        }
      ],
      "source": [
        "!pip install wikipedia"
      ]
    },
    {
      "cell_type": "code",
      "execution_count": null,
      "metadata": {
        "colab": {
          "base_uri": "https://localhost:8080/"
        },
        "id": "sA1-0-TDKP2H",
        "outputId": "d50f45b1-27f4-4f08-b620-64609c9e1a3b"
      },
      "outputs": [
        {
          "name": "stdout",
          "output_type": "stream",
          "text": [
            "В 1996 году охотник за сокровищами Брок Лаветт и его команда на научно-исследовательском судне «Академик Мстислав Келдыш» на глубоководных батискафах «Мир-1» и «Мир-2» погружаются на дно Атлантического океана, где покоятся обломки «Титаника», затонувшего 15 апреля 1912 года. Они обнаруживают сейф, в котором, по предположению Лаветта, должен находиться кулон с голубым бриллиантом, известным как «Сердце океана». В начале XX века Натан Хокли, по прозвищу «Питтсбургский Ротшильд», приобрёл его для своего сына-промышленника Каледона «Кэла» Хокли, а тот подарил бриллиант в качестве свадебного подарка своей невесте — англичанке Розе Дьюитт-Бьюкейтер, вместе с которой плыл на «Титанике» в США, где они должны были пожениться. По некоторым данным известно, что Каледон спасся, Роза погибла, а драгоценность должна находиться в сейфе на дне океана. Но, к разочарованию исследователей, в сейфе оказываются только размокшие бумаги, среди которых хорошо сохранившийся портрет, датированный 14 апреля 1912 года. На портрете, подписанном инициалами «J. D.», изображена обнажённая девушка с похожим кулоном. Столетняя Роза Доусон-Келверт смотрит по телевизору репортаж об экспедиции, звонит Лаветту и сообщает ему, что на этом портрете изображена она сама. Несмотря на предположения, что престарелая дама вполне может оказаться либо аферисткой, либо выжившей из ума старухой, Лаветт соглашается с ней встретиться (поскольку по его словам все остальные, кто что-либо знал о бриллианте или уже умерли или погибли ещё во время крушения). Роза, сопровождаемая внучкой Лиззи, вылетает на вертолёте на исследовательское судно. Убедив Лаветта и его команду, что она действительно Роза Дьюитт-Бьюкейтер, женщина начинает свой рассказ, и действие переносится на 84 года назад.\n",
            "10 апреля 1912 года 17-летняя Роза, её мать Руфь и Каледон Хокли поднимаются в Саутгемптоне на борт «Титаника» в качестве пассажиров 1-го класса. Предполагается, что будущий брак Каледона и Розы строится на расчёте — Руфь хочет выдать дочь за богача, поскольку их отец и муж умер, не оставив им денег. Роза не любит Каледона, она бунтарка по натуре и внутренне противится этому браку, хотя и пытается не подавать вида. Молодой американский бродячий художник из Висконсина Джек Доусон и его приятель Фабрицио, мечтающие уехать в Америку, выигрывают в покер билеты на лайнер в 3-й класс и в самый последний момент успевают попасть на борт. Через день, после отплытия из Квинстауна (последней стоянки корабля), Роза, свободолюбивая девушка, которой чужда мораль высшего общества, в порыве отчаяния хочет спрыгнуть с кормы судна, но Джек её останавливает. Оказавшиеся рядом люди обвиняют Джека, что он хотел напасть на девушку, но Роза за него заступается. Каледон в качестве благодарности приглашает его на обед в зале первого класса. Между Джеком и Розой завязывается дружба. Он показывает ей свой альбом со своими рисунками. Во время обеда они сбегают в салон 3-го класса на праздник, который приходится Розе по душе. Жених и мать узнают, где была Роза, и поручают охране не впускать к ним Джека.\n",
            "Днём 14 апреля Джеку, укравшему для маскировки пальто и шляпу какого-то состоятельного пассажира, удаётся пробраться на верхнюю палубу. Томас Эндрюс, строитель «Титаника», проводит небольшую экскурсию для пассажиров, и Роза отмечает, что мест в спасательных шлюпках хватит только для половины пассажиров, на что Эндрюс успокаивает девушку, говоря, что шлюпки не понадобятся — корабль ведь непотопляемый. Джек, незаметно для остальных увлекает Розу в гимнастический зал, где пытается убедить, что пустая светская жизнь и брак с нелюбимым морально погубят ее, и фактически признаётся ей в любви. Разговор ни к чему не приводит, но позже Роза, задумавшись над словами Джека, находит его на носу лайнера. Они, обнявшись, смотрят на закат солнца, последний для большинства на лайнере (в том числе и для Джека), как и для самого лайнера. Роза просит, чтобы он нарисовал её обнажённой с кулоном «Сердце океана» на шее. Девушка прячет рисунок вместе с бриллиантом в сейф, написав язвительную записку Каледону. Между тем, камердинер Каледона, бывший полицейский Лавджой обнаруживает Джека и Розу и преследует их по всему лайнеру, но теряет их след у входа в котельную. В грузовом отсеке, в автомобиле «Renault», Джек и Роза занимаются сексом. Тем временем капитан Смит по настоянию исполняющего директора «White Star Line» Дж. Исмея игнорирует предупреждения о многочисленных айсбергах по курсу судна, и «Титаник» продолжает идти ночью с большой скоростью. Вперёдсмотрящие Фредерик Флит и Реджинальд Ли отвлекаются при виде Розы и Джека, целующихся на носовой палубе, и вдруг замечают айсберг по курсу судна. Вахтенному офицеру, первому помощнику капитана Уильяму Мэрдоку не удаётся избежать столкновения. В 23:40 лайнер задевает правым бортом подводную часть айсберга, и вода начинает затапливать носовые отсеки лайнера. Айсберг видели только люди, находившиеся на верхних палубах, в том числе Джек и Роза. Пассажиры, находившиеся в салонах и каютах верхних палуб судна, ничего не знают о случившемся, а пассажиры нижних палуб, уже замечают воду в каютах и коридорах, но тоже не понимают, что произошло.\n",
            "Каледон находит рисунок и бриллиант в своём сейфе и догадывается об отношениях Джека и Розы. По его приказу Лавджой подбросил бриллиант в карман пальто Джека, а сам он обвиняет Джека в краже бриллианта. Судовая полиция запирает Джека в каюте интенданта. Между тем, конструктор Томас Эндрюс докладывает капитану Смиту, Брюсу Исмею и офицерам, что «Титаник» получил серьёзные повреждения и неизбежно затонет. Радисты, по приказу капитана передают сигнал бедствия, и докладывают капитану, что «Карпатия» идёт на предельной скорости в 17 узлов, и будет на месте через 5 часов. Смит приказывает начать эвакуацию, в шлюпки первыми сажают женщин и детей, оркестр начинает играть музыку, чтобы сохранять спокойствие пассажиров. Роза понимает, что Каледон разыграл спектакль с кражей бриллианта. От Эндрюса она узнаёт маршрут к каюте, где прикован Джек, и освобождает того. Пытаясь выбраться с нижних палуб Джек с Розой находят Фабрицио и их третьего друга Томми, и они вчетвером находят выход наверх. Роза отказывается уплывать без Джека, однако Каледон и Джек убеждают её сесть в шлюпку. Но Роза выскакивает из опускающейся шлюпки на одну из нижних палуб и там, на большой лестнице, её перехватывает Джек, в то время как разъярённый Каледон выхватывает пистолет у Лавджоя и преследует влюблённых, пытаясь застрелить их. Он загоняет их в столовую 1-го класса, но там воды уже по пояс, и он возвращается на лестницу, после чего обнаруживает, что бриллиант остался в кармане пальто, которое он перед этим надел на Розу. \n",
            "Тем временем Джек и Роза слышат крики о помощи и замечают забытого малыша. Они пытаются его спасти, но в это время неожиданно появляется отец ребёнка, грубо отнимает его у Джека и бежит, прихватив с собой ещё и какой-то чемодан. Внезапно на его пути, под большим напором воды, двери распахиваются и огромный поток устремляется прямо на Джека и Розу. Они пытаются убежать, но вода сбивает их с ног и приносит к запертым дверям. Случайно оказавшийся рядом стюард пытается им помочь, но роняет ключи в воду. Джек достаёт их и ценой неимоверных усилий открывает двери\n",
            "Вода затопляет носовую часть палубы «А». Среди пассажиров начинается паника. С крыши надстройки сбрасывают шлюпку, Томми и Фабрицио пытаются незаметно пробраться в неё. Уильям Мэрдок, отвечающий за её спуск, угрожает пристрелить любого, кто попытается прорваться в шлюпку. Один из пассажиров пытается пробраться к шлюпке по надстройкам верхней палубы, и Мэрдок убивает его, а затем — Томми, которого толпа случайно подталкивает к шлюпке. Осознав, что он сделал, Мэрдок отдаёт честь обречённому судну и совершает самоубийство, застрелившись. Вторую шлюпку скидывают с надстройки, но она опрокидывается. Каледону удаётся сесть в спасательную шлюпку, прикинувшись отцом потерявшейся девочки. Вода достигает капитанского мостика. Оркестр «Титаника» играет заключительную песню «Nearer, My God, to Thee». Большинство из оставшихся на борту, ждут смерти: капитан Эдвард Смит, понимая, что вина за гибель судна лежит на нём, запирается в рулевой рубке; конструктор Томас Эндрюс, чувствуя свою вину, остался в курительной комнате 1-го класса; некоторые семьи ждут смерти в каютах. Две последние шлюпки смывает за борт. После крена лайнера на нос, первая дымовая труба обрушивается на Фабрицио и других оказавшихся в воде пассажиров. Джек и Роза, вместе с другими оставшимися на борту людьми, направляются к самому концу кормовой части лайнера, которая поднимается всё выше. Лайнер, вскоре остаётся без электричества, и разломившись надвое, уходит под воду.\n",
            "Джеку и Розе удаётся выбраться из воронки. Джеку удаётся затащить Розу на кусок деревянной обшивки, но ему на нём нет места. Наступает полная тишина. Роза, лёжа на спине, напевает песню, которую ей пел Джек: «Летит Джозефина в крылатой машине. Всё выше и выше, и выше летит…». Пятый помощник Гарольд Лоу, освободив свою шлюпку, отправляется на поиски выживших. Роза слышит его крики и обнаруживает, что Джек умер от переохлаждения. Пообещав ему, что она не сдастся, она отпускает его тело, доплывает до мёртвого старшего помощника Генри Уайлда и, воспользовавшись его свистком, привлекает внимание Лоу. Утром спасшихся подбирает судно «Карпатия». На её борту, Каледон ищет Розу, но та, заметив его, скрывает лицо (за кадром она сообщает, что Каледон в дальнейшем женился и унаследовал отцовские деньги, но во время краха 1929 года ему пришлось туго и он застрелился). По прибытии в Нью-Йорк на просьбу офицера «Карпатии» назвать своё имя она отвечает: «Роза Доусон», тем самым окончательно порывая со своей прошлой жизнью.\n",
            "Действие возвращается в 1996 год. Команда Лаветта сообщает пожилой Розе, что никаких сведений о Джеке Доусоне ими так и не было найдено. Роза говорит, что им неоткуда было взяться, поскольку его билет был на другое имя, а сама она никогда и никому о нём не рассказывала, даже собственному мужу, и что Джек остался жить лишь в её памяти. Ночью Роза идёт на корму «Академика Мстислава Келдыша» и достаёт «Сердце океана» (по прибытии в Нью-Йорк Роза, глядя на Статую Свободы, обнаруживает его в кармане пальто), которое затем бросает в воду, где покоится затонувший «Титаник». Позже она спит в своей каюте (на тумбочке рядом с её кроватью стоит ряд фотографий с молодой Розой, на одной из которых она запечатлена верхом на лошади на пристани в Санта-Монике, где они с Джеком мечтали побывать) и в какой-то момент её сознание переносится на дно Атлантики, где затонувший «Титаник» преображается до своего первоначального состояния. Молодая Роза, под аплодисменты всех погибших в ту ночь, встречает на главной лестнице Джека. Часы показывают 2 часа 20 минут, время окончательного погружения лайнера.\n"
          ]
        }
      ],
      "source": [
        "import wikipedia\n",
        "\n",
        "def extract_plot_section(content):\n",
        "    pattern = r'==\\s*(Сюжет|Содержание)\\s*==(.+?)(==|$)'\n",
        "    match = re.search(pattern, content, re.DOTALL | re.IGNORECASE)\n",
        "\n",
        "    if match:\n",
        "        return match.group(2).strip()\n",
        "    else:\n",
        "        return None\n",
        "\n",
        "wikipedia.set_lang(\"ru\")\n",
        "title = \"Титаник (1997)\"\n",
        "try:\n",
        "    summary = wikipedia.page(title)\n",
        "    print(extract_plot_section(summary.content))\n",
        "except wikipedia.exceptions.DisambiguationError as e:\n",
        "    print(f\"Нужно уточнение. Возможные варианты: {e.options}\")\n",
        "except wikipedia.exceptions.PageError:\n",
        "    print(\"Страница не найдена\")\n"
      ]
    },
    {
      "cell_type": "code",
      "execution_count": null,
      "metadata": {
        "id": "TrrjKBo1AP-t"
      },
      "outputs": [],
      "source": [
        "count = 0\n",
        "summaries = {}\n",
        "\n",
        "def check_wikipedia_desc(title, year):\n",
        "    global count\n",
        "    page_name = f\"{title} ({year})\"\n",
        "    try:\n",
        "        summary = wikipedia.page(page_name)\n",
        "        summaries[page_name] = summary.content\n",
        "        count += 1\n",
        "        return True\n",
        "    except wikipedia.exceptions.DisambiguationError:\n",
        "        return False\n",
        "    except wikipedia.exceptions.PageError:\n",
        "        return False\n"
      ]
    },
    {
      "cell_type": "code",
      "execution_count": null,
      "metadata": {
        "id": "Lv3JMN4kQl-b"
      },
      "outputs": [],
      "source": [
        "BATCH_SIZE = 250\n",
        "DELAY_BETWEEN_REQUESTS = 0.5\n",
        "DELAY_BETWEEN_BATCHES = 3\n",
        "\n",
        "start_idx, end_idx = 0, len(movies_df)\n",
        "\n",
        "for batch_start in range(start_idx, end_idx, BATCH_SIZE):\n",
        "    batch_end = min(batch_start + BATCH_SIZE, end_idx)\n",
        "\n",
        "    for i in range(batch_start, batch_end):\n",
        "        title = movies_df.loc[i, 'name']\n",
        "        year = movies_df.loc[i, 'release_year']\n",
        "\n",
        "        check_wikipedia_desc(title, year)\n",
        "        time.sleep(DELAY_BETWEEN_REQUESTS)\n",
        "\n",
        "    print(f\"Батч {batch_start}-{batch_end} завершён. Пауза...\\n\")\n",
        "    time.sleep(DELAY_BETWEEN_BATCHES)\n",
        "\n",
        "# Очень долго + не на все фильмы есть статья в Википедии,\n",
        "# так как датасет содержит достаточное кол-во непопулярных фильмов\n",
        "# или данная статья называется по-другому =("
      ]
    },
    {
      "cell_type": "markdown",
      "metadata": {
        "id": "5LOMH0bTGnKQ"
      },
      "source": [
        "### Попытка №3\n"
      ]
    },
    {
      "cell_type": "markdown",
      "metadata": {
        "id": "kwP9-l2DHORj"
      },
      "source": [
        "Попробуем получить эмбеддинги фильмов через графовые нейросети `GNN`. Путём соединения фильмов как узлов через ребра в виде различных полей, характеризующих конкретный фильм, получим мультирёбра и обширный граф. Его и нужно будет потом использовать для обучения модели."
      ]
    },
    {
      "cell_type": "markdown",
      "source": [
        "#### Создание графа nx.Graph"
      ],
      "metadata": {
        "id": "Qh8_RLbfnhH0"
      }
    },
    {
      "cell_type": "code",
      "execution_count": null,
      "metadata": {
        "colab": {
          "base_uri": "https://localhost:8080/",
          "height": 222
        },
        "id": "WTwsx1uIK_wR",
        "outputId": "b58b0410-1bef-48e3-c13b-23393a188900"
      },
      "outputs": [
        {
          "output_type": "execute_result",
          "data": {
            "text/plain": [
              "        type         name  release_year  \\\n",
              "96980  MOVIE  Семь вуалей          2023   \n",
              "\n",
              "                                             description  rating_kp  \\\n",
              "96980  Молодому театральному режиссеру Джанин поручаю...        NaN   \n",
              "\n",
              "       rating_imdb  runtime  age_rating  \\\n",
              "96980          6.6    107.0        18.0   \n",
              "\n",
              "                                              poster_url   genres  \\\n",
              "96980  /10953618/80d88800-26e1-4a2e-a482-697fcd05a653...  [драма]   \n",
              "\n",
              "                      countries  movie_id  \\\n",
              "96980  [Канада, Финляндия, США]     96980   \n",
              "\n",
              "                                                  people  \\\n",
              "96980  Бай Хун, Мартон Аг, Бен Дискин, Чейз Суи Уонде...   \n",
              "\n",
              "                                        full_description  \n",
              "96980  Молодому театральному режиссеру Джанин поручаю...  "
            ],
            "text/html": [
              "\n",
              "  <div id=\"df-7044c752-4583-41a0-acc9-e2a0f8aa8fd8\" class=\"colab-df-container\">\n",
              "    <div>\n",
              "<style scoped>\n",
              "    .dataframe tbody tr th:only-of-type {\n",
              "        vertical-align: middle;\n",
              "    }\n",
              "\n",
              "    .dataframe tbody tr th {\n",
              "        vertical-align: top;\n",
              "    }\n",
              "\n",
              "    .dataframe thead th {\n",
              "        text-align: right;\n",
              "    }\n",
              "</style>\n",
              "<table border=\"1\" class=\"dataframe\">\n",
              "  <thead>\n",
              "    <tr style=\"text-align: right;\">\n",
              "      <th></th>\n",
              "      <th>type</th>\n",
              "      <th>name</th>\n",
              "      <th>release_year</th>\n",
              "      <th>description</th>\n",
              "      <th>rating_kp</th>\n",
              "      <th>rating_imdb</th>\n",
              "      <th>runtime</th>\n",
              "      <th>age_rating</th>\n",
              "      <th>poster_url</th>\n",
              "      <th>genres</th>\n",
              "      <th>countries</th>\n",
              "      <th>movie_id</th>\n",
              "      <th>people</th>\n",
              "      <th>full_description</th>\n",
              "    </tr>\n",
              "  </thead>\n",
              "  <tbody>\n",
              "    <tr>\n",
              "      <th>96980</th>\n",
              "      <td>MOVIE</td>\n",
              "      <td>Семь вуалей</td>\n",
              "      <td>2023</td>\n",
              "      <td>Молодому театральному режиссеру Джанин поручаю...</td>\n",
              "      <td>NaN</td>\n",
              "      <td>6.6</td>\n",
              "      <td>107.0</td>\n",
              "      <td>18.0</td>\n",
              "      <td>/10953618/80d88800-26e1-4a2e-a482-697fcd05a653...</td>\n",
              "      <td>[драма]</td>\n",
              "      <td>[Канада, Финляндия, США]</td>\n",
              "      <td>96980</td>\n",
              "      <td>Бай Хун, Мартон Аг, Бен Дискин, Чейз Суи Уонде...</td>\n",
              "      <td>Молодому театральному режиссеру Джанин поручаю...</td>\n",
              "    </tr>\n",
              "  </tbody>\n",
              "</table>\n",
              "</div>\n",
              "    <div class=\"colab-df-buttons\">\n",
              "\n",
              "  <div class=\"colab-df-container\">\n",
              "    <button class=\"colab-df-convert\" onclick=\"convertToInteractive('df-7044c752-4583-41a0-acc9-e2a0f8aa8fd8')\"\n",
              "            title=\"Convert this dataframe to an interactive table.\"\n",
              "            style=\"display:none;\">\n",
              "\n",
              "  <svg xmlns=\"http://www.w3.org/2000/svg\" height=\"24px\" viewBox=\"0 -960 960 960\">\n",
              "    <path d=\"M120-120v-720h720v720H120Zm60-500h600v-160H180v160Zm220 220h160v-160H400v160Zm0 220h160v-160H400v160ZM180-400h160v-160H180v160Zm440 0h160v-160H620v160ZM180-180h160v-160H180v160Zm440 0h160v-160H620v160Z\"/>\n",
              "  </svg>\n",
              "    </button>\n",
              "\n",
              "  <style>\n",
              "    .colab-df-container {\n",
              "      display:flex;\n",
              "      gap: 12px;\n",
              "    }\n",
              "\n",
              "    .colab-df-convert {\n",
              "      background-color: #E8F0FE;\n",
              "      border: none;\n",
              "      border-radius: 50%;\n",
              "      cursor: pointer;\n",
              "      display: none;\n",
              "      fill: #1967D2;\n",
              "      height: 32px;\n",
              "      padding: 0 0 0 0;\n",
              "      width: 32px;\n",
              "    }\n",
              "\n",
              "    .colab-df-convert:hover {\n",
              "      background-color: #E2EBFA;\n",
              "      box-shadow: 0px 1px 2px rgba(60, 64, 67, 0.3), 0px 1px 3px 1px rgba(60, 64, 67, 0.15);\n",
              "      fill: #174EA6;\n",
              "    }\n",
              "\n",
              "    .colab-df-buttons div {\n",
              "      margin-bottom: 4px;\n",
              "    }\n",
              "\n",
              "    [theme=dark] .colab-df-convert {\n",
              "      background-color: #3B4455;\n",
              "      fill: #D2E3FC;\n",
              "    }\n",
              "\n",
              "    [theme=dark] .colab-df-convert:hover {\n",
              "      background-color: #434B5C;\n",
              "      box-shadow: 0px 1px 3px 1px rgba(0, 0, 0, 0.15);\n",
              "      filter: drop-shadow(0px 1px 2px rgba(0, 0, 0, 0.3));\n",
              "      fill: #FFFFFF;\n",
              "    }\n",
              "  </style>\n",
              "\n",
              "    <script>\n",
              "      const buttonEl =\n",
              "        document.querySelector('#df-7044c752-4583-41a0-acc9-e2a0f8aa8fd8 button.colab-df-convert');\n",
              "      buttonEl.style.display =\n",
              "        google.colab.kernel.accessAllowed ? 'block' : 'none';\n",
              "\n",
              "      async function convertToInteractive(key) {\n",
              "        const element = document.querySelector('#df-7044c752-4583-41a0-acc9-e2a0f8aa8fd8');\n",
              "        const dataTable =\n",
              "          await google.colab.kernel.invokeFunction('convertToInteractive',\n",
              "                                                    [key], {});\n",
              "        if (!dataTable) return;\n",
              "\n",
              "        const docLinkHtml = 'Like what you see? Visit the ' +\n",
              "          '<a target=\"_blank\" href=https://colab.research.google.com/notebooks/data_table.ipynb>data table notebook</a>'\n",
              "          + ' to learn more about interactive tables.';\n",
              "        element.innerHTML = '';\n",
              "        dataTable['output_type'] = 'display_data';\n",
              "        await google.colab.output.renderOutput(dataTable, element);\n",
              "        const docLink = document.createElement('div');\n",
              "        docLink.innerHTML = docLinkHtml;\n",
              "        element.appendChild(docLink);\n",
              "      }\n",
              "    </script>\n",
              "  </div>\n",
              "\n",
              "\n",
              "    </div>\n",
              "  </div>\n"
            ],
            "application/vnd.google.colaboratory.intrinsic+json": {
              "type": "dataframe",
              "summary": "{\n  \"name\": \"df\",\n  \"rows\": 1,\n  \"fields\": [\n    {\n      \"column\": \"type\",\n      \"properties\": {\n        \"dtype\": \"string\",\n        \"num_unique_values\": 1,\n        \"samples\": [\n          \"MOVIE\"\n        ],\n        \"semantic_type\": \"\",\n        \"description\": \"\"\n      }\n    },\n    {\n      \"column\": \"name\",\n      \"properties\": {\n        \"dtype\": \"string\",\n        \"num_unique_values\": 1,\n        \"samples\": [\n          \"\\u0421\\u0435\\u043c\\u044c \\u0432\\u0443\\u0430\\u043b\\u0435\\u0439\"\n        ],\n        \"semantic_type\": \"\",\n        \"description\": \"\"\n      }\n    },\n    {\n      \"column\": \"release_year\",\n      \"properties\": {\n        \"dtype\": \"number\",\n        \"std\": null,\n        \"min\": 2023,\n        \"max\": 2023,\n        \"num_unique_values\": 1,\n        \"samples\": [\n          2023\n        ],\n        \"semantic_type\": \"\",\n        \"description\": \"\"\n      }\n    },\n    {\n      \"column\": \"description\",\n      \"properties\": {\n        \"dtype\": \"string\",\n        \"num_unique_values\": 1,\n        \"samples\": [\n          \"\\u041c\\u043e\\u043b\\u043e\\u0434\\u043e\\u043c\\u0443 \\u0442\\u0435\\u0430\\u0442\\u0440\\u0430\\u043b\\u044c\\u043d\\u043e\\u043c\\u0443 \\u0440\\u0435\\u0436\\u0438\\u0441\\u0441\\u0435\\u0440\\u0443 \\u0414\\u0436\\u0430\\u043d\\u0438\\u043d \\u043f\\u043e\\u0440\\u0443\\u0447\\u0430\\u044e\\u0442 \\u0432\\u043e\\u0437\\u0440\\u043e\\u0434\\u0438\\u0442\\u044c \\u0441\\u0430\\u043c\\u0443\\u044e \\u0438\\u0437\\u0432\\u0435\\u0441\\u0442\\u043d\\u0443\\u044e \\u043f\\u043e\\u0441\\u0442\\u0430\\u043d\\u043e\\u0432\\u043a\\u0443 \\u0441\\u0432\\u043e\\u0435\\u0433\\u043e \\u0431\\u044b\\u0432\\u0448\\u0435\\u0433\\u043e \\u043d\\u0430\\u0441\\u0442\\u0430\\u0432\\u043d\\u0438\\u043a\\u0430\\u00a0\\u2014\\u00a0\\u043e\\u043f\\u0435\\u0440\\u0443 \\u00ab\\u0421\\u0430\\u043b\\u043e\\u043c\\u0435\\u044f\\u00bb. \\u041e\\u043d\\u0430\\u00a0\\u043f\\u043e\\u0433\\u0440\\u0443\\u0436\\u0430\\u0435\\u0442\\u0441\\u044f \\u0432\\u00a0\\u0432\\u043e\\u0441\\u043f\\u043e\\u043c\\u0438\\u043d\\u0430\\u043d\\u0438\\u044f \\u043e\\u00a0\\u0441\\u0432\\u043e\\u0435\\u043c \\u043f\\u0440\\u043e\\u0448\\u043b\\u043e\\u043c, \\u043a\\u043e\\u0442\\u043e\\u0440\\u044b\\u0435 \\u0433\\u0440\\u043e\\u0437\\u044f\\u0442 \\u043f\\u0435\\u0440\\u0435\\u0432\\u0435\\u0440\\u043d\\u0443\\u0442\\u044c \\u0435\\u0451 \\u0442\\u0449\\u0430\\u0442\\u0435\\u043b\\u044c\\u043d\\u043e \\u0432\\u044b\\u0441\\u0442\\u0440\\u043e\\u0435\\u043d\\u043d\\u044b\\u0439 \\u043c\\u0438\\u0440.\"\n        ],\n        \"semantic_type\": \"\",\n        \"description\": \"\"\n      }\n    },\n    {\n      \"column\": \"rating_kp\",\n      \"properties\": {\n        \"dtype\": \"number\",\n        \"std\": null,\n        \"min\": null,\n        \"max\": null,\n        \"num_unique_values\": 0,\n        \"samples\": [],\n        \"semantic_type\": \"\",\n        \"description\": \"\"\n      }\n    },\n    {\n      \"column\": \"rating_imdb\",\n      \"properties\": {\n        \"dtype\": \"number\",\n        \"std\": null,\n        \"min\": 6.6,\n        \"max\": 6.6,\n        \"num_unique_values\": 1,\n        \"samples\": [],\n        \"semantic_type\": \"\",\n        \"description\": \"\"\n      }\n    },\n    {\n      \"column\": \"runtime\",\n      \"properties\": {\n        \"dtype\": \"number\",\n        \"std\": null,\n        \"min\": 107.0,\n        \"max\": 107.0,\n        \"num_unique_values\": 1,\n        \"samples\": [],\n        \"semantic_type\": \"\",\n        \"description\": \"\"\n      }\n    },\n    {\n      \"column\": \"age_rating\",\n      \"properties\": {\n        \"dtype\": \"number\",\n        \"std\": null,\n        \"min\": 18.0,\n        \"max\": 18.0,\n        \"num_unique_values\": 1,\n        \"samples\": [],\n        \"semantic_type\": \"\",\n        \"description\": \"\"\n      }\n    },\n    {\n      \"column\": \"poster_url\",\n      \"properties\": {\n        \"dtype\": \"string\",\n        \"num_unique_values\": 1,\n        \"samples\": [],\n        \"semantic_type\": \"\",\n        \"description\": \"\"\n      }\n    },\n    {\n      \"column\": \"genres\",\n      \"properties\": {\n        \"dtype\": \"object\",\n        \"semantic_type\": \"\",\n        \"description\": \"\"\n      }\n    },\n    {\n      \"column\": \"countries\",\n      \"properties\": {\n        \"dtype\": \"object\",\n        \"semantic_type\": \"\",\n        \"description\": \"\"\n      }\n    },\n    {\n      \"column\": \"movie_id\",\n      \"properties\": {\n        \"dtype\": \"number\",\n        \"std\": null,\n        \"min\": 96980,\n        \"max\": 96980,\n        \"num_unique_values\": 1,\n        \"samples\": [],\n        \"semantic_type\": \"\",\n        \"description\": \"\"\n      }\n    },\n    {\n      \"column\": \"people\",\n      \"properties\": {\n        \"dtype\": \"string\",\n        \"num_unique_values\": 1,\n        \"samples\": [],\n        \"semantic_type\": \"\",\n        \"description\": \"\"\n      }\n    },\n    {\n      \"column\": \"full_description\",\n      \"properties\": {\n        \"dtype\": \"string\",\n        \"num_unique_values\": 1,\n        \"samples\": [],\n        \"semantic_type\": \"\",\n        \"description\": \"\"\n      }\n    }\n  ]\n}"
            }
          },
          "metadata": {},
          "execution_count": 8
        }
      ],
      "source": [
        "def prepare_text(data):\n",
        "    people_str = data['people']\n",
        "    description_str = data['description']\n",
        "    people_info = f\"В фильме принимали участие: {people_str}.\" if people_str != \"Нет данных\" else \"\"\n",
        "    return re.sub(r'\\s+', ' ', f\"{description_str}. {people_info}\").strip()\n",
        "\n",
        "\n",
        "TOP_PEOPLE = 10\n",
        "df = movie_roles_df.merge(people_df, left_on=\"person_id\", right_index=True)\n",
        "df = df.groupby(\"movie_id\")[\"name\"].apply(lambda x: \", \".join(x[:TOP_PEOPLE])).reset_index()\n",
        "df = movies_df.merge(df, left_index=True, right_on=\"movie_id\", how=\"left\")\n",
        "df.rename(columns={\"name_y\": \"people\", \"name_x\": \"name\"}, inplace=True)\n",
        "df[\"people\"].fillna(\"Нет данных\", inplace=True)\n",
        "df[\"merged\"] = df.apply(prepare_text, axis=1)\n",
        "df.rename(columns={\"merged\": \"full_description\"}, inplace=True)\n",
        "df.reset_index(inplace=True, drop=True)\n",
        "df.sample()"
      ]
    },
    {
      "cell_type": "markdown",
      "metadata": {
        "id": "kI1Kmbp_U3m4"
      },
      "source": [
        "Создадим пустой `мультиграф`"
      ]
    },
    {
      "cell_type": "code",
      "execution_count": null,
      "metadata": {
        "id": "5k4kSQvqUkue"
      },
      "outputs": [],
      "source": [
        "G = nx.Graph()"
      ]
    },
    {
      "cell_type": "code",
      "execution_count": null,
      "metadata": {
        "colab": {
          "base_uri": "https://localhost:8080/"
        },
        "id": "8mlrMCjgU-Q6",
        "outputId": "a357d9b6-7940-4770-f335-7f69448c006d"
      },
      "outputs": [
        {
          "output_type": "stream",
          "name": "stderr",
          "text": [
            "100%|██████████| 99188/99188 [00:12<00:00, 8127.15it/s] "
          ]
        },
        {
          "output_type": "stream",
          "name": "stdout",
          "text": [
            "\n",
            "Всего узлов-фильмов: 99188\n"
          ]
        },
        {
          "output_type": "stream",
          "name": "stderr",
          "text": [
            "\n"
          ]
        }
      ],
      "source": [
        "for idx, row in tqdm(df.iterrows(), total=len(df)):\n",
        "    imdb_rating = row['rating_imdb']\n",
        "    kp_rating = row['rating_kp']\n",
        "    weight = None\n",
        "\n",
        "    if pd.notnull(imdb_rating) and pd.notnull(kp_rating):\n",
        "        weight = (imdb_rating + kp_rating) / 2\n",
        "    elif pd.notnull(imdb_rating):\n",
        "        weight = imdb_rating\n",
        "    else:\n",
        "        weight = kp_rating\n",
        "    G.add_node(f\"film_{idx + 1}\", type='film', name=row['name'], year=row['release_year'], weight=weight)\n",
        "\n",
        "print(f\"\\nВсего узлов-фильмов: {G.number_of_nodes()}\")"
      ]
    },
    {
      "cell_type": "code",
      "execution_count": null,
      "metadata": {
        "colab": {
          "base_uri": "https://localhost:8080/"
        },
        "id": "DFBh3lQEVbWz",
        "outputId": "a21402f2-a01d-472d-ae5d-5097f0d40ab1"
      },
      "outputs": [
        {
          "output_type": "stream",
          "name": "stderr",
          "text": [
            "100%|██████████| 99188/99188 [00:12<00:00, 8107.40it/s] \n"
          ]
        }
      ],
      "source": [
        "for idx, row in tqdm(df.iterrows(), total=len(df)):\n",
        "    film_id = f\"film_{idx + 1}\"\n",
        "\n",
        "    # Тип\n",
        "    if pd.notnull(row['type']):\n",
        "        type_node = f\"type_{row['type']}\"\n",
        "        G.add_node(type_node, type='type')\n",
        "        G.add_edge(film_id, type_node, relation='rtype', weight=0.0)\n",
        "\n",
        "    # Жанры\n",
        "    genres = row['genres']\n",
        "    if isinstance(genres, list):\n",
        "        for genre in genres:\n",
        "            genre_node = f\"genre_{genre}\"\n",
        "            G.add_node(genre_node, type='genre')\n",
        "            G.add_edge(film_id, genre_node, relation='rgenre', weight=0.0)\n",
        "\n",
        "    # Страны\n",
        "    countries = row['countries']\n",
        "    if isinstance(countries, list):\n",
        "        for country in countries:\n",
        "            country_node = f\"country_{country}\"\n",
        "            G.add_node(country_node, type='country')\n",
        "            G.add_edge(film_id, country_node, relation='rcountry', weight=0.0)\n",
        "\n",
        "    # Возрастной рейтинг\n",
        "    if pd.notnull(row['age_rating']):\n",
        "        age_bin = f\"age_{int(row['age_rating'])}\"\n",
        "        G.add_node(age_bin, type='age')\n",
        "        G.add_edge(film_id, age_bin, relation='rage', weight=0.0)\n",
        "\n",
        "    # Год релиза (по десятилетиям)\n",
        "    if pd.notnull(row['release_year']):\n",
        "        decade = int(row['release_year']) // 10 * 10\n",
        "        year_bin = f\"decade_{decade}s\"\n",
        "        G.add_node(year_bin, type='decade')\n",
        "        G.add_edge(film_id, year_bin, relation='rdecade', weight=0.0)"
      ]
    },
    {
      "cell_type": "markdown",
      "metadata": {
        "id": "aUJoDCwvZymx"
      },
      "source": [
        "Проведем анализ графа для проверки узлов и ребер."
      ]
    },
    {
      "cell_type": "code",
      "execution_count": null,
      "metadata": {
        "colab": {
          "base_uri": "https://localhost:8080/"
        },
        "id": "w4xzz90BZ2Up",
        "outputId": "49aa45d8-0c6a-4006-8479-80c6e15a3353"
      },
      "outputs": [
        {
          "output_type": "stream",
          "name": "stdout",
          "text": [
            "Число узлов: 99445\n",
            "Число рёбер: 594288\n"
          ]
        }
      ],
      "source": [
        "num_nodes = len(G.nodes())\n",
        "num_edges = len(G.edges())\n",
        "\n",
        "print(f\"Число узлов: {num_nodes}\")\n",
        "print(f\"Число рёбер: {num_edges}\")"
      ]
    },
    {
      "cell_type": "code",
      "execution_count": null,
      "metadata": {
        "colab": {
          "base_uri": "https://localhost:8080/"
        },
        "id": "Ua30WvchaXI7",
        "outputId": "1c8a4325-ffcc-4589-83e2-e269237c596e"
      },
      "outputs": [
        {
          "output_type": "stream",
          "name": "stdout",
          "text": [
            "Типы узлов в графе: {'film': 99188, 'type': 3, 'genre': 25, 'country': 211, 'age': 5, 'decade': 13}\n"
          ]
        }
      ],
      "source": [
        "node_types = {'film': 0, 'type': 0, 'genre': 0, 'country': 0, 'age': 0, 'decade': 0}\n",
        "\n",
        "for node in G.nodes():\n",
        "    node_type = G.nodes[node].get('type', None)\n",
        "    if node_type in node_types:\n",
        "        node_types[node_type] += 1\n",
        "\n",
        "print(\"Типы узлов в графе:\", node_types)"
      ]
    },
    {
      "cell_type": "code",
      "execution_count": null,
      "metadata": {
        "colab": {
          "base_uri": "https://localhost:8080/"
        },
        "id": "wrcMTpCol0N5",
        "outputId": "51c5c975-f681-4c78-ea50-2e3f4d8ee1d1"
      },
      "outputs": [
        {
          "output_type": "execute_result",
          "data": {
            "text/plain": [
              "True"
            ]
          },
          "metadata": {},
          "execution_count": 14
        }
      ],
      "source": [
        "nx.is_connected(G)"
      ]
    },
    {
      "cell_type": "code",
      "execution_count": null,
      "metadata": {
        "colab": {
          "base_uri": "https://localhost:8080/"
        },
        "id": "RoUM3pypmzRX",
        "outputId": "011208f7-1500-4b4d-f4e9-ab722be5d437"
      },
      "outputs": [
        {
          "output_type": "stream",
          "name": "stdout",
          "text": [
            "Топ 10 узлов по степени центральности:\n",
            "('type_MOVIE', 0.9371505570974619)\n",
            "('genre_драма', 0.526296206910422)\n",
            "('country_США', 0.34061381279916336)\n",
            "('genre_комедия', 0.2873275411286754)\n",
            "('decade_2010s', 0.2728671413056595)\n",
            "('decade_2000s', 0.19652266602308838)\n",
            "('genre_мелодрама', 0.18969470254615664)\n",
            "('age_18', 0.17286110775914082)\n",
            "('genre_триллер', 0.16006998913961626)\n",
            "('genre_боевик', 0.13724307147741444)\n"
          ]
        }
      ],
      "source": [
        "degree_centrality = nx.degree_centrality(G)\n",
        "\n",
        "print(\"Топ 10 узлов по степени центральности:\")\n",
        "top_10_degree = sorted(degree_centrality.items(), key=lambda x: x[1], reverse=True)[:10]\n",
        "print(*top_10_degree, sep='\\n')\n"
      ]
    },
    {
      "cell_type": "markdown",
      "metadata": {
        "id": "TXH1bjA_cUij"
      },
      "source": [
        "Теперь через BERT построим эмбеддинги описаний и далее добавим их в граф, давая связям между фильмами тот вес, который соответствует косинусному расстоянию между веторами фильмов."
      ]
    },
    {
      "cell_type": "code",
      "execution_count": null,
      "metadata": {
        "colab": {
          "base_uri": "https://localhost:8080/",
          "height": 281,
          "referenced_widgets": [
            "e964d51e704549d1b7c7ec8f74d89a3d",
            "cb730c284dac401aa7451272599d3dd2",
            "9a5db473f2044d2cb1b4ece942c4c61d",
            "e108d7ce55164cbd9bce4a79c7e4d551",
            "0557ae8af7df4d89bef02b83a4cfa7c8",
            "6451998757f84a60b09458457d373dc3",
            "09ff0d2ab411440eb38e79c87e839d24",
            "74ef943a2a3d471485cf65999bd20346",
            "aba084b60dca4093abf0dc5d4a044043",
            "c9de5e26233843bd81bfc46e2223e99a",
            "4974bea98b1143c0a2b29933627528af",
            "27153a77b8bd4b1b8a9167ba871ea19c",
            "71e0abb5523a4fc59d847436b9739f42",
            "6c35cdc078bd4916a03a8722a9d8ee13",
            "c4db2eed96a74c5c8d3611265a8c4850",
            "df1454c2b3884461a172b8f869e5c795",
            "e76e9a8f77164dfaac7b14157cc2e8fd",
            "ecf3cf76a53e4a21beafcf9dd3766579",
            "94dd8e8829e84a54aed8dc7af3356415",
            "25c1e61a889941c1933609c49d084387",
            "d0f40db709e547a99b057f09d7573d21",
            "da8f160e2c4e4f61be59036aa6f3f3ac",
            "9f9aacfc6a3e490d98c66ce5a608fa09",
            "965745f3acc94ad581d4673fe52b95fc",
            "24a6e64c802e430486d43bd489077fd9",
            "a0c7d1d1b24a4185b002ea74de2d55bd",
            "64c0be26230f4533a797803b717c16bc",
            "5a148865985c48fdbef67c7301864e0b",
            "30e9108bf651420dac6b960ec062b213",
            "383f554c471444a6857118d26498a6df",
            "85522df421f04d3b882f557a165b1905",
            "fa8268d3eed64496a7b0d16e5af3aa77",
            "c3cb686e9ebf47f9bd2dfae3ed2d96ff",
            "fb322cdcdda245b5becdaaa58a7ae53b",
            "d7168d1c580e4b53b7756faffd3ffa22",
            "9904c7a015b94e6989669eb22600553d",
            "914df2c330eb499cbc558503547ab3da",
            "dc36f8779f544602953b3de4099882f2",
            "df53acc883884d18856758425592ec1b",
            "e734e4a021094684b0d2199cb0e6cae1",
            "916f80e240c44cb898e3b476dea511e6",
            "1093e05576eb40d8aef9bc4fdd9cd920",
            "8a553e5596a84943a883f14fa74622dd",
            "347cbe15a1504279895c1552eae3d19b",
            "b44909c4279a4004818a31e245e000b1",
            "6bba0038994c4607a47bf5ccae819e79",
            "39321054b37a4a52bb07d62e85ddfe34",
            "4c63a1df6fa04158a1a3ead2fc4b13e9",
            "a935447468494c539d112a6fef7281f1",
            "3c89949bf5e74a538988c7c97b984f90",
            "313368531df347a188b75d69f423882a",
            "ee3353e5051543878e68d41033ef2b8f",
            "da44de09a6b84607a44e694e228f5004",
            "9e9deeedada54ce1a656b6106d1ffc1d",
            "5aa67f946b6d4e5eb8fad8a246c3b894",
            "d6d38ef351b844ec9290f66a313505d2",
            "c2a16b7902c84a2883b877bf82278878",
            "227775f906114e1183c8bbe0b298d211",
            "9b51cb5226f84b3ba1456b7a13706370",
            "d6c2adc2e5a343ab967bc1da2390ed51",
            "d8a453782e4b48868d9680296c73d19f",
            "762712fc210e4028babb503ea30ae258",
            "ca72afc473e043e78a83c65ce6267068",
            "aa094e2428994448a0ca05e82431ec3d",
            "70d14dc8a77b4259bc53fc86f4ee44dd",
            "0bea07216cfd4a24aaceb2535d396f55"
          ]
        },
        "id": "AJh7mFNtcgSi",
        "outputId": "82edc376-472f-4117-c4a4-0c23a3f49fd9"
      },
      "outputs": [
        {
          "data": {
            "application/vnd.jupyter.widget-view+json": {
              "model_id": "e964d51e704549d1b7c7ec8f74d89a3d",
              "version_major": 2,
              "version_minor": 0
            },
            "text/plain": [
              "tokenizer_config.json:   0%|          | 0.00/24.0 [00:00<?, ?B/s]"
            ]
          },
          "metadata": {},
          "output_type": "display_data"
        },
        {
          "data": {
            "application/vnd.jupyter.widget-view+json": {
              "model_id": "27153a77b8bd4b1b8a9167ba871ea19c",
              "version_major": 2,
              "version_minor": 0
            },
            "text/plain": [
              "config.json:   0%|          | 0.00/642 [00:00<?, ?B/s]"
            ]
          },
          "metadata": {},
          "output_type": "display_data"
        },
        {
          "data": {
            "application/vnd.jupyter.widget-view+json": {
              "model_id": "9f9aacfc6a3e490d98c66ce5a608fa09",
              "version_major": 2,
              "version_minor": 0
            },
            "text/plain": [
              "vocab.txt:   0%|          | 0.00/1.65M [00:00<?, ?B/s]"
            ]
          },
          "metadata": {},
          "output_type": "display_data"
        },
        {
          "data": {
            "application/vnd.jupyter.widget-view+json": {
              "model_id": "fb322cdcdda245b5becdaaa58a7ae53b",
              "version_major": 2,
              "version_minor": 0
            },
            "text/plain": [
              "special_tokens_map.json:   0%|          | 0.00/112 [00:00<?, ?B/s]"
            ]
          },
          "metadata": {},
          "output_type": "display_data"
        },
        {
          "data": {
            "application/vnd.jupyter.widget-view+json": {
              "model_id": "b44909c4279a4004818a31e245e000b1",
              "version_major": 2,
              "version_minor": 0
            },
            "text/plain": [
              "pytorch_model.bin:   0%|          | 0.00/714M [00:00<?, ?B/s]"
            ]
          },
          "metadata": {},
          "output_type": "display_data"
        },
        {
          "data": {
            "application/vnd.jupyter.widget-view+json": {
              "model_id": "d6d38ef351b844ec9290f66a313505d2",
              "version_major": 2,
              "version_minor": 0
            },
            "text/plain": [
              "model.safetensors:   0%|          | 0.00/714M [00:00<?, ?B/s]"
            ]
          },
          "metadata": {},
          "output_type": "display_data"
        },
        {
          "name": "stderr",
          "output_type": "stream",
          "text": [
            "Some weights of the model checkpoint at DeepPavlov/rubert-base-cased were not used when initializing BertModel: ['cls.predictions.bias', 'cls.predictions.decoder.bias', 'cls.predictions.decoder.weight', 'cls.predictions.transform.LayerNorm.bias', 'cls.predictions.transform.LayerNorm.weight', 'cls.predictions.transform.dense.bias', 'cls.predictions.transform.dense.weight', 'cls.seq_relationship.bias', 'cls.seq_relationship.weight']\n",
            "- This IS expected if you are initializing BertModel from the checkpoint of a model trained on another task or with another architecture (e.g. initializing a BertForSequenceClassification model from a BertForPreTraining model).\n",
            "- This IS NOT expected if you are initializing BertModel from the checkpoint of a model that you expect to be exactly identical (initializing a BertForSequenceClassification model from a BertForSequenceClassification model).\n"
          ]
        }
      ],
      "source": [
        "model_name = \"DeepPavlov/rubert-base-cased\"\n",
        "tokenizer = AutoTokenizer.from_pretrained(model_name)\n",
        "model = AutoModel.from_pretrained(model_name)\n",
        "\n",
        "model = model.to(device)"
      ]
    },
    {
      "cell_type": "code",
      "source": [
        "model.eval()\n",
        "\n",
        "# Тексты описаний\n",
        "descriptions = df['full_description'].tolist()\n",
        "\n",
        "# Функция для одного батча\n",
        "def embed_batch(text_batch):\n",
        "    tokens = tokenizer(text_batch, padding=True, truncation=True, return_tensors=\"pt\", max_length=512)\n",
        "    tokens = {k: v.to(device) for k, v in tokens.items()}\n",
        "    with torch.no_grad():\n",
        "        outputs = model(**tokens)\n",
        "    embeddings = outputs.last_hidden_state[:, 0, :]\n",
        "    return embeddings.cpu().numpy()\n",
        "\n",
        "BATCH_SIZE = 64\n",
        "all_embeddings = []\n",
        "\n",
        "for i in tqdm(range(0, len(descriptions), BATCH_SIZE), desc=\"Embedding descriptions\"):\n",
        "    batch = descriptions[i : i + BATCH_SIZE]\n",
        "    all_embeddings.append(embed_batch(batch))\n",
        "\n",
        "description_embeddings = np.vstack(all_embeddings)"
      ],
      "metadata": {
        "id": "yETQR6reKkXc"
      },
      "execution_count": null,
      "outputs": []
    },
    {
      "cell_type": "code",
      "execution_count": null,
      "metadata": {
        "colab": {
          "base_uri": "https://localhost:8080/"
        },
        "id": "hnKSqB52SBm1",
        "outputId": "4ad0c177-187b-45b7-c177-e60a896eba7f"
      },
      "outputs": [
        {
          "data": {
            "text/plain": [
              "768"
            ]
          },
          "execution_count": 21,
          "metadata": {},
          "output_type": "execute_result"
        }
      ],
      "source": [
        "dim = description_embeddings.shape[-1]\n",
        "dim"
      ]
    },
    {
      "cell_type": "markdown",
      "metadata": {
        "id": "be_TeGb5e7Ny"
      },
      "source": [
        "Ищем 20 ближайших векторов к каждому фильму."
      ]
    },
    {
      "cell_type": "code",
      "execution_count": null,
      "metadata": {
        "colab": {
          "base_uri": "https://localhost:8080/"
        },
        "collapsed": true,
        "id": "3ppoYRHmP_kY",
        "outputId": "ecae85a9-6bf5-4246-df76-c91117639786"
      },
      "outputs": [
        {
          "output_type": "stream",
          "name": "stdout",
          "text": [
            "Collecting faiss-cpu\n",
            "  Downloading faiss_cpu-1.11.0-cp311-cp311-manylinux_2_28_x86_64.whl.metadata (4.8 kB)\n",
            "Requirement already satisfied: numpy<3.0,>=1.25.0 in /usr/local/lib/python3.11/dist-packages (from faiss-cpu) (2.0.2)\n",
            "Requirement already satisfied: packaging in /usr/local/lib/python3.11/dist-packages (from faiss-cpu) (24.2)\n",
            "Downloading faiss_cpu-1.11.0-cp311-cp311-manylinux_2_28_x86_64.whl (31.3 MB)\n",
            "\u001b[2K   \u001b[90m━━━━━━━━━━━━━━━━━━━━━━━━━━━━━━━━━━━━━━━━\u001b[0m \u001b[32m31.3/31.3 MB\u001b[0m \u001b[31m69.2 MB/s\u001b[0m eta \u001b[36m0:00:00\u001b[0m\n",
            "\u001b[?25hInstalling collected packages: faiss-cpu\n",
            "Successfully installed faiss-cpu-1.11.0\n"
          ]
        }
      ],
      "source": [
        "!pip install faiss-cpu"
      ]
    },
    {
      "cell_type": "code",
      "source": [
        "import faiss\n",
        "\n",
        "faiss.normalize_L2(description_embeddings)\n",
        "\n",
        "index = faiss.IndexFlatIP(dim)\n",
        "index.add(description_embeddings)\n",
        "\n",
        "# D — косинусные расстояния, I — индексы ближайших фильмов\n",
        "D, I = index.search(description_embeddings, 25)"
      ],
      "metadata": {
        "id": "YWvqXP2RKsOD"
      },
      "execution_count": null,
      "outputs": []
    },
    {
      "cell_type": "code",
      "execution_count": null,
      "metadata": {
        "id": "Q-cxs_m2fJ7t"
      },
      "outputs": [],
      "source": [
        "film_similarities = []\n",
        "id_map = [f\"film_{i + 1}\" for i in range(len(description_embeddings))]\n",
        "\n",
        "for idx, (neighbors, scores) in enumerate(zip(I, D)):\n",
        "    film_a = id_map[idx]\n",
        "    for neighbor_idx, score in zip(neighbors[1:], scores[1:]):\n",
        "        film_b = id_map[neighbor_idx]\n",
        "        if score > 0.85:\n",
        "            film_similarities.append((film_a, film_b, float(score)))\n",
        "\n",
        "similarity_df = pd.DataFrame(film_similarities, columns=['film_a', 'film_b', 'similarity'])\n",
        "\n",
        "similarity_df.to_csv('film_similarity.csv', index=False)"
      ]
    },
    {
      "cell_type": "code",
      "source": [
        "!cp film_similarity.csv /content/drive/MyDrive/film_similarity.csv"
      ],
      "metadata": {
        "id": "A3wA6Vr_K0Gg"
      },
      "execution_count": null,
      "outputs": []
    },
    {
      "cell_type": "code",
      "execution_count": null,
      "metadata": {
        "id": "_KGjJ5Dsyhru"
      },
      "outputs": [],
      "source": [
        "file_path = \"/content/drive/MyDrive/film_similarity.csv\"\n",
        "similarity_df = pd.read_csv(file_path)"
      ]
    },
    {
      "cell_type": "code",
      "execution_count": null,
      "metadata": {
        "colab": {
          "base_uri": "https://localhost:8080/"
        },
        "id": "XqZQXeWBfWIk",
        "outputId": "6343d30f-deef-4944-fe3e-9bec283b556b"
      },
      "outputs": [
        {
          "output_type": "execute_result",
          "data": {
            "text/plain": [
              "(2380404, 3)"
            ]
          },
          "metadata": {},
          "execution_count": 18
        }
      ],
      "source": [
        "similarity_df.shape"
      ]
    },
    {
      "cell_type": "markdown",
      "metadata": {
        "id": "ZvQTeOrnfTAZ"
      },
      "source": [
        "Добавляем ребра по схожести описания"
      ]
    },
    {
      "cell_type": "code",
      "source": [
        "for _, row in tqdm(similarity_df.iterrows(), total=len(similarity_df)):\n",
        "    film_idx_a = row['film_a']\n",
        "    film_idx_b = row['film_b']\n",
        "    similarity = float(row['similarity'])\n",
        "    G.add_edge(film_idx_a, film_idx_b, relation='rsimilar_by_description', weight=similarity)"
      ],
      "metadata": {
        "id": "2HCjzzlVNJ-9",
        "colab": {
          "base_uri": "https://localhost:8080/"
        },
        "outputId": "b410c6fe-abfd-4aa1-bb3a-a52f4a401b0c"
      },
      "execution_count": null,
      "outputs": [
        {
          "output_type": "stream",
          "name": "stderr",
          "text": [
            "100%|██████████| 2380404/2380404 [02:45<00:00, 14351.56it/s]\n"
          ]
        }
      ]
    },
    {
      "cell_type": "code",
      "source": [
        "print(f\"Число узлов: {len(G.nodes())}\")\n",
        "print(f\"Число рёбер: {len(G.edges())}\")"
      ],
      "metadata": {
        "colab": {
          "base_uri": "https://localhost:8080/"
        },
        "id": "6kgtAjckLbKd",
        "outputId": "9b9447c6-29f5-4a57-f35f-3d30d07ab7c7"
      },
      "execution_count": null,
      "outputs": [
        {
          "output_type": "stream",
          "name": "stdout",
          "text": [
            "Число узлов: 99445\n",
            "Число рёбер: 2755605\n"
          ]
        }
      ]
    },
    {
      "cell_type": "code",
      "source": [
        "all('weight' in data for u, v, data in G.edges(data=True))"
      ],
      "metadata": {
        "colab": {
          "base_uri": "https://localhost:8080/"
        },
        "id": "-BiiKk8fLb9f",
        "outputId": "fe4b9f2b-7650-475f-a0a4-3b426d87eb1d"
      },
      "execution_count": null,
      "outputs": [
        {
          "output_type": "execute_result",
          "data": {
            "text/plain": [
              "True"
            ]
          },
          "metadata": {},
          "execution_count": 22
        }
      ]
    },
    {
      "cell_type": "code",
      "source": [
        "all('relation' in data for u, v, data in G.edges(data=True))"
      ],
      "metadata": {
        "colab": {
          "base_uri": "https://localhost:8080/"
        },
        "id": "tUmplmM0X1my",
        "outputId": "addd007c-e1ad-4bff-f97c-6140249ffff2"
      },
      "execution_count": null,
      "outputs": [
        {
          "output_type": "execute_result",
          "data": {
            "text/plain": [
              "True"
            ]
          },
          "metadata": {},
          "execution_count": 21
        }
      ]
    },
    {
      "cell_type": "code",
      "source": [
        "max_weight = max(data['weight'] for _, _, data in G.edges(data=True))\n",
        "min_weight = min(data['weight'] for _, _, data in G.edges(data=True))\n",
        "\n",
        "print(f\"Максимальный вес: {max_weight}\")\n",
        "print(f\"Минимальный вес: {min_weight}\")"
      ],
      "metadata": {
        "colab": {
          "base_uri": "https://localhost:8080/"
        },
        "id": "IpJYq7FqMT6I",
        "outputId": "84ba0fec-26a8-4c5c-fbd2-e3a36a2958e1"
      },
      "execution_count": null,
      "outputs": [
        {
          "output_type": "stream",
          "name": "stdout",
          "text": [
            "Максимальный вес: 0.9991852045059204\n",
            "Минимальный вес: 0.0\n"
          ]
        }
      ]
    },
    {
      "cell_type": "markdown",
      "metadata": {
        "id": "wOpCz3M_m54F"
      },
      "source": [
        "#### Подготовка графа G к обучению\n"
      ]
    },
    {
      "cell_type": "code",
      "source": [
        "data = HeteroData()\n",
        "\n",
        "# Отображения: имя узла -> индекс\n",
        "node_maps = defaultdict(dict)\n",
        "node_features = defaultdict(list)\n",
        "# Счётчики узлов по типам\n",
        "node_type_counts = defaultdict(int)"
      ],
      "metadata": {
        "id": "6WL-CjtmRP12"
      },
      "execution_count": null,
      "outputs": []
    },
    {
      "cell_type": "code",
      "source": [
        "for node, attr in G.nodes(data=True):\n",
        "    ntype = attr.get(\"type\")\n",
        "    if ntype == \"film\":\n",
        "        idx = node_type_counts[ntype]\n",
        "        node_maps[ntype][node] = idx\n",
        "        weight = attr.get(\"weight\")\n",
        "        year = attr.get(\"year\") / 2025\n",
        "        node_features[ntype].append([weight, year])\n",
        "        node_type_counts[ntype] += 1\n",
        "    else:\n",
        "        idx = node_type_counts[ntype]\n",
        "        node_maps[ntype][node] = idx\n",
        "        node_type_counts[ntype] += 1\n"
      ],
      "metadata": {
        "id": "eQxuK6fjRZKo"
      },
      "execution_count": null,
      "outputs": []
    },
    {
      "cell_type": "code",
      "source": [
        "data['film'].x = torch.tensor(node_features['film'], dtype=torch.float)\n",
        "\n",
        "for ntype in node_maps:\n",
        "    if ntype != 'film':\n",
        "        data[ntype].num_nodes = len(node_maps[ntype])\n"
      ],
      "metadata": {
        "id": "sNV9JzQ1Xd8j"
      },
      "execution_count": null,
      "outputs": []
    },
    {
      "cell_type": "code",
      "source": [
        "# Для хранения рёбер по типам\n",
        "edge_indices = defaultdict(list)\n",
        "edge_weights = defaultdict(list)\n",
        "\n",
        "for u, v, attr in G.edges(data=True):\n",
        "    rel = attr.get('relation')\n",
        "\n",
        "    src_type = G.nodes[u]['type']\n",
        "    dst_type = G.nodes[v]['type']\n",
        "\n",
        "    # В случае фильма нужно соблюдать направление film -> атрибут\n",
        "    if src_type == 'film' and dst_type != 'film':\n",
        "        src, dst = u, v\n",
        "    elif dst_type == 'film' and src_type != 'film':\n",
        "        src, dst = v, u\n",
        "    elif src_type == 'film' and dst_type == 'film':\n",
        "        src, dst = u, v\n",
        "    else:\n",
        "        continue\n",
        "\n",
        "    src_index = node_maps[src_type][src]\n",
        "    dst_index = node_maps[dst_type][dst]\n",
        "\n",
        "    edge_type = (src_type, rel, dst_type)\n",
        "    edge_indices[edge_type].append((src_index, dst_index))\n",
        "    edge_weights[edge_type].append(attr.get('weight', 0.0))"
      ],
      "metadata": {
        "id": "DSN2KrQpXt-1"
      },
      "execution_count": null,
      "outputs": []
    },
    {
      "cell_type": "code",
      "source": [
        "for edge_type, edge_list in edge_indices.items():\n",
        "    src_type, rel, dst_type = edge_type\n",
        "    edge_index = torch.tensor(edge_list, dtype=torch.long).t().contiguous()\n",
        "    edge_attr = torch.tensor(edge_weights[edge_type], dtype=torch.float).view(-1, 1)\n",
        "\n",
        "    data[(src_type, rel, dst_type)].edge_index = edge_index\n",
        "    data[(src_type, rel, dst_type)].edge_attr = edge_attr\n"
      ],
      "metadata": {
        "id": "w0cEy4LkYw7-"
      },
      "execution_count": null,
      "outputs": []
    },
    {
      "cell_type": "code",
      "source": [
        "data = data.to(device)\n",
        "data"
      ],
      "metadata": {
        "colab": {
          "base_uri": "https://localhost:8080/"
        },
        "id": "VXOktaWraEdF",
        "outputId": "bf43284e-e733-4b20-c059-882309f1c2ff"
      },
      "execution_count": null,
      "outputs": [
        {
          "output_type": "execute_result",
          "data": {
            "text/plain": [
              "HeteroData(\n",
              "  film={ x=[99188, 2] },\n",
              "  type={ num_nodes=3 },\n",
              "  genre={ num_nodes=25 },\n",
              "  country={ num_nodes=211 },\n",
              "  age={ num_nodes=5 },\n",
              "  decade={ num_nodes=13 },\n",
              "  (film, rtype, type)={\n",
              "    edge_index=[2, 99188],\n",
              "    edge_attr=[99188, 1],\n",
              "  },\n",
              "  (film, rgenre, genre)={\n",
              "    edge_index=[2, 223506],\n",
              "    edge_attr=[223506, 1],\n",
              "  },\n",
              "  (film, rcountry, country)={\n",
              "    edge_index=[2, 130125],\n",
              "    edge_attr=[130125, 1],\n",
              "  },\n",
              "  (film, rage, age)={\n",
              "    edge_index=[2, 42281],\n",
              "    edge_attr=[42281, 1],\n",
              "  },\n",
              "  (film, rdecade, decade)={\n",
              "    edge_index=[2, 99188],\n",
              "    edge_attr=[99188, 1],\n",
              "  },\n",
              "  (film, rsimilar_by_description, film)={\n",
              "    edge_index=[2, 2161317],\n",
              "    edge_attr=[2161317, 1],\n",
              "  }\n",
              ")"
            ]
          },
          "metadata": {},
          "execution_count": 29
        }
      ]
    },
    {
      "cell_type": "markdown",
      "source": [
        "#### Обучение графовой нейросети GNN"
      ],
      "metadata": {
        "id": "3OXnnUSZd992"
      }
    },
    {
      "cell_type": "code",
      "source": [
        "class FilmGNN(nn.Module):\n",
        "    def __init__(self, hidden_dim=128, out_dim=128):\n",
        "        super().__init__()\n",
        "        self.conv1 = HeteroConv({\n",
        "            ('film', 'rtype', 'type'): GATConv((-1, -1), hidden_dim, heads=1, concat=False, add_self_loops=False),\n",
        "            ('film', 'rgenre', 'genre'): GATConv((-1, -1), hidden_dim, heads=1, concat=False, add_self_loops=False),\n",
        "            ('film', 'rcountry', 'country'): GATConv((-1, -1), hidden_dim, heads=1, concat=False, add_self_loops=False),\n",
        "            ('film', 'rage', 'age'): GATConv((-1, -1), hidden_dim, heads=1, concat=False, add_self_loops=False),\n",
        "            ('film', 'rdecade', 'decade'): GATConv((-1, -1), hidden_dim, heads=1, concat=False, add_self_loops=False),\n",
        "            ('film', 'rsimilar_by_description', 'film'): GATConv((-1, -1), hidden_dim, heads=1, concat=False),\n",
        "        }, aggr='sum')\n",
        "\n",
        "        self.lin = Linear(hidden_dim, out_dim)\n",
        "\n",
        "    def forward(self, x_dict, edge_index_dict, edge_attr_dict):\n",
        "        x_dict = self.conv1(x_dict, edge_index_dict, edge_attr_dict=edge_attr_dict)\n",
        "        x_dict['film'] = self.lin(x_dict['film'])\n",
        "        return x_dict\n"
      ],
      "metadata": {
        "id": "OZMJzb0sdgi0"
      },
      "execution_count": null,
      "outputs": []
    },
    {
      "cell_type": "code",
      "source": [
        "model = FilmGNN(hidden_dim=128, out_dim=128).to(device)\n",
        "optimizer = torch.optim.Adam(model.parameters(), lr=1e-3)\n",
        "\n",
        "edge_index = data[('film', 'rsimilar_by_description', 'film')].edge_index\n",
        "EPOCHS = 50\n",
        "\n",
        "for epoch in range(EPOCHS):\n",
        "    model.train()\n",
        "    out_dict = model(data.x_dict, data.edge_index_dict, data.edge_attr_dict)\n",
        "    film_emb = out_dict['film']  # [num_films, 128]\n",
        "\n",
        "    pos_src = film_emb[edge_index[0]]\n",
        "    pos_dst = film_emb[edge_index[1]]\n",
        "    pos_scores = (pos_src * pos_dst).sum(dim=1)\n",
        "    pos_labels = torch.ones_like(pos_scores)\n",
        "\n",
        "    neg_edge_index = negative_sampling(\n",
        "        edge_index=edge_index,\n",
        "        num_nodes=film_emb.size(0),\n",
        "        num_neg_samples=edge_index.size(1),\n",
        "        method='sparse'\n",
        "    )\n",
        "    neg_src = film_emb[neg_edge_index[0]]\n",
        "    neg_dst = film_emb[neg_edge_index[1]]\n",
        "    neg_scores = (neg_src * neg_dst).sum(dim=1)\n",
        "    neg_labels = torch.zeros_like(neg_scores)\n",
        "\n",
        "    scores = torch.cat([pos_scores, neg_scores])\n",
        "    labels = torch.cat([pos_labels, neg_labels])\n",
        "    loss = F.binary_cross_entropy_with_logits(scores, labels)\n",
        "\n",
        "    optimizer.zero_grad()\n",
        "    loss.backward()\n",
        "    optimizer.step()\n",
        "\n",
        "    if epoch % 5 == 0:\n",
        "        with torch.no_grad():\n",
        "            print(f\"Epoch {epoch:>2}/{EPOCHS}, Loss: {loss.item()}\")"
      ],
      "metadata": {
        "colab": {
          "base_uri": "https://localhost:8080/"
        },
        "id": "iuonceM9etl2",
        "outputId": "5a500f05-9fe0-41da-e5b8-fd47eb3a9581"
      },
      "execution_count": null,
      "outputs": [
        {
          "output_type": "stream",
          "name": "stdout",
          "text": [
            "Epoch  0/50, Loss: 14.707913398742676\n",
            "Epoch  5/50, Loss: 2.305377244949341\n",
            "Epoch 10/50, Loss: 1.1480066776275635\n",
            "Epoch 15/50, Loss: 1.122639775276184\n",
            "Epoch 20/50, Loss: 0.9047917723655701\n",
            "Epoch 25/50, Loss: 0.7986855506896973\n",
            "Epoch 30/50, Loss: 0.755832850933075\n",
            "Epoch 35/50, Loss: 0.7235291004180908\n",
            "Epoch 40/50, Loss: 0.7057123780250549\n",
            "Epoch 45/50, Loss: 0.6989659667015076\n"
          ]
        }
      ]
    },
    {
      "cell_type": "code",
      "source": [
        "model.eval()\n",
        "movies_embeddings = model(data.x_dict, data.edge_index_dict, data.edge_attr_dict)['film']  # [99188, 128]"
      ],
      "metadata": {
        "id": "5NB0FREzgaS_"
      },
      "execution_count": null,
      "outputs": []
    },
    {
      "cell_type": "code",
      "source": [
        "movies_embeddings.shape"
      ],
      "metadata": {
        "colab": {
          "base_uri": "https://localhost:8080/"
        },
        "id": "dz3XsVkPmcO6",
        "outputId": "57e46696-1e88-4275-96bc-786dc191c38a"
      },
      "execution_count": null,
      "outputs": [
        {
          "output_type": "execute_result",
          "data": {
            "text/plain": [
              "torch.Size([99188, 128])"
            ]
          },
          "metadata": {},
          "execution_count": 33
        }
      ]
    },
    {
      "cell_type": "markdown",
      "source": [
        "#### Тестирование"
      ],
      "metadata": {
        "id": "OnWNcayxnwqy"
      }
    },
    {
      "cell_type": "code",
      "source": [
        "movie_title_year_dict = {}\n",
        "movies_embeddings = movies_embeddings.cpu().detach().numpy()\n",
        "\n",
        "for index, row in movies_df.iterrows():\n",
        "    movie_title = row['name']\n",
        "    release_year = row['release_year']\n",
        "    movie_title_year_dict[f\"{movie_title} ({release_year})\"] = index"
      ],
      "metadata": {
        "id": "X40x9GA6mX1m"
      },
      "execution_count": null,
      "outputs": []
    },
    {
      "cell_type": "code",
      "source": [
        "from sklearn.metrics.pairwise import cosine_similarity\n",
        "\n",
        "def calculate_movie_similarity(movie_name1, movie_name2):\n",
        "    try:\n",
        "        movie_id1 = movie_title_year_dict[movie_name1]\n",
        "        movie_id2 = movie_title_year_dict[movie_name2]\n",
        "\n",
        "        movie1_embedding = movies_embeddings[movie_id1][np.newaxis, :]\n",
        "        movie2_embedding = movies_embeddings[movie_id2][np.newaxis, :]\n",
        "\n",
        "        similarity = cosine_similarity(movie1_embedding, movie2_embedding)[0][0]\n",
        "        print(similarity)\n",
        "\n",
        "    except IndexError:\n",
        "        print(f\"One or both movie IDs not found in the DataFrame.\")\n",
        "        return -1\n"
      ],
      "metadata": {
        "id": "raHW9XzimaNc"
      },
      "execution_count": null,
      "outputs": []
    },
    {
      "cell_type": "code",
      "source": [
        "calculate_movie_similarity(\"Человек-паук: Нет пути домой (2021)\", \"Человек-паук (2002)\")"
      ],
      "metadata": {
        "colab": {
          "base_uri": "https://localhost:8080/"
        },
        "id": "0g3h7upZuAsw",
        "outputId": "c8f2fb21-57e3-43fa-bacf-5470fd368633"
      },
      "execution_count": null,
      "outputs": [
        {
          "output_type": "stream",
          "name": "stdout",
          "text": [
            "0.918236\n"
          ]
        }
      ]
    },
    {
      "cell_type": "code",
      "source": [
        "calculate_movie_similarity(\"Крик (1996)\", \"Титаник (1997)\")\n",
        "\n",
        "# Плохой результат"
      ],
      "metadata": {
        "colab": {
          "base_uri": "https://localhost:8080/"
        },
        "id": "vhp5r6qeuCqr",
        "outputId": "1c53b323-9ccd-4d22-c2b1-8562a23f5b72"
      },
      "execution_count": null,
      "outputs": [
        {
          "output_type": "stream",
          "name": "stdout",
          "text": [
            "0.9452101\n"
          ]
        }
      ]
    }
  ],
  "metadata": {
    "accelerator": "GPU",
    "colab": {
      "collapsed_sections": [
        "8N6quBvJn58Z",
        "ap3PFhieqwXm",
        "2Or7b79-q_22",
        "ZQz1qpbZystb",
        "VS6iWhK3-tBW",
        "GiPEqU6dSbFf",
        "BESBr8CMHOAN",
        "C2Tsa2K_JZzD",
        "-hrot_cdjHnh",
        "Ih52VWSXEsbl",
        "1j7YJ6VATONU",
        "5LOMH0bTGnKQ",
        "Qh8_RLbfnhH0",
        "wOpCz3M_m54F",
        "3OXnnUSZd992",
        "OnWNcayxnwqy"
      ],
      "gpuType": "T4",
      "provenance": []
    },
    "kernelspec": {
      "display_name": "Python 3",
      "name": "python3"
    },
    "language_info": {
      "name": "python"
    },
    "widgets": {
      "application/vnd.jupyter.widget-state+json": {
        "0557ae8af7df4d89bef02b83a4cfa7c8": {
          "model_module": "@jupyter-widgets/base",
          "model_module_version": "1.2.0",
          "model_name": "LayoutModel",
          "state": {
            "_model_module": "@jupyter-widgets/base",
            "_model_module_version": "1.2.0",
            "_model_name": "LayoutModel",
            "_view_count": null,
            "_view_module": "@jupyter-widgets/base",
            "_view_module_version": "1.2.0",
            "_view_name": "LayoutView",
            "align_content": null,
            "align_items": null,
            "align_self": null,
            "border": null,
            "bottom": null,
            "display": null,
            "flex": null,
            "flex_flow": null,
            "grid_area": null,
            "grid_auto_columns": null,
            "grid_auto_flow": null,
            "grid_auto_rows": null,
            "grid_column": null,
            "grid_gap": null,
            "grid_row": null,
            "grid_template_areas": null,
            "grid_template_columns": null,
            "grid_template_rows": null,
            "height": null,
            "justify_content": null,
            "justify_items": null,
            "left": null,
            "margin": null,
            "max_height": null,
            "max_width": null,
            "min_height": null,
            "min_width": null,
            "object_fit": null,
            "object_position": null,
            "order": null,
            "overflow": null,
            "overflow_x": null,
            "overflow_y": null,
            "padding": null,
            "right": null,
            "top": null,
            "visibility": null,
            "width": null
          }
        },
        "09ff0d2ab411440eb38e79c87e839d24": {
          "model_module": "@jupyter-widgets/controls",
          "model_module_version": "1.5.0",
          "model_name": "DescriptionStyleModel",
          "state": {
            "_model_module": "@jupyter-widgets/controls",
            "_model_module_version": "1.5.0",
            "_model_name": "DescriptionStyleModel",
            "_view_count": null,
            "_view_module": "@jupyter-widgets/base",
            "_view_module_version": "1.2.0",
            "_view_name": "StyleView",
            "description_width": ""
          }
        },
        "0bea07216cfd4a24aaceb2535d396f55": {
          "model_module": "@jupyter-widgets/controls",
          "model_module_version": "1.5.0",
          "model_name": "DescriptionStyleModel",
          "state": {
            "_model_module": "@jupyter-widgets/controls",
            "_model_module_version": "1.5.0",
            "_model_name": "DescriptionStyleModel",
            "_view_count": null,
            "_view_module": "@jupyter-widgets/base",
            "_view_module_version": "1.2.0",
            "_view_name": "StyleView",
            "description_width": ""
          }
        },
        "1093e05576eb40d8aef9bc4fdd9cd920": {
          "model_module": "@jupyter-widgets/controls",
          "model_module_version": "1.5.0",
          "model_name": "ProgressStyleModel",
          "state": {
            "_model_module": "@jupyter-widgets/controls",
            "_model_module_version": "1.5.0",
            "_model_name": "ProgressStyleModel",
            "_view_count": null,
            "_view_module": "@jupyter-widgets/base",
            "_view_module_version": "1.2.0",
            "_view_name": "StyleView",
            "bar_color": null,
            "description_width": ""
          }
        },
        "227775f906114e1183c8bbe0b298d211": {
          "model_module": "@jupyter-widgets/controls",
          "model_module_version": "1.5.0",
          "model_name": "FloatProgressModel",
          "state": {
            "_dom_classes": [],
            "_model_module": "@jupyter-widgets/controls",
            "_model_module_version": "1.5.0",
            "_model_name": "FloatProgressModel",
            "_view_count": null,
            "_view_module": "@jupyter-widgets/controls",
            "_view_module_version": "1.5.0",
            "_view_name": "ProgressView",
            "bar_style": "success",
            "description": "",
            "description_tooltip": null,
            "layout": "IPY_MODEL_ca72afc473e043e78a83c65ce6267068",
            "max": 714295028,
            "min": 0,
            "orientation": "horizontal",
            "style": "IPY_MODEL_aa094e2428994448a0ca05e82431ec3d",
            "value": 714295028
          }
        },
        "24a6e64c802e430486d43bd489077fd9": {
          "model_module": "@jupyter-widgets/controls",
          "model_module_version": "1.5.0",
          "model_name": "FloatProgressModel",
          "state": {
            "_dom_classes": [],
            "_model_module": "@jupyter-widgets/controls",
            "_model_module_version": "1.5.0",
            "_model_name": "FloatProgressModel",
            "_view_count": null,
            "_view_module": "@jupyter-widgets/controls",
            "_view_module_version": "1.5.0",
            "_view_name": "ProgressView",
            "bar_style": "success",
            "description": "",
            "description_tooltip": null,
            "layout": "IPY_MODEL_383f554c471444a6857118d26498a6df",
            "max": 1649718,
            "min": 0,
            "orientation": "horizontal",
            "style": "IPY_MODEL_85522df421f04d3b882f557a165b1905",
            "value": 1649718
          }
        },
        "25c1e61a889941c1933609c49d084387": {
          "model_module": "@jupyter-widgets/controls",
          "model_module_version": "1.5.0",
          "model_name": "ProgressStyleModel",
          "state": {
            "_model_module": "@jupyter-widgets/controls",
            "_model_module_version": "1.5.0",
            "_model_name": "ProgressStyleModel",
            "_view_count": null,
            "_view_module": "@jupyter-widgets/base",
            "_view_module_version": "1.2.0",
            "_view_name": "StyleView",
            "bar_color": null,
            "description_width": ""
          }
        },
        "27153a77b8bd4b1b8a9167ba871ea19c": {
          "model_module": "@jupyter-widgets/controls",
          "model_module_version": "1.5.0",
          "model_name": "HBoxModel",
          "state": {
            "_dom_classes": [],
            "_model_module": "@jupyter-widgets/controls",
            "_model_module_version": "1.5.0",
            "_model_name": "HBoxModel",
            "_view_count": null,
            "_view_module": "@jupyter-widgets/controls",
            "_view_module_version": "1.5.0",
            "_view_name": "HBoxView",
            "box_style": "",
            "children": [
              "IPY_MODEL_71e0abb5523a4fc59d847436b9739f42",
              "IPY_MODEL_6c35cdc078bd4916a03a8722a9d8ee13",
              "IPY_MODEL_c4db2eed96a74c5c8d3611265a8c4850"
            ],
            "layout": "IPY_MODEL_df1454c2b3884461a172b8f869e5c795"
          }
        },
        "30e9108bf651420dac6b960ec062b213": {
          "model_module": "@jupyter-widgets/controls",
          "model_module_version": "1.5.0",
          "model_name": "DescriptionStyleModel",
          "state": {
            "_model_module": "@jupyter-widgets/controls",
            "_model_module_version": "1.5.0",
            "_model_name": "DescriptionStyleModel",
            "_view_count": null,
            "_view_module": "@jupyter-widgets/base",
            "_view_module_version": "1.2.0",
            "_view_name": "StyleView",
            "description_width": ""
          }
        },
        "313368531df347a188b75d69f423882a": {
          "model_module": "@jupyter-widgets/controls",
          "model_module_version": "1.5.0",
          "model_name": "DescriptionStyleModel",
          "state": {
            "_model_module": "@jupyter-widgets/controls",
            "_model_module_version": "1.5.0",
            "_model_name": "DescriptionStyleModel",
            "_view_count": null,
            "_view_module": "@jupyter-widgets/base",
            "_view_module_version": "1.2.0",
            "_view_name": "StyleView",
            "description_width": ""
          }
        },
        "347cbe15a1504279895c1552eae3d19b": {
          "model_module": "@jupyter-widgets/controls",
          "model_module_version": "1.5.0",
          "model_name": "DescriptionStyleModel",
          "state": {
            "_model_module": "@jupyter-widgets/controls",
            "_model_module_version": "1.5.0",
            "_model_name": "DescriptionStyleModel",
            "_view_count": null,
            "_view_module": "@jupyter-widgets/base",
            "_view_module_version": "1.2.0",
            "_view_name": "StyleView",
            "description_width": ""
          }
        },
        "383f554c471444a6857118d26498a6df": {
          "model_module": "@jupyter-widgets/base",
          "model_module_version": "1.2.0",
          "model_name": "LayoutModel",
          "state": {
            "_model_module": "@jupyter-widgets/base",
            "_model_module_version": "1.2.0",
            "_model_name": "LayoutModel",
            "_view_count": null,
            "_view_module": "@jupyter-widgets/base",
            "_view_module_version": "1.2.0",
            "_view_name": "LayoutView",
            "align_content": null,
            "align_items": null,
            "align_self": null,
            "border": null,
            "bottom": null,
            "display": null,
            "flex": null,
            "flex_flow": null,
            "grid_area": null,
            "grid_auto_columns": null,
            "grid_auto_flow": null,
            "grid_auto_rows": null,
            "grid_column": null,
            "grid_gap": null,
            "grid_row": null,
            "grid_template_areas": null,
            "grid_template_columns": null,
            "grid_template_rows": null,
            "height": null,
            "justify_content": null,
            "justify_items": null,
            "left": null,
            "margin": null,
            "max_height": null,
            "max_width": null,
            "min_height": null,
            "min_width": null,
            "object_fit": null,
            "object_position": null,
            "order": null,
            "overflow": null,
            "overflow_x": null,
            "overflow_y": null,
            "padding": null,
            "right": null,
            "top": null,
            "visibility": null,
            "width": null
          }
        },
        "39321054b37a4a52bb07d62e85ddfe34": {
          "model_module": "@jupyter-widgets/controls",
          "model_module_version": "1.5.0",
          "model_name": "FloatProgressModel",
          "state": {
            "_dom_classes": [],
            "_model_module": "@jupyter-widgets/controls",
            "_model_module_version": "1.5.0",
            "_model_name": "FloatProgressModel",
            "_view_count": null,
            "_view_module": "@jupyter-widgets/controls",
            "_view_module_version": "1.5.0",
            "_view_name": "ProgressView",
            "bar_style": "success",
            "description": "",
            "description_tooltip": null,
            "layout": "IPY_MODEL_ee3353e5051543878e68d41033ef2b8f",
            "max": 714355318,
            "min": 0,
            "orientation": "horizontal",
            "style": "IPY_MODEL_da44de09a6b84607a44e694e228f5004",
            "value": 714355318
          }
        },
        "3c89949bf5e74a538988c7c97b984f90": {
          "model_module": "@jupyter-widgets/base",
          "model_module_version": "1.2.0",
          "model_name": "LayoutModel",
          "state": {
            "_model_module": "@jupyter-widgets/base",
            "_model_module_version": "1.2.0",
            "_model_name": "LayoutModel",
            "_view_count": null,
            "_view_module": "@jupyter-widgets/base",
            "_view_module_version": "1.2.0",
            "_view_name": "LayoutView",
            "align_content": null,
            "align_items": null,
            "align_self": null,
            "border": null,
            "bottom": null,
            "display": null,
            "flex": null,
            "flex_flow": null,
            "grid_area": null,
            "grid_auto_columns": null,
            "grid_auto_flow": null,
            "grid_auto_rows": null,
            "grid_column": null,
            "grid_gap": null,
            "grid_row": null,
            "grid_template_areas": null,
            "grid_template_columns": null,
            "grid_template_rows": null,
            "height": null,
            "justify_content": null,
            "justify_items": null,
            "left": null,
            "margin": null,
            "max_height": null,
            "max_width": null,
            "min_height": null,
            "min_width": null,
            "object_fit": null,
            "object_position": null,
            "order": null,
            "overflow": null,
            "overflow_x": null,
            "overflow_y": null,
            "padding": null,
            "right": null,
            "top": null,
            "visibility": null,
            "width": null
          }
        },
        "4974bea98b1143c0a2b29933627528af": {
          "model_module": "@jupyter-widgets/controls",
          "model_module_version": "1.5.0",
          "model_name": "DescriptionStyleModel",
          "state": {
            "_model_module": "@jupyter-widgets/controls",
            "_model_module_version": "1.5.0",
            "_model_name": "DescriptionStyleModel",
            "_view_count": null,
            "_view_module": "@jupyter-widgets/base",
            "_view_module_version": "1.2.0",
            "_view_name": "StyleView",
            "description_width": ""
          }
        },
        "4c63a1df6fa04158a1a3ead2fc4b13e9": {
          "model_module": "@jupyter-widgets/controls",
          "model_module_version": "1.5.0",
          "model_name": "HTMLModel",
          "state": {
            "_dom_classes": [],
            "_model_module": "@jupyter-widgets/controls",
            "_model_module_version": "1.5.0",
            "_model_name": "HTMLModel",
            "_view_count": null,
            "_view_module": "@jupyter-widgets/controls",
            "_view_module_version": "1.5.0",
            "_view_name": "HTMLView",
            "description": "",
            "description_tooltip": null,
            "layout": "IPY_MODEL_9e9deeedada54ce1a656b6106d1ffc1d",
            "placeholder": "​",
            "style": "IPY_MODEL_5aa67f946b6d4e5eb8fad8a246c3b894",
            "value": " 714M/714M [00:02&lt;00:00, 307MB/s]"
          }
        },
        "5a148865985c48fdbef67c7301864e0b": {
          "model_module": "@jupyter-widgets/base",
          "model_module_version": "1.2.0",
          "model_name": "LayoutModel",
          "state": {
            "_model_module": "@jupyter-widgets/base",
            "_model_module_version": "1.2.0",
            "_model_name": "LayoutModel",
            "_view_count": null,
            "_view_module": "@jupyter-widgets/base",
            "_view_module_version": "1.2.0",
            "_view_name": "LayoutView",
            "align_content": null,
            "align_items": null,
            "align_self": null,
            "border": null,
            "bottom": null,
            "display": null,
            "flex": null,
            "flex_flow": null,
            "grid_area": null,
            "grid_auto_columns": null,
            "grid_auto_flow": null,
            "grid_auto_rows": null,
            "grid_column": null,
            "grid_gap": null,
            "grid_row": null,
            "grid_template_areas": null,
            "grid_template_columns": null,
            "grid_template_rows": null,
            "height": null,
            "justify_content": null,
            "justify_items": null,
            "left": null,
            "margin": null,
            "max_height": null,
            "max_width": null,
            "min_height": null,
            "min_width": null,
            "object_fit": null,
            "object_position": null,
            "order": null,
            "overflow": null,
            "overflow_x": null,
            "overflow_y": null,
            "padding": null,
            "right": null,
            "top": null,
            "visibility": null,
            "width": null
          }
        },
        "5aa67f946b6d4e5eb8fad8a246c3b894": {
          "model_module": "@jupyter-widgets/controls",
          "model_module_version": "1.5.0",
          "model_name": "DescriptionStyleModel",
          "state": {
            "_model_module": "@jupyter-widgets/controls",
            "_model_module_version": "1.5.0",
            "_model_name": "DescriptionStyleModel",
            "_view_count": null,
            "_view_module": "@jupyter-widgets/base",
            "_view_module_version": "1.2.0",
            "_view_name": "StyleView",
            "description_width": ""
          }
        },
        "6451998757f84a60b09458457d373dc3": {
          "model_module": "@jupyter-widgets/base",
          "model_module_version": "1.2.0",
          "model_name": "LayoutModel",
          "state": {
            "_model_module": "@jupyter-widgets/base",
            "_model_module_version": "1.2.0",
            "_model_name": "LayoutModel",
            "_view_count": null,
            "_view_module": "@jupyter-widgets/base",
            "_view_module_version": "1.2.0",
            "_view_name": "LayoutView",
            "align_content": null,
            "align_items": null,
            "align_self": null,
            "border": null,
            "bottom": null,
            "display": null,
            "flex": null,
            "flex_flow": null,
            "grid_area": null,
            "grid_auto_columns": null,
            "grid_auto_flow": null,
            "grid_auto_rows": null,
            "grid_column": null,
            "grid_gap": null,
            "grid_row": null,
            "grid_template_areas": null,
            "grid_template_columns": null,
            "grid_template_rows": null,
            "height": null,
            "justify_content": null,
            "justify_items": null,
            "left": null,
            "margin": null,
            "max_height": null,
            "max_width": null,
            "min_height": null,
            "min_width": null,
            "object_fit": null,
            "object_position": null,
            "order": null,
            "overflow": null,
            "overflow_x": null,
            "overflow_y": null,
            "padding": null,
            "right": null,
            "top": null,
            "visibility": null,
            "width": null
          }
        },
        "64c0be26230f4533a797803b717c16bc": {
          "model_module": "@jupyter-widgets/base",
          "model_module_version": "1.2.0",
          "model_name": "LayoutModel",
          "state": {
            "_model_module": "@jupyter-widgets/base",
            "_model_module_version": "1.2.0",
            "_model_name": "LayoutModel",
            "_view_count": null,
            "_view_module": "@jupyter-widgets/base",
            "_view_module_version": "1.2.0",
            "_view_name": "LayoutView",
            "align_content": null,
            "align_items": null,
            "align_self": null,
            "border": null,
            "bottom": null,
            "display": null,
            "flex": null,
            "flex_flow": null,
            "grid_area": null,
            "grid_auto_columns": null,
            "grid_auto_flow": null,
            "grid_auto_rows": null,
            "grid_column": null,
            "grid_gap": null,
            "grid_row": null,
            "grid_template_areas": null,
            "grid_template_columns": null,
            "grid_template_rows": null,
            "height": null,
            "justify_content": null,
            "justify_items": null,
            "left": null,
            "margin": null,
            "max_height": null,
            "max_width": null,
            "min_height": null,
            "min_width": null,
            "object_fit": null,
            "object_position": null,
            "order": null,
            "overflow": null,
            "overflow_x": null,
            "overflow_y": null,
            "padding": null,
            "right": null,
            "top": null,
            "visibility": null,
            "width": null
          }
        },
        "6bba0038994c4607a47bf5ccae819e79": {
          "model_module": "@jupyter-widgets/controls",
          "model_module_version": "1.5.0",
          "model_name": "HTMLModel",
          "state": {
            "_dom_classes": [],
            "_model_module": "@jupyter-widgets/controls",
            "_model_module_version": "1.5.0",
            "_model_name": "HTMLModel",
            "_view_count": null,
            "_view_module": "@jupyter-widgets/controls",
            "_view_module_version": "1.5.0",
            "_view_name": "HTMLView",
            "description": "",
            "description_tooltip": null,
            "layout": "IPY_MODEL_3c89949bf5e74a538988c7c97b984f90",
            "placeholder": "​",
            "style": "IPY_MODEL_313368531df347a188b75d69f423882a",
            "value": "pytorch_model.bin: 100%"
          }
        },
        "6c35cdc078bd4916a03a8722a9d8ee13": {
          "model_module": "@jupyter-widgets/controls",
          "model_module_version": "1.5.0",
          "model_name": "FloatProgressModel",
          "state": {
            "_dom_classes": [],
            "_model_module": "@jupyter-widgets/controls",
            "_model_module_version": "1.5.0",
            "_model_name": "FloatProgressModel",
            "_view_count": null,
            "_view_module": "@jupyter-widgets/controls",
            "_view_module_version": "1.5.0",
            "_view_name": "ProgressView",
            "bar_style": "success",
            "description": "",
            "description_tooltip": null,
            "layout": "IPY_MODEL_94dd8e8829e84a54aed8dc7af3356415",
            "max": 642,
            "min": 0,
            "orientation": "horizontal",
            "style": "IPY_MODEL_25c1e61a889941c1933609c49d084387",
            "value": 642
          }
        },
        "70d14dc8a77b4259bc53fc86f4ee44dd": {
          "model_module": "@jupyter-widgets/base",
          "model_module_version": "1.2.0",
          "model_name": "LayoutModel",
          "state": {
            "_model_module": "@jupyter-widgets/base",
            "_model_module_version": "1.2.0",
            "_model_name": "LayoutModel",
            "_view_count": null,
            "_view_module": "@jupyter-widgets/base",
            "_view_module_version": "1.2.0",
            "_view_name": "LayoutView",
            "align_content": null,
            "align_items": null,
            "align_self": null,
            "border": null,
            "bottom": null,
            "display": null,
            "flex": null,
            "flex_flow": null,
            "grid_area": null,
            "grid_auto_columns": null,
            "grid_auto_flow": null,
            "grid_auto_rows": null,
            "grid_column": null,
            "grid_gap": null,
            "grid_row": null,
            "grid_template_areas": null,
            "grid_template_columns": null,
            "grid_template_rows": null,
            "height": null,
            "justify_content": null,
            "justify_items": null,
            "left": null,
            "margin": null,
            "max_height": null,
            "max_width": null,
            "min_height": null,
            "min_width": null,
            "object_fit": null,
            "object_position": null,
            "order": null,
            "overflow": null,
            "overflow_x": null,
            "overflow_y": null,
            "padding": null,
            "right": null,
            "top": null,
            "visibility": null,
            "width": null
          }
        },
        "71e0abb5523a4fc59d847436b9739f42": {
          "model_module": "@jupyter-widgets/controls",
          "model_module_version": "1.5.0",
          "model_name": "HTMLModel",
          "state": {
            "_dom_classes": [],
            "_model_module": "@jupyter-widgets/controls",
            "_model_module_version": "1.5.0",
            "_model_name": "HTMLModel",
            "_view_count": null,
            "_view_module": "@jupyter-widgets/controls",
            "_view_module_version": "1.5.0",
            "_view_name": "HTMLView",
            "description": "",
            "description_tooltip": null,
            "layout": "IPY_MODEL_e76e9a8f77164dfaac7b14157cc2e8fd",
            "placeholder": "​",
            "style": "IPY_MODEL_ecf3cf76a53e4a21beafcf9dd3766579",
            "value": "config.json: 100%"
          }
        },
        "74ef943a2a3d471485cf65999bd20346": {
          "model_module": "@jupyter-widgets/base",
          "model_module_version": "1.2.0",
          "model_name": "LayoutModel",
          "state": {
            "_model_module": "@jupyter-widgets/base",
            "_model_module_version": "1.2.0",
            "_model_name": "LayoutModel",
            "_view_count": null,
            "_view_module": "@jupyter-widgets/base",
            "_view_module_version": "1.2.0",
            "_view_name": "LayoutView",
            "align_content": null,
            "align_items": null,
            "align_self": null,
            "border": null,
            "bottom": null,
            "display": null,
            "flex": null,
            "flex_flow": null,
            "grid_area": null,
            "grid_auto_columns": null,
            "grid_auto_flow": null,
            "grid_auto_rows": null,
            "grid_column": null,
            "grid_gap": null,
            "grid_row": null,
            "grid_template_areas": null,
            "grid_template_columns": null,
            "grid_template_rows": null,
            "height": null,
            "justify_content": null,
            "justify_items": null,
            "left": null,
            "margin": null,
            "max_height": null,
            "max_width": null,
            "min_height": null,
            "min_width": null,
            "object_fit": null,
            "object_position": null,
            "order": null,
            "overflow": null,
            "overflow_x": null,
            "overflow_y": null,
            "padding": null,
            "right": null,
            "top": null,
            "visibility": null,
            "width": null
          }
        },
        "762712fc210e4028babb503ea30ae258": {
          "model_module": "@jupyter-widgets/controls",
          "model_module_version": "1.5.0",
          "model_name": "DescriptionStyleModel",
          "state": {
            "_model_module": "@jupyter-widgets/controls",
            "_model_module_version": "1.5.0",
            "_model_name": "DescriptionStyleModel",
            "_view_count": null,
            "_view_module": "@jupyter-widgets/base",
            "_view_module_version": "1.2.0",
            "_view_name": "StyleView",
            "description_width": ""
          }
        },
        "85522df421f04d3b882f557a165b1905": {
          "model_module": "@jupyter-widgets/controls",
          "model_module_version": "1.5.0",
          "model_name": "ProgressStyleModel",
          "state": {
            "_model_module": "@jupyter-widgets/controls",
            "_model_module_version": "1.5.0",
            "_model_name": "ProgressStyleModel",
            "_view_count": null,
            "_view_module": "@jupyter-widgets/base",
            "_view_module_version": "1.2.0",
            "_view_name": "StyleView",
            "bar_color": null,
            "description_width": ""
          }
        },
        "8a553e5596a84943a883f14fa74622dd": {
          "model_module": "@jupyter-widgets/base",
          "model_module_version": "1.2.0",
          "model_name": "LayoutModel",
          "state": {
            "_model_module": "@jupyter-widgets/base",
            "_model_module_version": "1.2.0",
            "_model_name": "LayoutModel",
            "_view_count": null,
            "_view_module": "@jupyter-widgets/base",
            "_view_module_version": "1.2.0",
            "_view_name": "LayoutView",
            "align_content": null,
            "align_items": null,
            "align_self": null,
            "border": null,
            "bottom": null,
            "display": null,
            "flex": null,
            "flex_flow": null,
            "grid_area": null,
            "grid_auto_columns": null,
            "grid_auto_flow": null,
            "grid_auto_rows": null,
            "grid_column": null,
            "grid_gap": null,
            "grid_row": null,
            "grid_template_areas": null,
            "grid_template_columns": null,
            "grid_template_rows": null,
            "height": null,
            "justify_content": null,
            "justify_items": null,
            "left": null,
            "margin": null,
            "max_height": null,
            "max_width": null,
            "min_height": null,
            "min_width": null,
            "object_fit": null,
            "object_position": null,
            "order": null,
            "overflow": null,
            "overflow_x": null,
            "overflow_y": null,
            "padding": null,
            "right": null,
            "top": null,
            "visibility": null,
            "width": null
          }
        },
        "914df2c330eb499cbc558503547ab3da": {
          "model_module": "@jupyter-widgets/controls",
          "model_module_version": "1.5.0",
          "model_name": "HTMLModel",
          "state": {
            "_dom_classes": [],
            "_model_module": "@jupyter-widgets/controls",
            "_model_module_version": "1.5.0",
            "_model_name": "HTMLModel",
            "_view_count": null,
            "_view_module": "@jupyter-widgets/controls",
            "_view_module_version": "1.5.0",
            "_view_name": "HTMLView",
            "description": "",
            "description_tooltip": null,
            "layout": "IPY_MODEL_8a553e5596a84943a883f14fa74622dd",
            "placeholder": "​",
            "style": "IPY_MODEL_347cbe15a1504279895c1552eae3d19b",
            "value": " 112/112 [00:00&lt;00:00, 2.22kB/s]"
          }
        },
        "916f80e240c44cb898e3b476dea511e6": {
          "model_module": "@jupyter-widgets/base",
          "model_module_version": "1.2.0",
          "model_name": "LayoutModel",
          "state": {
            "_model_module": "@jupyter-widgets/base",
            "_model_module_version": "1.2.0",
            "_model_name": "LayoutModel",
            "_view_count": null,
            "_view_module": "@jupyter-widgets/base",
            "_view_module_version": "1.2.0",
            "_view_name": "LayoutView",
            "align_content": null,
            "align_items": null,
            "align_self": null,
            "border": null,
            "bottom": null,
            "display": null,
            "flex": null,
            "flex_flow": null,
            "grid_area": null,
            "grid_auto_columns": null,
            "grid_auto_flow": null,
            "grid_auto_rows": null,
            "grid_column": null,
            "grid_gap": null,
            "grid_row": null,
            "grid_template_areas": null,
            "grid_template_columns": null,
            "grid_template_rows": null,
            "height": null,
            "justify_content": null,
            "justify_items": null,
            "left": null,
            "margin": null,
            "max_height": null,
            "max_width": null,
            "min_height": null,
            "min_width": null,
            "object_fit": null,
            "object_position": null,
            "order": null,
            "overflow": null,
            "overflow_x": null,
            "overflow_y": null,
            "padding": null,
            "right": null,
            "top": null,
            "visibility": null,
            "width": null
          }
        },
        "94dd8e8829e84a54aed8dc7af3356415": {
          "model_module": "@jupyter-widgets/base",
          "model_module_version": "1.2.0",
          "model_name": "LayoutModel",
          "state": {
            "_model_module": "@jupyter-widgets/base",
            "_model_module_version": "1.2.0",
            "_model_name": "LayoutModel",
            "_view_count": null,
            "_view_module": "@jupyter-widgets/base",
            "_view_module_version": "1.2.0",
            "_view_name": "LayoutView",
            "align_content": null,
            "align_items": null,
            "align_self": null,
            "border": null,
            "bottom": null,
            "display": null,
            "flex": null,
            "flex_flow": null,
            "grid_area": null,
            "grid_auto_columns": null,
            "grid_auto_flow": null,
            "grid_auto_rows": null,
            "grid_column": null,
            "grid_gap": null,
            "grid_row": null,
            "grid_template_areas": null,
            "grid_template_columns": null,
            "grid_template_rows": null,
            "height": null,
            "justify_content": null,
            "justify_items": null,
            "left": null,
            "margin": null,
            "max_height": null,
            "max_width": null,
            "min_height": null,
            "min_width": null,
            "object_fit": null,
            "object_position": null,
            "order": null,
            "overflow": null,
            "overflow_x": null,
            "overflow_y": null,
            "padding": null,
            "right": null,
            "top": null,
            "visibility": null,
            "width": null
          }
        },
        "965745f3acc94ad581d4673fe52b95fc": {
          "model_module": "@jupyter-widgets/controls",
          "model_module_version": "1.5.0",
          "model_name": "HTMLModel",
          "state": {
            "_dom_classes": [],
            "_model_module": "@jupyter-widgets/controls",
            "_model_module_version": "1.5.0",
            "_model_name": "HTMLModel",
            "_view_count": null,
            "_view_module": "@jupyter-widgets/controls",
            "_view_module_version": "1.5.0",
            "_view_name": "HTMLView",
            "description": "",
            "description_tooltip": null,
            "layout": "IPY_MODEL_5a148865985c48fdbef67c7301864e0b",
            "placeholder": "​",
            "style": "IPY_MODEL_30e9108bf651420dac6b960ec062b213",
            "value": "vocab.txt: 100%"
          }
        },
        "9904c7a015b94e6989669eb22600553d": {
          "model_module": "@jupyter-widgets/controls",
          "model_module_version": "1.5.0",
          "model_name": "FloatProgressModel",
          "state": {
            "_dom_classes": [],
            "_model_module": "@jupyter-widgets/controls",
            "_model_module_version": "1.5.0",
            "_model_name": "FloatProgressModel",
            "_view_count": null,
            "_view_module": "@jupyter-widgets/controls",
            "_view_module_version": "1.5.0",
            "_view_name": "ProgressView",
            "bar_style": "success",
            "description": "",
            "description_tooltip": null,
            "layout": "IPY_MODEL_916f80e240c44cb898e3b476dea511e6",
            "max": 112,
            "min": 0,
            "orientation": "horizontal",
            "style": "IPY_MODEL_1093e05576eb40d8aef9bc4fdd9cd920",
            "value": 112
          }
        },
        "9a5db473f2044d2cb1b4ece942c4c61d": {
          "model_module": "@jupyter-widgets/controls",
          "model_module_version": "1.5.0",
          "model_name": "FloatProgressModel",
          "state": {
            "_dom_classes": [],
            "_model_module": "@jupyter-widgets/controls",
            "_model_module_version": "1.5.0",
            "_model_name": "FloatProgressModel",
            "_view_count": null,
            "_view_module": "@jupyter-widgets/controls",
            "_view_module_version": "1.5.0",
            "_view_name": "ProgressView",
            "bar_style": "success",
            "description": "",
            "description_tooltip": null,
            "layout": "IPY_MODEL_74ef943a2a3d471485cf65999bd20346",
            "max": 24,
            "min": 0,
            "orientation": "horizontal",
            "style": "IPY_MODEL_aba084b60dca4093abf0dc5d4a044043",
            "value": 24
          }
        },
        "9b51cb5226f84b3ba1456b7a13706370": {
          "model_module": "@jupyter-widgets/controls",
          "model_module_version": "1.5.0",
          "model_name": "HTMLModel",
          "state": {
            "_dom_classes": [],
            "_model_module": "@jupyter-widgets/controls",
            "_model_module_version": "1.5.0",
            "_model_name": "HTMLModel",
            "_view_count": null,
            "_view_module": "@jupyter-widgets/controls",
            "_view_module_version": "1.5.0",
            "_view_name": "HTMLView",
            "description": "",
            "description_tooltip": null,
            "layout": "IPY_MODEL_70d14dc8a77b4259bc53fc86f4ee44dd",
            "placeholder": "​",
            "style": "IPY_MODEL_0bea07216cfd4a24aaceb2535d396f55",
            "value": " 714M/714M [00:04&lt;00:00, 136MB/s]"
          }
        },
        "9e9deeedada54ce1a656b6106d1ffc1d": {
          "model_module": "@jupyter-widgets/base",
          "model_module_version": "1.2.0",
          "model_name": "LayoutModel",
          "state": {
            "_model_module": "@jupyter-widgets/base",
            "_model_module_version": "1.2.0",
            "_model_name": "LayoutModel",
            "_view_count": null,
            "_view_module": "@jupyter-widgets/base",
            "_view_module_version": "1.2.0",
            "_view_name": "LayoutView",
            "align_content": null,
            "align_items": null,
            "align_self": null,
            "border": null,
            "bottom": null,
            "display": null,
            "flex": null,
            "flex_flow": null,
            "grid_area": null,
            "grid_auto_columns": null,
            "grid_auto_flow": null,
            "grid_auto_rows": null,
            "grid_column": null,
            "grid_gap": null,
            "grid_row": null,
            "grid_template_areas": null,
            "grid_template_columns": null,
            "grid_template_rows": null,
            "height": null,
            "justify_content": null,
            "justify_items": null,
            "left": null,
            "margin": null,
            "max_height": null,
            "max_width": null,
            "min_height": null,
            "min_width": null,
            "object_fit": null,
            "object_position": null,
            "order": null,
            "overflow": null,
            "overflow_x": null,
            "overflow_y": null,
            "padding": null,
            "right": null,
            "top": null,
            "visibility": null,
            "width": null
          }
        },
        "9f9aacfc6a3e490d98c66ce5a608fa09": {
          "model_module": "@jupyter-widgets/controls",
          "model_module_version": "1.5.0",
          "model_name": "HBoxModel",
          "state": {
            "_dom_classes": [],
            "_model_module": "@jupyter-widgets/controls",
            "_model_module_version": "1.5.0",
            "_model_name": "HBoxModel",
            "_view_count": null,
            "_view_module": "@jupyter-widgets/controls",
            "_view_module_version": "1.5.0",
            "_view_name": "HBoxView",
            "box_style": "",
            "children": [
              "IPY_MODEL_965745f3acc94ad581d4673fe52b95fc",
              "IPY_MODEL_24a6e64c802e430486d43bd489077fd9",
              "IPY_MODEL_a0c7d1d1b24a4185b002ea74de2d55bd"
            ],
            "layout": "IPY_MODEL_64c0be26230f4533a797803b717c16bc"
          }
        },
        "a0c7d1d1b24a4185b002ea74de2d55bd": {
          "model_module": "@jupyter-widgets/controls",
          "model_module_version": "1.5.0",
          "model_name": "HTMLModel",
          "state": {
            "_dom_classes": [],
            "_model_module": "@jupyter-widgets/controls",
            "_model_module_version": "1.5.0",
            "_model_name": "HTMLModel",
            "_view_count": null,
            "_view_module": "@jupyter-widgets/controls",
            "_view_module_version": "1.5.0",
            "_view_name": "HTMLView",
            "description": "",
            "description_tooltip": null,
            "layout": "IPY_MODEL_fa8268d3eed64496a7b0d16e5af3aa77",
            "placeholder": "​",
            "style": "IPY_MODEL_c3cb686e9ebf47f9bd2dfae3ed2d96ff",
            "value": " 1.65M/1.65M [00:00&lt;00:00, 6.44MB/s]"
          }
        },
        "a935447468494c539d112a6fef7281f1": {
          "model_module": "@jupyter-widgets/base",
          "model_module_version": "1.2.0",
          "model_name": "LayoutModel",
          "state": {
            "_model_module": "@jupyter-widgets/base",
            "_model_module_version": "1.2.0",
            "_model_name": "LayoutModel",
            "_view_count": null,
            "_view_module": "@jupyter-widgets/base",
            "_view_module_version": "1.2.0",
            "_view_name": "LayoutView",
            "align_content": null,
            "align_items": null,
            "align_self": null,
            "border": null,
            "bottom": null,
            "display": null,
            "flex": null,
            "flex_flow": null,
            "grid_area": null,
            "grid_auto_columns": null,
            "grid_auto_flow": null,
            "grid_auto_rows": null,
            "grid_column": null,
            "grid_gap": null,
            "grid_row": null,
            "grid_template_areas": null,
            "grid_template_columns": null,
            "grid_template_rows": null,
            "height": null,
            "justify_content": null,
            "justify_items": null,
            "left": null,
            "margin": null,
            "max_height": null,
            "max_width": null,
            "min_height": null,
            "min_width": null,
            "object_fit": null,
            "object_position": null,
            "order": null,
            "overflow": null,
            "overflow_x": null,
            "overflow_y": null,
            "padding": null,
            "right": null,
            "top": null,
            "visibility": null,
            "width": null
          }
        },
        "aa094e2428994448a0ca05e82431ec3d": {
          "model_module": "@jupyter-widgets/controls",
          "model_module_version": "1.5.0",
          "model_name": "ProgressStyleModel",
          "state": {
            "_model_module": "@jupyter-widgets/controls",
            "_model_module_version": "1.5.0",
            "_model_name": "ProgressStyleModel",
            "_view_count": null,
            "_view_module": "@jupyter-widgets/base",
            "_view_module_version": "1.2.0",
            "_view_name": "StyleView",
            "bar_color": null,
            "description_width": ""
          }
        },
        "aba084b60dca4093abf0dc5d4a044043": {
          "model_module": "@jupyter-widgets/controls",
          "model_module_version": "1.5.0",
          "model_name": "ProgressStyleModel",
          "state": {
            "_model_module": "@jupyter-widgets/controls",
            "_model_module_version": "1.5.0",
            "_model_name": "ProgressStyleModel",
            "_view_count": null,
            "_view_module": "@jupyter-widgets/base",
            "_view_module_version": "1.2.0",
            "_view_name": "StyleView",
            "bar_color": null,
            "description_width": ""
          }
        },
        "b44909c4279a4004818a31e245e000b1": {
          "model_module": "@jupyter-widgets/controls",
          "model_module_version": "1.5.0",
          "model_name": "HBoxModel",
          "state": {
            "_dom_classes": [],
            "_model_module": "@jupyter-widgets/controls",
            "_model_module_version": "1.5.0",
            "_model_name": "HBoxModel",
            "_view_count": null,
            "_view_module": "@jupyter-widgets/controls",
            "_view_module_version": "1.5.0",
            "_view_name": "HBoxView",
            "box_style": "",
            "children": [
              "IPY_MODEL_6bba0038994c4607a47bf5ccae819e79",
              "IPY_MODEL_39321054b37a4a52bb07d62e85ddfe34",
              "IPY_MODEL_4c63a1df6fa04158a1a3ead2fc4b13e9"
            ],
            "layout": "IPY_MODEL_a935447468494c539d112a6fef7281f1"
          }
        },
        "c2a16b7902c84a2883b877bf82278878": {
          "model_module": "@jupyter-widgets/controls",
          "model_module_version": "1.5.0",
          "model_name": "HTMLModel",
          "state": {
            "_dom_classes": [],
            "_model_module": "@jupyter-widgets/controls",
            "_model_module_version": "1.5.0",
            "_model_name": "HTMLModel",
            "_view_count": null,
            "_view_module": "@jupyter-widgets/controls",
            "_view_module_version": "1.5.0",
            "_view_name": "HTMLView",
            "description": "",
            "description_tooltip": null,
            "layout": "IPY_MODEL_d8a453782e4b48868d9680296c73d19f",
            "placeholder": "​",
            "style": "IPY_MODEL_762712fc210e4028babb503ea30ae258",
            "value": "model.safetensors: 100%"
          }
        },
        "c3cb686e9ebf47f9bd2dfae3ed2d96ff": {
          "model_module": "@jupyter-widgets/controls",
          "model_module_version": "1.5.0",
          "model_name": "DescriptionStyleModel",
          "state": {
            "_model_module": "@jupyter-widgets/controls",
            "_model_module_version": "1.5.0",
            "_model_name": "DescriptionStyleModel",
            "_view_count": null,
            "_view_module": "@jupyter-widgets/base",
            "_view_module_version": "1.2.0",
            "_view_name": "StyleView",
            "description_width": ""
          }
        },
        "c4db2eed96a74c5c8d3611265a8c4850": {
          "model_module": "@jupyter-widgets/controls",
          "model_module_version": "1.5.0",
          "model_name": "HTMLModel",
          "state": {
            "_dom_classes": [],
            "_model_module": "@jupyter-widgets/controls",
            "_model_module_version": "1.5.0",
            "_model_name": "HTMLModel",
            "_view_count": null,
            "_view_module": "@jupyter-widgets/controls",
            "_view_module_version": "1.5.0",
            "_view_name": "HTMLView",
            "description": "",
            "description_tooltip": null,
            "layout": "IPY_MODEL_d0f40db709e547a99b057f09d7573d21",
            "placeholder": "​",
            "style": "IPY_MODEL_da8f160e2c4e4f61be59036aa6f3f3ac",
            "value": " 642/642 [00:00&lt;00:00, 16.9kB/s]"
          }
        },
        "c9de5e26233843bd81bfc46e2223e99a": {
          "model_module": "@jupyter-widgets/base",
          "model_module_version": "1.2.0",
          "model_name": "LayoutModel",
          "state": {
            "_model_module": "@jupyter-widgets/base",
            "_model_module_version": "1.2.0",
            "_model_name": "LayoutModel",
            "_view_count": null,
            "_view_module": "@jupyter-widgets/base",
            "_view_module_version": "1.2.0",
            "_view_name": "LayoutView",
            "align_content": null,
            "align_items": null,
            "align_self": null,
            "border": null,
            "bottom": null,
            "display": null,
            "flex": null,
            "flex_flow": null,
            "grid_area": null,
            "grid_auto_columns": null,
            "grid_auto_flow": null,
            "grid_auto_rows": null,
            "grid_column": null,
            "grid_gap": null,
            "grid_row": null,
            "grid_template_areas": null,
            "grid_template_columns": null,
            "grid_template_rows": null,
            "height": null,
            "justify_content": null,
            "justify_items": null,
            "left": null,
            "margin": null,
            "max_height": null,
            "max_width": null,
            "min_height": null,
            "min_width": null,
            "object_fit": null,
            "object_position": null,
            "order": null,
            "overflow": null,
            "overflow_x": null,
            "overflow_y": null,
            "padding": null,
            "right": null,
            "top": null,
            "visibility": null,
            "width": null
          }
        },
        "ca72afc473e043e78a83c65ce6267068": {
          "model_module": "@jupyter-widgets/base",
          "model_module_version": "1.2.0",
          "model_name": "LayoutModel",
          "state": {
            "_model_module": "@jupyter-widgets/base",
            "_model_module_version": "1.2.0",
            "_model_name": "LayoutModel",
            "_view_count": null,
            "_view_module": "@jupyter-widgets/base",
            "_view_module_version": "1.2.0",
            "_view_name": "LayoutView",
            "align_content": null,
            "align_items": null,
            "align_self": null,
            "border": null,
            "bottom": null,
            "display": null,
            "flex": null,
            "flex_flow": null,
            "grid_area": null,
            "grid_auto_columns": null,
            "grid_auto_flow": null,
            "grid_auto_rows": null,
            "grid_column": null,
            "grid_gap": null,
            "grid_row": null,
            "grid_template_areas": null,
            "grid_template_columns": null,
            "grid_template_rows": null,
            "height": null,
            "justify_content": null,
            "justify_items": null,
            "left": null,
            "margin": null,
            "max_height": null,
            "max_width": null,
            "min_height": null,
            "min_width": null,
            "object_fit": null,
            "object_position": null,
            "order": null,
            "overflow": null,
            "overflow_x": null,
            "overflow_y": null,
            "padding": null,
            "right": null,
            "top": null,
            "visibility": null,
            "width": null
          }
        },
        "cb730c284dac401aa7451272599d3dd2": {
          "model_module": "@jupyter-widgets/controls",
          "model_module_version": "1.5.0",
          "model_name": "HTMLModel",
          "state": {
            "_dom_classes": [],
            "_model_module": "@jupyter-widgets/controls",
            "_model_module_version": "1.5.0",
            "_model_name": "HTMLModel",
            "_view_count": null,
            "_view_module": "@jupyter-widgets/controls",
            "_view_module_version": "1.5.0",
            "_view_name": "HTMLView",
            "description": "",
            "description_tooltip": null,
            "layout": "IPY_MODEL_6451998757f84a60b09458457d373dc3",
            "placeholder": "​",
            "style": "IPY_MODEL_09ff0d2ab411440eb38e79c87e839d24",
            "value": "tokenizer_config.json: 100%"
          }
        },
        "d0f40db709e547a99b057f09d7573d21": {
          "model_module": "@jupyter-widgets/base",
          "model_module_version": "1.2.0",
          "model_name": "LayoutModel",
          "state": {
            "_model_module": "@jupyter-widgets/base",
            "_model_module_version": "1.2.0",
            "_model_name": "LayoutModel",
            "_view_count": null,
            "_view_module": "@jupyter-widgets/base",
            "_view_module_version": "1.2.0",
            "_view_name": "LayoutView",
            "align_content": null,
            "align_items": null,
            "align_self": null,
            "border": null,
            "bottom": null,
            "display": null,
            "flex": null,
            "flex_flow": null,
            "grid_area": null,
            "grid_auto_columns": null,
            "grid_auto_flow": null,
            "grid_auto_rows": null,
            "grid_column": null,
            "grid_gap": null,
            "grid_row": null,
            "grid_template_areas": null,
            "grid_template_columns": null,
            "grid_template_rows": null,
            "height": null,
            "justify_content": null,
            "justify_items": null,
            "left": null,
            "margin": null,
            "max_height": null,
            "max_width": null,
            "min_height": null,
            "min_width": null,
            "object_fit": null,
            "object_position": null,
            "order": null,
            "overflow": null,
            "overflow_x": null,
            "overflow_y": null,
            "padding": null,
            "right": null,
            "top": null,
            "visibility": null,
            "width": null
          }
        },
        "d6c2adc2e5a343ab967bc1da2390ed51": {
          "model_module": "@jupyter-widgets/base",
          "model_module_version": "1.2.0",
          "model_name": "LayoutModel",
          "state": {
            "_model_module": "@jupyter-widgets/base",
            "_model_module_version": "1.2.0",
            "_model_name": "LayoutModel",
            "_view_count": null,
            "_view_module": "@jupyter-widgets/base",
            "_view_module_version": "1.2.0",
            "_view_name": "LayoutView",
            "align_content": null,
            "align_items": null,
            "align_self": null,
            "border": null,
            "bottom": null,
            "display": null,
            "flex": null,
            "flex_flow": null,
            "grid_area": null,
            "grid_auto_columns": null,
            "grid_auto_flow": null,
            "grid_auto_rows": null,
            "grid_column": null,
            "grid_gap": null,
            "grid_row": null,
            "grid_template_areas": null,
            "grid_template_columns": null,
            "grid_template_rows": null,
            "height": null,
            "justify_content": null,
            "justify_items": null,
            "left": null,
            "margin": null,
            "max_height": null,
            "max_width": null,
            "min_height": null,
            "min_width": null,
            "object_fit": null,
            "object_position": null,
            "order": null,
            "overflow": null,
            "overflow_x": null,
            "overflow_y": null,
            "padding": null,
            "right": null,
            "top": null,
            "visibility": null,
            "width": null
          }
        },
        "d6d38ef351b844ec9290f66a313505d2": {
          "model_module": "@jupyter-widgets/controls",
          "model_module_version": "1.5.0",
          "model_name": "HBoxModel",
          "state": {
            "_dom_classes": [],
            "_model_module": "@jupyter-widgets/controls",
            "_model_module_version": "1.5.0",
            "_model_name": "HBoxModel",
            "_view_count": null,
            "_view_module": "@jupyter-widgets/controls",
            "_view_module_version": "1.5.0",
            "_view_name": "HBoxView",
            "box_style": "",
            "children": [
              "IPY_MODEL_c2a16b7902c84a2883b877bf82278878",
              "IPY_MODEL_227775f906114e1183c8bbe0b298d211",
              "IPY_MODEL_9b51cb5226f84b3ba1456b7a13706370"
            ],
            "layout": "IPY_MODEL_d6c2adc2e5a343ab967bc1da2390ed51"
          }
        },
        "d7168d1c580e4b53b7756faffd3ffa22": {
          "model_module": "@jupyter-widgets/controls",
          "model_module_version": "1.5.0",
          "model_name": "HTMLModel",
          "state": {
            "_dom_classes": [],
            "_model_module": "@jupyter-widgets/controls",
            "_model_module_version": "1.5.0",
            "_model_name": "HTMLModel",
            "_view_count": null,
            "_view_module": "@jupyter-widgets/controls",
            "_view_module_version": "1.5.0",
            "_view_name": "HTMLView",
            "description": "",
            "description_tooltip": null,
            "layout": "IPY_MODEL_df53acc883884d18856758425592ec1b",
            "placeholder": "​",
            "style": "IPY_MODEL_e734e4a021094684b0d2199cb0e6cae1",
            "value": "special_tokens_map.json: 100%"
          }
        },
        "d8a453782e4b48868d9680296c73d19f": {
          "model_module": "@jupyter-widgets/base",
          "model_module_version": "1.2.0",
          "model_name": "LayoutModel",
          "state": {
            "_model_module": "@jupyter-widgets/base",
            "_model_module_version": "1.2.0",
            "_model_name": "LayoutModel",
            "_view_count": null,
            "_view_module": "@jupyter-widgets/base",
            "_view_module_version": "1.2.0",
            "_view_name": "LayoutView",
            "align_content": null,
            "align_items": null,
            "align_self": null,
            "border": null,
            "bottom": null,
            "display": null,
            "flex": null,
            "flex_flow": null,
            "grid_area": null,
            "grid_auto_columns": null,
            "grid_auto_flow": null,
            "grid_auto_rows": null,
            "grid_column": null,
            "grid_gap": null,
            "grid_row": null,
            "grid_template_areas": null,
            "grid_template_columns": null,
            "grid_template_rows": null,
            "height": null,
            "justify_content": null,
            "justify_items": null,
            "left": null,
            "margin": null,
            "max_height": null,
            "max_width": null,
            "min_height": null,
            "min_width": null,
            "object_fit": null,
            "object_position": null,
            "order": null,
            "overflow": null,
            "overflow_x": null,
            "overflow_y": null,
            "padding": null,
            "right": null,
            "top": null,
            "visibility": null,
            "width": null
          }
        },
        "da44de09a6b84607a44e694e228f5004": {
          "model_module": "@jupyter-widgets/controls",
          "model_module_version": "1.5.0",
          "model_name": "ProgressStyleModel",
          "state": {
            "_model_module": "@jupyter-widgets/controls",
            "_model_module_version": "1.5.0",
            "_model_name": "ProgressStyleModel",
            "_view_count": null,
            "_view_module": "@jupyter-widgets/base",
            "_view_module_version": "1.2.0",
            "_view_name": "StyleView",
            "bar_color": null,
            "description_width": ""
          }
        },
        "da8f160e2c4e4f61be59036aa6f3f3ac": {
          "model_module": "@jupyter-widgets/controls",
          "model_module_version": "1.5.0",
          "model_name": "DescriptionStyleModel",
          "state": {
            "_model_module": "@jupyter-widgets/controls",
            "_model_module_version": "1.5.0",
            "_model_name": "DescriptionStyleModel",
            "_view_count": null,
            "_view_module": "@jupyter-widgets/base",
            "_view_module_version": "1.2.0",
            "_view_name": "StyleView",
            "description_width": ""
          }
        },
        "dc36f8779f544602953b3de4099882f2": {
          "model_module": "@jupyter-widgets/base",
          "model_module_version": "1.2.0",
          "model_name": "LayoutModel",
          "state": {
            "_model_module": "@jupyter-widgets/base",
            "_model_module_version": "1.2.0",
            "_model_name": "LayoutModel",
            "_view_count": null,
            "_view_module": "@jupyter-widgets/base",
            "_view_module_version": "1.2.0",
            "_view_name": "LayoutView",
            "align_content": null,
            "align_items": null,
            "align_self": null,
            "border": null,
            "bottom": null,
            "display": null,
            "flex": null,
            "flex_flow": null,
            "grid_area": null,
            "grid_auto_columns": null,
            "grid_auto_flow": null,
            "grid_auto_rows": null,
            "grid_column": null,
            "grid_gap": null,
            "grid_row": null,
            "grid_template_areas": null,
            "grid_template_columns": null,
            "grid_template_rows": null,
            "height": null,
            "justify_content": null,
            "justify_items": null,
            "left": null,
            "margin": null,
            "max_height": null,
            "max_width": null,
            "min_height": null,
            "min_width": null,
            "object_fit": null,
            "object_position": null,
            "order": null,
            "overflow": null,
            "overflow_x": null,
            "overflow_y": null,
            "padding": null,
            "right": null,
            "top": null,
            "visibility": null,
            "width": null
          }
        },
        "df1454c2b3884461a172b8f869e5c795": {
          "model_module": "@jupyter-widgets/base",
          "model_module_version": "1.2.0",
          "model_name": "LayoutModel",
          "state": {
            "_model_module": "@jupyter-widgets/base",
            "_model_module_version": "1.2.0",
            "_model_name": "LayoutModel",
            "_view_count": null,
            "_view_module": "@jupyter-widgets/base",
            "_view_module_version": "1.2.0",
            "_view_name": "LayoutView",
            "align_content": null,
            "align_items": null,
            "align_self": null,
            "border": null,
            "bottom": null,
            "display": null,
            "flex": null,
            "flex_flow": null,
            "grid_area": null,
            "grid_auto_columns": null,
            "grid_auto_flow": null,
            "grid_auto_rows": null,
            "grid_column": null,
            "grid_gap": null,
            "grid_row": null,
            "grid_template_areas": null,
            "grid_template_columns": null,
            "grid_template_rows": null,
            "height": null,
            "justify_content": null,
            "justify_items": null,
            "left": null,
            "margin": null,
            "max_height": null,
            "max_width": null,
            "min_height": null,
            "min_width": null,
            "object_fit": null,
            "object_position": null,
            "order": null,
            "overflow": null,
            "overflow_x": null,
            "overflow_y": null,
            "padding": null,
            "right": null,
            "top": null,
            "visibility": null,
            "width": null
          }
        },
        "df53acc883884d18856758425592ec1b": {
          "model_module": "@jupyter-widgets/base",
          "model_module_version": "1.2.0",
          "model_name": "LayoutModel",
          "state": {
            "_model_module": "@jupyter-widgets/base",
            "_model_module_version": "1.2.0",
            "_model_name": "LayoutModel",
            "_view_count": null,
            "_view_module": "@jupyter-widgets/base",
            "_view_module_version": "1.2.0",
            "_view_name": "LayoutView",
            "align_content": null,
            "align_items": null,
            "align_self": null,
            "border": null,
            "bottom": null,
            "display": null,
            "flex": null,
            "flex_flow": null,
            "grid_area": null,
            "grid_auto_columns": null,
            "grid_auto_flow": null,
            "grid_auto_rows": null,
            "grid_column": null,
            "grid_gap": null,
            "grid_row": null,
            "grid_template_areas": null,
            "grid_template_columns": null,
            "grid_template_rows": null,
            "height": null,
            "justify_content": null,
            "justify_items": null,
            "left": null,
            "margin": null,
            "max_height": null,
            "max_width": null,
            "min_height": null,
            "min_width": null,
            "object_fit": null,
            "object_position": null,
            "order": null,
            "overflow": null,
            "overflow_x": null,
            "overflow_y": null,
            "padding": null,
            "right": null,
            "top": null,
            "visibility": null,
            "width": null
          }
        },
        "e108d7ce55164cbd9bce4a79c7e4d551": {
          "model_module": "@jupyter-widgets/controls",
          "model_module_version": "1.5.0",
          "model_name": "HTMLModel",
          "state": {
            "_dom_classes": [],
            "_model_module": "@jupyter-widgets/controls",
            "_model_module_version": "1.5.0",
            "_model_name": "HTMLModel",
            "_view_count": null,
            "_view_module": "@jupyter-widgets/controls",
            "_view_module_version": "1.5.0",
            "_view_name": "HTMLView",
            "description": "",
            "description_tooltip": null,
            "layout": "IPY_MODEL_c9de5e26233843bd81bfc46e2223e99a",
            "placeholder": "​",
            "style": "IPY_MODEL_4974bea98b1143c0a2b29933627528af",
            "value": " 24.0/24.0 [00:00&lt;00:00, 1.16kB/s]"
          }
        },
        "e734e4a021094684b0d2199cb0e6cae1": {
          "model_module": "@jupyter-widgets/controls",
          "model_module_version": "1.5.0",
          "model_name": "DescriptionStyleModel",
          "state": {
            "_model_module": "@jupyter-widgets/controls",
            "_model_module_version": "1.5.0",
            "_model_name": "DescriptionStyleModel",
            "_view_count": null,
            "_view_module": "@jupyter-widgets/base",
            "_view_module_version": "1.2.0",
            "_view_name": "StyleView",
            "description_width": ""
          }
        },
        "e76e9a8f77164dfaac7b14157cc2e8fd": {
          "model_module": "@jupyter-widgets/base",
          "model_module_version": "1.2.0",
          "model_name": "LayoutModel",
          "state": {
            "_model_module": "@jupyter-widgets/base",
            "_model_module_version": "1.2.0",
            "_model_name": "LayoutModel",
            "_view_count": null,
            "_view_module": "@jupyter-widgets/base",
            "_view_module_version": "1.2.0",
            "_view_name": "LayoutView",
            "align_content": null,
            "align_items": null,
            "align_self": null,
            "border": null,
            "bottom": null,
            "display": null,
            "flex": null,
            "flex_flow": null,
            "grid_area": null,
            "grid_auto_columns": null,
            "grid_auto_flow": null,
            "grid_auto_rows": null,
            "grid_column": null,
            "grid_gap": null,
            "grid_row": null,
            "grid_template_areas": null,
            "grid_template_columns": null,
            "grid_template_rows": null,
            "height": null,
            "justify_content": null,
            "justify_items": null,
            "left": null,
            "margin": null,
            "max_height": null,
            "max_width": null,
            "min_height": null,
            "min_width": null,
            "object_fit": null,
            "object_position": null,
            "order": null,
            "overflow": null,
            "overflow_x": null,
            "overflow_y": null,
            "padding": null,
            "right": null,
            "top": null,
            "visibility": null,
            "width": null
          }
        },
        "e964d51e704549d1b7c7ec8f74d89a3d": {
          "model_module": "@jupyter-widgets/controls",
          "model_module_version": "1.5.0",
          "model_name": "HBoxModel",
          "state": {
            "_dom_classes": [],
            "_model_module": "@jupyter-widgets/controls",
            "_model_module_version": "1.5.0",
            "_model_name": "HBoxModel",
            "_view_count": null,
            "_view_module": "@jupyter-widgets/controls",
            "_view_module_version": "1.5.0",
            "_view_name": "HBoxView",
            "box_style": "",
            "children": [
              "IPY_MODEL_cb730c284dac401aa7451272599d3dd2",
              "IPY_MODEL_9a5db473f2044d2cb1b4ece942c4c61d",
              "IPY_MODEL_e108d7ce55164cbd9bce4a79c7e4d551"
            ],
            "layout": "IPY_MODEL_0557ae8af7df4d89bef02b83a4cfa7c8"
          }
        },
        "ecf3cf76a53e4a21beafcf9dd3766579": {
          "model_module": "@jupyter-widgets/controls",
          "model_module_version": "1.5.0",
          "model_name": "DescriptionStyleModel",
          "state": {
            "_model_module": "@jupyter-widgets/controls",
            "_model_module_version": "1.5.0",
            "_model_name": "DescriptionStyleModel",
            "_view_count": null,
            "_view_module": "@jupyter-widgets/base",
            "_view_module_version": "1.2.0",
            "_view_name": "StyleView",
            "description_width": ""
          }
        },
        "ee3353e5051543878e68d41033ef2b8f": {
          "model_module": "@jupyter-widgets/base",
          "model_module_version": "1.2.0",
          "model_name": "LayoutModel",
          "state": {
            "_model_module": "@jupyter-widgets/base",
            "_model_module_version": "1.2.0",
            "_model_name": "LayoutModel",
            "_view_count": null,
            "_view_module": "@jupyter-widgets/base",
            "_view_module_version": "1.2.0",
            "_view_name": "LayoutView",
            "align_content": null,
            "align_items": null,
            "align_self": null,
            "border": null,
            "bottom": null,
            "display": null,
            "flex": null,
            "flex_flow": null,
            "grid_area": null,
            "grid_auto_columns": null,
            "grid_auto_flow": null,
            "grid_auto_rows": null,
            "grid_column": null,
            "grid_gap": null,
            "grid_row": null,
            "grid_template_areas": null,
            "grid_template_columns": null,
            "grid_template_rows": null,
            "height": null,
            "justify_content": null,
            "justify_items": null,
            "left": null,
            "margin": null,
            "max_height": null,
            "max_width": null,
            "min_height": null,
            "min_width": null,
            "object_fit": null,
            "object_position": null,
            "order": null,
            "overflow": null,
            "overflow_x": null,
            "overflow_y": null,
            "padding": null,
            "right": null,
            "top": null,
            "visibility": null,
            "width": null
          }
        },
        "fa8268d3eed64496a7b0d16e5af3aa77": {
          "model_module": "@jupyter-widgets/base",
          "model_module_version": "1.2.0",
          "model_name": "LayoutModel",
          "state": {
            "_model_module": "@jupyter-widgets/base",
            "_model_module_version": "1.2.0",
            "_model_name": "LayoutModel",
            "_view_count": null,
            "_view_module": "@jupyter-widgets/base",
            "_view_module_version": "1.2.0",
            "_view_name": "LayoutView",
            "align_content": null,
            "align_items": null,
            "align_self": null,
            "border": null,
            "bottom": null,
            "display": null,
            "flex": null,
            "flex_flow": null,
            "grid_area": null,
            "grid_auto_columns": null,
            "grid_auto_flow": null,
            "grid_auto_rows": null,
            "grid_column": null,
            "grid_gap": null,
            "grid_row": null,
            "grid_template_areas": null,
            "grid_template_columns": null,
            "grid_template_rows": null,
            "height": null,
            "justify_content": null,
            "justify_items": null,
            "left": null,
            "margin": null,
            "max_height": null,
            "max_width": null,
            "min_height": null,
            "min_width": null,
            "object_fit": null,
            "object_position": null,
            "order": null,
            "overflow": null,
            "overflow_x": null,
            "overflow_y": null,
            "padding": null,
            "right": null,
            "top": null,
            "visibility": null,
            "width": null
          }
        },
        "fb322cdcdda245b5becdaaa58a7ae53b": {
          "model_module": "@jupyter-widgets/controls",
          "model_module_version": "1.5.0",
          "model_name": "HBoxModel",
          "state": {
            "_dom_classes": [],
            "_model_module": "@jupyter-widgets/controls",
            "_model_module_version": "1.5.0",
            "_model_name": "HBoxModel",
            "_view_count": null,
            "_view_module": "@jupyter-widgets/controls",
            "_view_module_version": "1.5.0",
            "_view_name": "HBoxView",
            "box_style": "",
            "children": [
              "IPY_MODEL_d7168d1c580e4b53b7756faffd3ffa22",
              "IPY_MODEL_9904c7a015b94e6989669eb22600553d",
              "IPY_MODEL_914df2c330eb499cbc558503547ab3da"
            ],
            "layout": "IPY_MODEL_dc36f8779f544602953b3de4099882f2"
          }
        }
      }
    }
  },
  "nbformat": 4,
  "nbformat_minor": 0
}